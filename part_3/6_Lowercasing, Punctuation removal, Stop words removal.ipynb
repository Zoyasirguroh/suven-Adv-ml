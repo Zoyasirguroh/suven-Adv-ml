{
 "cells": [
  {
   "cell_type": "markdown",
   "metadata": {},
   "source": [
    "Lowercasing, Punctuation removal, Stop words removal\n",
    "--------------------------------------------------------------------------------\n",
    "\n",
    "A> Converting Text Data to Lowercase\n",
    "-------------------------------------------------------\n",
    "In this code, we are going to discuss how to lowercase the text data in\n",
    "order to have all the data in a uniform format and to make sure “NLP” and\n",
    "“nlp” are treated as the same.\n",
    "\n",
    "Problem\n",
    "------------\n",
    "How to lowercase the text data?\n",
    "\n",
    "Solution\n",
    "------------\n",
    "The simplest way to do this is by using the default lower() function in\n",
    "Python.\n",
    "\n",
    "The lower() method converts all uppercase characters in a string into\n",
    "lowercase characters and returns them."
   ]
  },
  {
   "cell_type": "code",
   "execution_count": 10,
   "metadata": {},
   "outputs": [
    {
     "name": "stdout",
     "output_type": "stream",
     "text": [
      "                                               tweet\n",
      "0                        This is introduction to NLP\n",
      "1              It is likely to be useful, to people \n",
      "2             Machine learning is the new electrcity\n",
      "3  There would be less hype around AI and more ac...\n",
      "4                           python is the best tool!\n",
      "5                                R is good langauage\n",
      "6                                   I like this book\n",
      "7                        I want more books like this\n"
     ]
    }
   ],
   "source": [
    "text=['This is introduction to NLP','It is likely to be useful, to people ','Machine learning is the new electrcity','There would be less hype around AI and more action going forward','python is the best tool!','R is good langauage','I like this book','I want more books like this']\n",
    "\n",
    "#convert list to data frame\n",
    "import pandas as pd\n",
    "df = pd.DataFrame({'tweet':text})\n",
    "print(df)"
   ]
  },
  {
   "cell_type": "code",
   "execution_count": 11,
   "metadata": {},
   "outputs": [
    {
     "name": "stdout",
     "output_type": "stream",
     "text": [
      "testing\n"
     ]
    }
   ],
   "source": [
    "# Execute lower() function on the text data\n",
    "# When there is just the string, apply the lower() function directly as shown below:\n",
    "x = 'Testing'\n",
    "x2 = x.lower()\n",
    "print(x2)\n",
    "\n",
    "# but we cannot directly apply the lower() on a dataframe !!!"
   ]
  },
  {
   "cell_type": "code",
   "execution_count": 12,
   "metadata": {},
   "outputs": [
    {
     "data": {
      "text/plain": [
       "0                          this is introduction to nlp\n",
       "1                 it is likely to be useful, to people\n",
       "2               machine learning is the new electrcity\n",
       "3    there would be less hype around ai and more ac...\n",
       "4                             python is the best tool!\n",
       "5                                  r is good langauage\n",
       "6                                     i like this book\n",
       "7                          i want more books like this\n",
       "Name: tweet, dtype: object"
      ]
     },
     "execution_count": 12,
     "metadata": {},
     "output_type": "execute_result"
    }
   ],
   "source": [
    "# When you want to perform lowercasing on a data frame, \n",
    "# use the apply function as shown below:\n",
    "df['tweet'] = df['tweet'].apply(lambda x: \" \".join(x.lower() for x in x.split()))\n",
    "df['tweet']"
   ]
  },
  {
   "cell_type": "markdown",
   "metadata": {},
   "source": [
    "B> Removing Punctuation\n",
    "---------------------------------\n",
    "In this code, we are going to discuss how to remove punctuation from the\n",
    "text data. This step is very important as punctuation doesn’t add any extra\n",
    "information or value. Hence removal of all such instances will help reduce\n",
    "the size of the data and increase computational efficiency.\n",
    "\n",
    "Problem\n",
    "------------\n",
    "You want to remove punctuation from the text data.\n",
    "\n",
    "Solution\n",
    "------------\n",
    "The simplest way to do this is by using the regex and replace() function in\n",
    "Python."
   ]
  },
  {
   "cell_type": "code",
   "execution_count": 13,
   "metadata": {},
   "outputs": [
    {
     "name": "stdout",
     "output_type": "stream",
     "text": [
      "                                               tweet\n",
      "0                        This is introduction to NLP\n",
      "1              It is likely to be useful, to people \n",
      "2             Machine learning is the new electrcity\n",
      "3  There would be less hype around AI and more ac...\n",
      "4                           python is the best tool!\n",
      "5                                R is good langauage\n",
      "6                                   I like this book\n",
      "7                        I want more books like this\n"
     ]
    }
   ],
   "source": [
    "text=['This is introduction to NLP','It is likely to be useful, to people ','Machine learning is the new electrcity', 'There would be less hype around AI and more action going forward','python is the best tool!','R is good langauage', 'I like this book','I want more books like this']\n",
    "\n",
    "#convert list to dataframe\n",
    "## type your code here\n",
    "\n",
    "\n",
    "import pandas as pd\n",
    "df = pd.DataFrame({'tweet':text})\n",
    "print(df)\n"
   ]
  },
  {
   "cell_type": "code",
   "execution_count": 14,
   "metadata": {},
   "outputs": [
    {
     "data": {
      "text/plain": [
       "'I like This book'"
      ]
     },
     "execution_count": 14,
     "metadata": {},
     "output_type": "execute_result"
    }
   ],
   "source": [
    "# using regex and replace() function, we can remove the punctuation\n",
    "\n",
    "## type your code here\n",
    "\n",
    "import re\n",
    "\n",
    "s=\"I. like. This book!\"\n",
    "s1=re.sub(r'[^\\w\\s]','',s)\n",
    "s1\n",
    "\n"
   ]
  },
  {
   "cell_type": "code",
   "execution_count": 15,
   "metadata": {},
   "outputs": [
    {
     "data": {
      "text/plain": [
       "0                          This is introduction to NLP\n",
       "1                 It is likely to be useful to people \n",
       "2               Machine learning is the new electrcity\n",
       "3    There would be less hype around AI and more ac...\n",
       "4                              python is the best tool\n",
       "5                                  R is good langauage\n",
       "6                                     I like this book\n",
       "7                          I want more books like this\n",
       "Name: tweet, dtype: object"
      ]
     },
     "execution_count": 15,
     "metadata": {},
     "output_type": "execute_result"
    }
   ],
   "source": [
    "# Or:\n",
    "\n",
    "## type your code here\n",
    "\n",
    "df['tweet']=df['tweet'].str.replace('[^\\w\\s]','')\n",
    "df['tweet']\n"
   ]
  },
  {
   "cell_type": "code",
   "execution_count": 17,
   "metadata": {},
   "outputs": [
    {
     "data": {
      "text/plain": [
       "'I like This book'"
      ]
     },
     "execution_count": 17,
     "metadata": {},
     "output_type": "execute_result"
    }
   ],
   "source": [
    "# Or:\n",
    "\n",
    "## type your code here\n",
    "import string\n",
    "s='I, like. This book!'\n",
    "\n",
    "for c in string.punctuation:\n",
    "    s=s.replace(c,'')\n",
    "\n",
    "s\n"
   ]
  },
  {
   "cell_type": "markdown",
   "metadata": {},
   "source": [
    "C> Removing Stop Words\n",
    "---------------------------------\n",
    "\n",
    "In this coding example, we are going to discuss how to remove stop words. \n",
    "\n",
    "Stop words are very common words that carry no meaning or less meaning compared\n",
    "to other keywords. If we remove the words that are less commonly used,\n",
    "we can focus on the important keywords instead. Say, for example, in the\n",
    "context of a search engine, if your search query is “How to develop chatbot\n",
    "using python,” if the search engine tries to find web pages that contained the\n",
    "terms “how,” “to,” “develop,” “chatbot,” “using,” “python,” the search engine\n",
    "is going to find a lot more pages that contain the terms “how” and “to” than\n",
    "pages that contain information about developing chatbot because the terms\n",
    "“how” and “to” are so commonly used in the English language. So, if we\n",
    "remove such terms, the search engine can actually focus on retrieving pages\n",
    "that contain the keywords: “develop,” “chatbot,” “python” – which would\n",
    "more closely bring up pages that are of real interest. Similarly we can remove\n",
    "more common words and rare words as well."
   ]
  },
  {
   "cell_type": "markdown",
   "metadata": {},
   "source": [
    "Problem\n",
    "------------\n",
    "You want to remove stop words.\n",
    "\n",
    "Solution\n",
    "------------\n",
    "The simplest way to do this by using the NLTK library, or you can build\n",
    "your own stop words file also."
   ]
  },
  {
   "cell_type": "code",
   "execution_count": 29,
   "metadata": {},
   "outputs": [
    {
     "name": "stdout",
     "output_type": "stream",
     "text": [
      "                                               tweet\n",
      "0                        This is introduction to NLP\n",
      "1              It is likely to be useful, to people \n",
      "2             Machine learning is the new electrcity\n",
      "3  There would be less hype around AI and more ac...\n",
      "4                           python is the best tool!\n",
      "5                                R is good langauage\n",
      "6                                   I like this book\n",
      "7                        I want more books like this\n"
     ]
    }
   ],
   "source": [
    "text=['This is introduction to NLP','It is likely to be useful, to people ','Machine learning is the new electrcity', 'There would be less hype around AI and more action going forward','python is the best tool!','R is good langauage','I like this book','I want more books like this']\n",
    "\n",
    "#convert list to data frame\n",
    "import pandas as pd\n",
    "df = pd.DataFrame({'tweet':text})\n",
    "print(df)"
   ]
  },
  {
   "cell_type": "code",
   "execution_count": 31,
   "metadata": {},
   "outputs": [
    {
     "name": "stdout",
     "output_type": "stream",
     "text": [
      "0                                  introduction NLP\n",
      "1                             likely useful, people\n",
      "2                   Machine learning new electrcity\n",
      "3    would less hype around AI action going forward\n",
      "4                                 python best tool!\n",
      "5                                  R good langauage\n",
      "6                                         like book\n",
      "7                                   want books like\n",
      "Name: tweet, dtype: object\n"
     ]
    }
   ],
   "source": [
    "#install and import libraries\n",
    "# !pip install nltk\n",
    "\n",
    "import nltk\n",
    "# nltk.download()\n",
    "from nltk.corpus import stopwords\n",
    "\n",
    "#remove stop words\n",
    "stop = stopwords.words('english')\n",
    "# print(stop)\n",
    "df['tweet'] = df['tweet'].apply(lambda x: \" \".join(x for x in x.split() if x.lower() not in stop))\n",
    "print(df['tweet'])"
   ]
  },
  {
   "cell_type": "markdown",
   "metadata": {},
   "source": [
    "# Self to do excerises in class\n",
    "\"\"\"\n",
    "1> find the frequency or count of the non-stop words and rank them in descending order. Use the above df['tweet'] data.\n",
    "\"\"\"\n"
   ]
  },
  {
   "cell_type": "code",
   "execution_count": 32,
   "metadata": {},
   "outputs": [
    {
     "name": "stdout",
     "output_type": "stream",
     "text": [
      "Counter({'blue': 3, 'red': 2, 'green': 1})\n"
     ]
    }
   ],
   "source": [
    "\n",
    "# version 1 : Explains how to solve the above problem.\n",
    "from collections import Counter\n",
    "cnt = Counter()\n",
    "for word in ['red', 'blue', 'red', 'green', 'blue', 'blue']:\n",
    "    cnt[word] += 1\n",
    "\n",
    "print(cnt)\n",
    "\n"
   ]
  },
  {
   "cell_type": "code",
   "execution_count": 37,
   "metadata": {},
   "outputs": [
    {
     "name": "stdout",
     "output_type": "stream",
     "text": [
      "[('blue', 3), ('green', 1), ('red', 2)]\n"
     ]
    }
   ],
   "source": [
    "# be careful. We don't want alphabetical sorting !!!!! \n",
    "print(sorted(cnt.items()))\n",
    "\n"
   ]
  },
  {
   "cell_type": "code",
   "execution_count": 38,
   "metadata": {},
   "outputs": [
    {
     "data": {
      "text/plain": [
       "[('red', 2), ('green', 1), ('blue', 3)]"
      ]
     },
     "execution_count": 38,
     "metadata": {},
     "output_type": "execute_result"
    }
   ],
   "source": [
    "\n",
    "# For reverse alphabetical sorting !!!!! \n",
    "sorted(cnt.items(), reverse=True)\n"
   ]
  },
  {
   "cell_type": "code",
   "execution_count": 40,
   "metadata": {},
   "outputs": [
    {
     "name": "stdout",
     "output_type": "stream",
     "text": [
      "[('blue', 3), ('red', 2), ('green', 1)]\n"
     ]
    }
   ],
   "source": [
    "\n",
    "# Solution : to print the list of tuples in reverse order according to count\n",
    "l = cnt.items()\n",
    "print(sorted(l, key = lambda item: item[1], reverse=True))\n"
   ]
  },
  {
   "cell_type": "code",
   "execution_count": 41,
   "metadata": {},
   "outputs": [
    {
     "name": "stdout",
     "output_type": "stream",
     "text": [
      "Counter({'blue': 3, 'red': 2, 'green': 1})\n"
     ]
    }
   ],
   "source": [
    "\n",
    "\n",
    "# Counter class can directly read from iterable object. No need of FOR loop \n",
    "# Counter takes iterable object like a list or set, \n",
    "# hence recode above like this\n",
    "mywords = ['red', 'blue', 'red', 'green', 'blue', 'blue']\n",
    "cnt = Counter(mywords)\n",
    "\n",
    "print(cnt)\n",
    "\n"
   ]
  },
  {
   "cell_type": "code",
   "execution_count": 42,
   "metadata": {},
   "outputs": [
    {
     "name": "stdout",
     "output_type": "stream",
     "text": [
      "String\n",
      "it was the best of times it was the worst of times it was the age of wisdom it was the age of foolishness\n",
      "\n",
      "List\n",
      "['it', 'was', 'the', 'best', 'of', 'times', 'it', 'was', 'the', 'worst', 'of', 'times', 'it', 'was', 'the', 'age', 'of', 'wisdom', 'it', 'was', 'the', 'age', 'of', 'foolishness']\n",
      "\n",
      "Frequencies\n",
      "[4, 4, 4, 1, 4, 2, 4, 4, 4, 1, 4, 2, 4, 4, 4, 2, 4, 1, 4, 4, 4, 2, 4, 1]\n",
      "\n",
      "Pairs\n",
      "<zip object at 0x00000292A56743C8>\n"
     ]
    },
    {
     "data": {
      "text/plain": [
       "[('it', 4),\n",
       " ('was', 4),\n",
       " ('the', 4),\n",
       " ('best', 1),\n",
       " ('of', 4),\n",
       " ('times', 2),\n",
       " ('it', 4),\n",
       " ('was', 4),\n",
       " ('the', 4),\n",
       " ('worst', 1),\n",
       " ('of', 4),\n",
       " ('times', 2),\n",
       " ('it', 4),\n",
       " ('was', 4),\n",
       " ('the', 4),\n",
       " ('age', 2),\n",
       " ('of', 4),\n",
       " ('wisdom', 1),\n",
       " ('it', 4),\n",
       " ('was', 4),\n",
       " ('the', 4),\n",
       " ('age', 2),\n",
       " ('of', 4),\n",
       " ('foolishness', 1)]"
      ]
     },
     "execution_count": 42,
     "metadata": {},
     "output_type": "execute_result"
    }
   ],
   "source": [
    "\n",
    "#--------------------------------------------\n",
    "\n",
    "# Version-2 : Not using Counter class\n",
    "\n",
    "wordstring = 'it was the best of times it was the worst of times '\n",
    "wordstring += 'it was the age of wisdom it was the age of foolishness'\n",
    "\n",
    "wordlist = wordstring.split()\n",
    "\n",
    "wordfreq = []\n",
    "for w in wordlist:\n",
    "    wordfreq.append(wordlist.count(w))\n",
    "\n",
    "print(\"String\\n\" + wordstring +\"\\n\")\n",
    "print(\"List\\n\" + str(wordlist) + \"\\n\")\n",
    "print(\"Frequencies\\n\" + str(wordfreq) + \"\\n\")\n",
    "print(\"Pairs\\n\" + str(zip(wordlist, wordfreq))) # it would only print the object\n",
    "\n",
    "\n",
    "# Recall from Python Course : to print contents of zip object \n",
    "# convert to list or set\n",
    "list(zip(wordlist, wordfreq))\n"
   ]
  },
  {
   "cell_type": "code",
   "execution_count": 50,
   "metadata": {},
   "outputs": [
    {
     "name": "stdout",
     "output_type": "stream",
     "text": [
      "['introduction nlp', 'likely useful people', 'machine learning new electrcity', 'would less hype around ai action going forward', 'python best tool', 'r good langauage', 'like book', 'want books like']\n",
      "----------------------------------------\n",
      "['introduction', 'nlp', 'likely', 'useful', 'people', 'machine', 'learning', 'new', 'electrcity', 'would', 'less', 'hype', 'around', 'ai', 'action', 'going', 'forward', 'python', 'best', 'tool', 'r', 'good', 'langauage', 'like', 'book', 'want', 'books', 'like']\n"
     ]
    },
    {
     "data": {
      "text/plain": [
       "[('like', 2),\n",
       " ('introduction', 1),\n",
       " ('nlp', 1),\n",
       " ('likely', 1),\n",
       " ('useful', 1),\n",
       " ('people', 1),\n",
       " ('machine', 1),\n",
       " ('learning', 1),\n",
       " ('new', 1),\n",
       " ('electrcity', 1),\n",
       " ('would', 1),\n",
       " ('less', 1),\n",
       " ('hype', 1),\n",
       " ('around', 1),\n",
       " ('ai', 1),\n",
       " ('action', 1),\n",
       " ('going', 1),\n",
       " ('forward', 1),\n",
       " ('python', 1),\n",
       " ('best', 1),\n",
       " ('tool', 1),\n",
       " ('r', 1),\n",
       " ('good', 1),\n",
       " ('langauage', 1),\n",
       " ('book', 1),\n",
       " ('want', 1),\n",
       " ('books', 1)]"
      ]
     },
     "execution_count": 50,
     "metadata": {},
     "output_type": "execute_result"
    }
   ],
   "source": [
    "\n",
    "\n",
    "#---------------------------------------\n",
    "\n",
    "# all concepts clear.\n",
    "# Now focusing on our problem df['tweet']\n",
    "\n",
    "import nltk\n",
    "from nltk.corpus import stopwords\n",
    "\n",
    "# removing all punctuation marks \n",
    "df['tweet'] = df['tweet'].str.replace('[^\\w\\s]','')\n",
    "\n",
    "# convert all words to the lower case\n",
    "df['tweet'] = df['tweet'].apply(lambda x: \" \".join(x.lower() for x in x.split()))\n",
    "\n",
    "# remove stop words\n",
    "stop = stopwords.words('english')\n",
    "df['tweet'] = df['tweet'].apply(lambda x: \" \".join(x for x in x.split() if x not in stop))\n",
    "\n",
    "# converting df to list of string\n",
    "all_words =   [str(i) for i in df['tweet'].values]\n",
    "print(all_words) # note its a list of string phrases, NOT list of all strings\n",
    "\n",
    "all_split_words = []\n",
    "\n",
    "print(\"----------------------------------------\")\n",
    "\n",
    "# extracting each word and making a single list of strings\n",
    "for word in all_words :\n",
    "    for x in word.split():\n",
    "        all_split_words.append(x) \n",
    "\n",
    "# see the list of all string words\n",
    "print(all_split_words)\n",
    "\n",
    "# Create a frequency distribution. it needs a list of string words only.\n",
    "freq = nltk.FreqDist(all_split_words)\n",
    "# print(freq)\n",
    "# Show the words in the list, with counts in desc order.\n",
    "# print(freq.items())\n",
    "sorted(list(freq.items()), key = lambda item: item[1], reverse=True )\n",
    "\n"
   ]
  },
  {
   "cell_type": "markdown",
   "metadata": {},
   "source": [
    "#--------------------------------\n",
    "\n",
    "\"\"\"\n",
    "Extra Reading \n",
    "https://programminghistorian.org/en/lessons/counting-frequencies\n",
    "\"\"\"\n"
   ]
  },
  {
   "cell_type": "code",
   "execution_count": null,
   "metadata": {},
   "outputs": [],
   "source": []
  },
  {
   "cell_type": "code",
   "execution_count": null,
   "metadata": {},
   "outputs": [],
   "source": []
  },
  {
   "cell_type": "code",
   "execution_count": null,
   "metadata": {},
   "outputs": [],
   "source": []
  }
 ],
 "metadata": {
  "kernelspec": {
   "display_name": "Python 3",
   "language": "python",
   "name": "python3"
  },
  "language_info": {
   "codemirror_mode": {
    "name": "ipython",
    "version": 3
   },
   "file_extension": ".py",
   "mimetype": "text/x-python",
   "name": "python",
   "nbconvert_exporter": "python",
   "pygments_lexer": "ipython3",
   "version": "3.6.5"
  }
 },
 "nbformat": 4,
 "nbformat_minor": 2
}
