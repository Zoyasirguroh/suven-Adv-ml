{
 "cells": [
  {
   "cell_type": "markdown",
   "metadata": {},
   "source": [
    "Converting Text to Features Using One Hot Encoding\n",
    "--\n",
    "The traditional method used for feature engineering is One Hot encoding.\n",
    "If anyone knows the basics of machine learning, One Hot encoding is\n",
    "something they should have come across for sure at some point of time or\n",
    "maybe most of the time. It is a process of converting categorical variables\n",
    "into features or columns and coding one or zero for the presence of that\n",
    "particular category. We are going to use the same logic here, and the\n",
    "number of features is going to be the number of total tokens present in the\n",
    "whole corpus.\n",
    "\n",
    "**On hot encoding was covered under \"Machine Learning Course\" also."
   ]
  },
  {
   "cell_type": "markdown",
   "metadata": {},
   "source": [
    "Problem\n",
    "--\n",
    "You want to convert text to feature using One Hot encoding.\n",
    "\n",
    "Solution\n",
    "--\n",
    "One Hot Encoding will basically convert characters or words into binary\n",
    "numbers as shown below."
   ]
  },
  {
   "cell_type": "code",
   "execution_count": 8,
   "metadata": {},
   "outputs": [
    {
     "data": {
      "text/html": [
       "<div>\n",
       "<style scoped>\n",
       "    .dataframe tbody tr th:only-of-type {\n",
       "        vertical-align: middle;\n",
       "    }\n",
       "\n",
       "    .dataframe tbody tr th {\n",
       "        vertical-align: top;\n",
       "    }\n",
       "\n",
       "    .dataframe thead th {\n",
       "        text-align: right;\n",
       "    }\n",
       "</style>\n",
       "<table border=\"1\" class=\"dataframe\">\n",
       "  <thead>\n",
       "    <tr style=\"text-align: right;\">\n",
       "      <th></th>\n",
       "      <th>,</th>\n",
       "      <th>I</th>\n",
       "      <th>NLP</th>\n",
       "      <th>am</th>\n",
       "      <th>fun</th>\n",
       "      <th>is</th>\n",
       "      <th>learning</th>\n",
       "    </tr>\n",
       "  </thead>\n",
       "  <tbody>\n",
       "    <tr>\n",
       "      <th>0</th>\n",
       "      <td>0</td>\n",
       "      <td>1</td>\n",
       "      <td>0</td>\n",
       "      <td>0</td>\n",
       "      <td>0</td>\n",
       "      <td>0</td>\n",
       "      <td>0</td>\n",
       "    </tr>\n",
       "    <tr>\n",
       "      <th>1</th>\n",
       "      <td>0</td>\n",
       "      <td>0</td>\n",
       "      <td>0</td>\n",
       "      <td>1</td>\n",
       "      <td>0</td>\n",
       "      <td>0</td>\n",
       "      <td>0</td>\n",
       "    </tr>\n",
       "    <tr>\n",
       "      <th>2</th>\n",
       "      <td>0</td>\n",
       "      <td>0</td>\n",
       "      <td>0</td>\n",
       "      <td>0</td>\n",
       "      <td>0</td>\n",
       "      <td>0</td>\n",
       "      <td>1</td>\n",
       "    </tr>\n",
       "    <tr>\n",
       "      <th>3</th>\n",
       "      <td>0</td>\n",
       "      <td>0</td>\n",
       "      <td>1</td>\n",
       "      <td>0</td>\n",
       "      <td>0</td>\n",
       "      <td>0</td>\n",
       "      <td>0</td>\n",
       "    </tr>\n",
       "    <tr>\n",
       "      <th>4</th>\n",
       "      <td>1</td>\n",
       "      <td>0</td>\n",
       "      <td>0</td>\n",
       "      <td>0</td>\n",
       "      <td>0</td>\n",
       "      <td>0</td>\n",
       "      <td>0</td>\n",
       "    </tr>\n",
       "    <tr>\n",
       "      <th>5</th>\n",
       "      <td>0</td>\n",
       "      <td>0</td>\n",
       "      <td>1</td>\n",
       "      <td>0</td>\n",
       "      <td>0</td>\n",
       "      <td>0</td>\n",
       "      <td>0</td>\n",
       "    </tr>\n",
       "    <tr>\n",
       "      <th>6</th>\n",
       "      <td>0</td>\n",
       "      <td>0</td>\n",
       "      <td>0</td>\n",
       "      <td>0</td>\n",
       "      <td>0</td>\n",
       "      <td>1</td>\n",
       "      <td>0</td>\n",
       "    </tr>\n",
       "    <tr>\n",
       "      <th>7</th>\n",
       "      <td>0</td>\n",
       "      <td>0</td>\n",
       "      <td>0</td>\n",
       "      <td>0</td>\n",
       "      <td>1</td>\n",
       "      <td>0</td>\n",
       "      <td>0</td>\n",
       "    </tr>\n",
       "  </tbody>\n",
       "</table>\n",
       "</div>"
      ],
      "text/plain": [
       "   ,  I  NLP  am  fun  is  learning\n",
       "0  0  1    0   0    0   0         0\n",
       "1  0  0    0   1    0   0         0\n",
       "2  0  0    0   0    0   0         1\n",
       "3  0  0    1   0    0   0         0\n",
       "4  1  0    0   0    0   0         0\n",
       "5  0  0    1   0    0   0         0\n",
       "6  0  0    0   0    0   1         0\n",
       "7  0  0    0   0    1   0         0"
      ]
     },
     "execution_count": 8,
     "metadata": {},
     "output_type": "execute_result"
    }
   ],
   "source": [
    "Text = \"I am learning NLP , NLP is fun\"\n",
    "\n",
    "# Importing the library\n",
    "import pandas as pd\n",
    "\n",
    "# Generating the features\n",
    "pd.get_dummies(Text.split())"
   ]
  },
  {
   "cell_type": "raw",
   "metadata": {},
   "source": [
    "Output has 7 features since the number of distinct words present in the\n",
    "input was 7."
   ]
  },
  {
   "cell_type": "markdown",
   "metadata": {},
   "source": [
    "Converting Text to Features Using Count Vectorizing\n",
    "--\n",
    "Above approach \"One hot encoding\" has a disadvantage. It does not take the\n",
    "frequency of the word occurring into consideration. If a particular word\n",
    "is appearing multiple times, there is a chance of missing the information\n",
    "if it is not included in the analysis. A count vectorizer will solve that\n",
    "problem.\n",
    "\n",
    "Problem\n",
    "--\n",
    "How do we convert text to feature using a count vectorizer?\n",
    "\n",
    "Solution\n",
    "--\n",
    "Count vectorizer is almost similar to One Hot encoding. The only\n",
    "difference is instead of checking whether the particular word is present or\n",
    "not, it will count the words that are present in the document.\n",
    "Observe the below example. The words “I” and “NLP” occur twice in\n",
    "the first document."
   ]
  },
  {
   "cell_type": "code",
   "execution_count": 22,
   "metadata": {},
   "outputs": [
    {
     "name": "stdout",
     "output_type": "stream",
     "text": [
      "{'love': 4, 'nlp': 5, 'and': 1, 'will': 6, 'learn': 3, 'in': 2, '2month': 0}\n",
      "[[1 1 1 1 1 2 1]]\n"
     ]
    }
   ],
   "source": [
    "#importing the function\n",
    "from sklearn.feature_extraction.text import CountVectorizer\n",
    "\n",
    "# Text\n",
    "text = [\"I love NLP and I will learn NLP in 2month \"]\n",
    "\n",
    "# create the transform\n",
    "vectorizer = CountVectorizer()\n",
    "\n",
    "# tokenizing\n",
    "vectorizer.fit(text)\n",
    "\n",
    "# encode document\n",
    "vector = vectorizer.transform(text)\n",
    "\n",
    "# summarize & generating output\n",
    "print(vectorizer.vocabulary_)\n",
    "print(vector.toarray())"
   ]
  },
  {
   "cell_type": "markdown",
   "metadata": {},
   "source": [
    "The fifth token nlp has appeared twice in the document."
   ]
  },
  {
   "cell_type": "markdown",
   "metadata": {},
   "source": [
    "Generating N-grams\n",
    "--\n",
    "If you observe the above methods, each word is considered as a feature.\n",
    "There is a drawback to this method. It does not consider the previous and the next words, to see if that would give a proper and complete meaning to the words.\n",
    "\n",
    "For example: consider the word “not bad.” If this is split into individual\n",
    "words, then it will lose out on conveying “good” – which is what this word\n",
    "actually means.\n",
    "\n",
    "As we saw, we might lose potential information or insight because a lot of words make sense once they are put together. This problem can be solved by N-grams.\n",
    "\n",
    "N-grams are the fusion of multiple letters or multiple words. They are\n",
    "formed in such a way that even the previous and next words are captured.\n",
    "\n",
    "• Unigrams are the unique words present in the sentence.\n",
    "• Bigram is the combination of 2 words.\n",
    "• Trigram is 3 words and so on.\n",
    "\n",
    "For example,\n",
    "“I am learning NLP”\n",
    "\n",
    "Unigrams: “I”, “am”, “ learning”, “NLP”\n",
    "\n",
    "Bigrams: “I am”, “am learning”, “learning NLP”\n",
    "\n",
    "Trigrams: “I am learning”, “am learning NLP”"
   ]
  },
  {
   "cell_type": "markdown",
   "metadata": {},
   "source": [
    "Problem\n",
    "--\n",
    "Generate the N-grams for the given sentence.\n",
    "\n",
    "Solution\n",
    "--\n",
    "There are a lot of packages that will generate the N-grams. The one that is\n",
    "mostly used is TextBlob."
   ]
  },
  {
   "cell_type": "code",
   "execution_count": 24,
   "metadata": {},
   "outputs": [
    {
     "data": {
      "text/plain": [
       "[WordList(['I']), WordList(['am']), WordList(['learning']), WordList(['NLP'])]"
      ]
     },
     "execution_count": 24,
     "metadata": {},
     "output_type": "execute_result"
    }
   ],
   "source": [
    "Text = \"I am learning NLP\"\n",
    "\n",
    "# Use the below TextBlob function to create N-grams. Use the text that is\n",
    "# defined above and mention the “n” based on the requirement.\n",
    "\n",
    "#Import textblob\n",
    "from textblob import TextBlob\n",
    "\n",
    "#For unigram : Use n = 1\n",
    "TextBlob(Text).ngrams(1)"
   ]
  },
  {
   "cell_type": "code",
   "execution_count": 26,
   "metadata": {},
   "outputs": [
    {
     "data": {
      "text/plain": [
       "[WordList(['I', 'am']),\n",
       " WordList(['am', 'learning']),\n",
       " WordList(['learning', 'NLP'])]"
      ]
     },
     "execution_count": 26,
     "metadata": {},
     "output_type": "execute_result"
    }
   ],
   "source": [
    "#For Bigram : use n = 2\n",
    "TextBlob(Text).ngrams(2)"
   ]
  },
  {
   "cell_type": "code",
   "execution_count": 27,
   "metadata": {},
   "outputs": [
    {
     "data": {
      "text/plain": [
       "[WordList(['I', 'am', 'learning']), WordList(['am', 'learning', 'NLP'])]"
      ]
     },
     "execution_count": 27,
     "metadata": {},
     "output_type": "execute_result"
    }
   ],
   "source": [
    "#For trigram : use n = 3\n",
    "TextBlob(Text).ngrams(3)"
   ]
  },
  {
   "cell_type": "markdown",
   "metadata": {},
   "source": [
    "Generating Bigram-based features for a document using CountVectorizer\n",
    "--\n",
    "\n",
    "Just like in the last code-example, we used TextBlob class, we can do the same thing by using count vectorizer to generate features."
   ]
  },
  {
   "cell_type": "code",
   "execution_count": 28,
   "metadata": {},
   "outputs": [
    {
     "name": "stdout",
     "output_type": "stream",
     "text": [
      "{'love nlp': 3, 'nlp and': 4, 'and will': 0, 'will learn': 6, 'learn nlp': 2, 'nlp in': 5, 'in 2month': 1}\n",
      "[[1 1 1 1 1 1 1]]\n"
     ]
    }
   ],
   "source": [
    "#importing the function\n",
    "from sklearn.feature_extraction.text import CountVectorizer\n",
    "\n",
    "# Text\n",
    "text = [\"I love NLP and I will learn NLP in 2month\"]\n",
    "\n",
    "# create the transform\n",
    "vectorizer = CountVectorizer(ngram_range=(2,2))\n",
    "\n",
    "# tokenizing\n",
    "vectorizer.fit(text)\n",
    "\n",
    "# encode document\n",
    "vector = vectorizer.transform(text)\n",
    "\n",
    "# summarize & generating output\n",
    "print(vectorizer.vocabulary_)\n",
    "print(vector.toarray())"
   ]
  },
  {
   "cell_type": "markdown",
   "metadata": {},
   "source": [
    "The output has features with bigrams, and for our example, the count\n",
    "is one for all the tokens.\n",
    "\n",
    "Note : single letter words are not considered as \"words\" by the CountVectorizer"
   ]
  },
  {
   "cell_type": "markdown",
   "metadata": {},
   "source": [
    "Hash Vectorizing\n",
    "--\n",
    "CountVectorizer has one limitation. In this method, the vocabulary can \n",
    "become very large and cause memory/computation issues.\n",
    "\n",
    "One of the ways to solve this problem is a Hash Vectorizer."
   ]
  },
  {
   "cell_type": "markdown",
   "metadata": {},
   "source": [
    "Problem\n",
    "--\n",
    "Understand and generate a Hash Vectorizer.\n",
    "\n",
    "Solution\n",
    "--\n",
    "Hash Vectorizer is memory efficient and instead of storing the tokens\n",
    "as strings, the vectorizer applies the hashing trick to encode them as\n",
    "numerical indexes. The downside is that it’s one way and once vectorized,\n",
    "the features cannot be retrieved.\n",
    "\n",
    "**Hash vectorizer / Hash-based text feature engineering was covered in \"Machine learning\" Course too.    "
   ]
  },
  {
   "cell_type": "code",
   "execution_count": 30,
   "metadata": {},
   "outputs": [
    {
     "name": "stdout",
     "output_type": "stream",
     "text": [
      "(1, 10)\n",
      "[[ 0.          0.57735027  0.          0.          0.          0.\n",
      "   0.         -0.57735027 -0.57735027  0.        ]]\n"
     ]
    }
   ],
   "source": [
    "from sklearn.feature_extraction.text import HashingVectorizer\n",
    "\n",
    "# list of text documents\n",
    "text = [\"The quick brown fox jumped over the lazy dog.\"]\n",
    "\n",
    "# transform\n",
    "vectorizer = HashingVectorizer(n_features=10)\n",
    "# recommended reading : https://machinelearningmastery.com/prepare-text-data-machine-learning-scikit-learn/\n",
    "# https://datascience.stackexchange.com/questions/22250/what-is-the-difference-between-a-hashing-vectorizer-and-a-tfidf-vectorizer\n",
    "\n",
    "\n",
    "# create the hashing vector\n",
    "vector = vectorizer.transform(text)\n",
    "\n",
    "# summarize the vector\n",
    "print(vector.shape)\n",
    "print(vector.toarray())"
   ]
  },
  {
   "cell_type": "markdown",
   "metadata": {},
   "source": [
    "It created vector of size 10 and now this can be used for any\n",
    "supervised/unsupervised tasks."
   ]
  },
  {
   "cell_type": "markdown",
   "metadata": {},
   "source": [
    "The trainer and participants should discuss the relevance of above vector o/p.\n",
    "\n",
    "References :\n",
    "\n",
    "Recommended reading : \n",
    "\n",
    "https://machinelearningmastery.com/prepare-text-data-machine-learning-scikit-learn/\n",
    "\n",
    "https://datascience.stackexchange.com/questions/22250/what-is-the-difference-between-a-hashing-vectorizer"
   ]
  },
  {
   "cell_type": "markdown",
   "metadata": {},
   "source": [
    "Converting Text to Features Using TF-IDF\n",
    "--\n",
    "(Note : This technique was covered under \"Machine Learning\" Course too)\n",
    "\n",
    "Again, in the above-mentioned text-to-feature methods, there are few\n",
    "drawbacks, hence the introduction of TF-IDF. \n",
    "\n",
    "Below are the disadvantages of the above methods.\n",
    "\n",
    "• Let’s say a particular word is appearing in all the documents of the corpus, then it will achieve higher importance in our previous methods. That’s bad for our analysis.\n",
    "\n",
    "• The whole idea of having TF-IDF is to reflect on how important a word is to a document in a collection, and hence normalizing words appeared frequently in all the documents.\n",
    "\n",
    "Problem\n",
    "--\n",
    "Text to feature using TF-IDF.\n",
    "\n",
    "Solution\n",
    "--\n",
    "Term frequency (TF): Term frequency is simply the ratio of the count of a\n",
    "word present in a sentence, to the length of the sentence.\n",
    "\n",
    "TF is basically capturing the importance of the word irrespective of the\n",
    "length of the document. For example, a word with the frequency of 3 with\n",
    "the length of sentence being 10 is not the same as when the word length of\n",
    "sentence is 100 words. It should get more importance in the first scenario;\n",
    "that is what TF does.\n",
    "\n",
    "Inverse Document Frequency (IDF): IDF of each word is the log of the ratio of the total number of rows to the number of rows in a particular document in which that word is present.\n",
    "\n",
    "IDF = log(N/n), where N is the total number of rows and n is the\n",
    "number of rows in which the word was present.\n",
    "\n",
    "IDF will measure the rareness of a term. Words like “a,” and “the” show\n",
    "up in all the documents of the corpus, but rare words will not be there\n",
    "in all the documents. So, if a word is appearing in almost all documents,\n",
    "then that word is of no use to us since it is not helping to classify or in\n",
    "information retrieval. IDF will nullify this problem.\n",
    "\n",
    "TF-IDF is the simple product of TF and IDF so that both of the drawbacks are addressed, which makes predictions and information retrieval relevant."
   ]
  },
  {
   "cell_type": "markdown",
   "metadata": {},
   "source": [
    "Importance of the word w.r.t document : \n",
    "doc1 -> \"Android\"-> 3 , len(doc1) = 10\n",
    "TF =  3 / 10 =  30%\n",
    "\n",
    "doc2 -> \"Android\"-> 3 , len(doc2) = 100\n",
    "TF = 3 / 100 = 3%\n",
    "\n",
    "\n",
    "doc125 -> ....\n",
    "\n",
    "----------------------------------\n",
    "Think like this : \n",
    "Suppose u have 10 docs in a corpus. \n",
    "\"Android\" -> is appearing in all 10 docs.\n",
    "\n",
    "Is it important or not ??\n",
    "Ans : IDF \n",
    "\n",
    "-------------------------------\n",
    "\n",
    "Ex : A book of 125 pages.\n",
    "N = 125 docs ~ 125 pages \n",
    "n = \"Android\" is appearing in 105 pages i.e ~ 105 docs. \n",
    "\n",
    "-------------------------------"
   ]
  },
  {
   "cell_type": "code",
   "execution_count": 15,
   "metadata": {
    "scrolled": true
   },
   "outputs": [
    {
     "name": "stdout",
     "output_type": "stream",
     "text": [
      "{'the': 7, 'quick': 6, 'brown': 0, 'fox': 2, 'jumped': 3, 'over': 5, 'lazy': 4, 'dog': 1}\n",
      "[1.69314718 1.28768207 1.28768207 1.69314718 1.69314718 1.69314718\n",
      " 1.69314718 1.        ]\n"
     ]
    }
   ],
   "source": [
    "Text = [\"The quick brown fox jumped over the lazy dog.\",\n",
    "\"The dog.\",\n",
    "\"The fox\"]\n",
    "\n",
    "#Import TfidfVectorizer\n",
    "from sklearn.feature_extraction.text import TfidfVectorizer\n",
    "\n",
    "#Create the transform\n",
    "vectorizer = TfidfVectorizer()\n",
    "\n",
    "#Tokenize and build vocab\n",
    "vectorizer.fit(Text)\n",
    "\n",
    "#Summarize\n",
    "print(vectorizer.vocabulary_)\n",
    "print(vectorizer.idf_)"
   ]
  },
  {
   "cell_type": "code",
   "execution_count": 36,
   "metadata": {
    "scrolled": true
   },
   "outputs": [
    {
     "name": "stdout",
     "output_type": "stream",
     "text": [
      "{'pet': 3, 'dog': 1, 'and': 0, 'wild': 5, 'fox': 2, 'the': 4}\n",
      "[1.69314718 1.28768207 1.28768207 1.28768207 1.28768207 1.28768207]\n",
      "(3, 10)\n",
      "[[ 0.          0.          0.         -0.30151134  0.         -0.90453403\n",
      "  -0.30151134  0.          0.          0.        ]\n",
      " [ 0.          0.          0.         -0.70710678  0.          0.\n",
      "   0.          0.         -0.70710678  0.        ]\n",
      " [ 0.          0.          0.          0.          0.         -0.70710678\n",
      "   0.          0.         -0.70710678  0.        ]]\n"
     ]
    }
   ],
   "source": [
    "# encode document\n",
    "Text = [\"Pet dog and wild fox.\",\n",
    "       \"The  pet dog.\",\n",
    "        \"The Wild fox\"]\n",
    "\n",
    "#Import TfidfVectorizer\n",
    "from sklearn.feature_extraction.text import TfidfVectorizer\n",
    "\n",
    "#Create the transform\n",
    "vectorizer = TfidfVectorizer()\n",
    "\n",
    "#Tokenize and build vocab\n",
    "vectorizer.fit(Text)\n",
    "\n",
    "#Summarize\n",
    "print(vectorizer.vocabulary_)\n",
    "print(vectorizer.idf_)\n",
    "print(vector.shape)\n",
    "print(vector.toarray())"
   ]
  },
  {
   "cell_type": "markdown",
   "metadata": {},
   "source": [
    "If you observe, “the” is appearing in all the 3 documents and it does\n",
    "not add much value, and hence the vector value is 1, which is less than all\n",
    "the other vector representations of the tokens.\n",
    "\n",
    "All these methods or techniques we have looked into so far are based\n",
    "on frequency and hence called frequency-based embeddings or features.\n",
    "And in the next section, let us look at prediction-based embeddings,\n",
    "typically called word embeddings."
   ]
  },
  {
   "cell_type": "markdown",
   "metadata": {},
   "source": [
    "Implementing Word Embeddings\n",
    "--\n",
    "This section assumes that you have a working knowledge of how a neural\n",
    "network works and you can terms like :\n",
    "\n",
    "a. Deep learning\n",
    "\n",
    "b. Perceptron and Sigmoid\n",
    "\n",
    "c. FFNN ( feed forward Neural Network)\n",
    "\n",
    "d. RNN (Recurrent Neural Network )\n",
    "\n",
    "**( If new to a Neural Network (NN), it is suggested that you go through Chapter 1 to gain a basic understanding of how NN works. )\n",
    "\n",
    "Even though all previous methods solve most of the problems, once we get into more complicated problems where we want to capture the semantic relation between the words, these methods fail to perform.\n",
    "\n",
    "Below are the challenges:\n",
    "\n",
    "• All these techniques fail to capture the context and meaning of the words. All the methods discussed so far basically depend on the appearance or frequency of the words. But we need to look at how to capture the context or semantic relations: that is, how frequently the words are appearing close by.\n",
    "\n",
    ">a. I am eating an apple.\n",
    "\n",
    ">b. I am using apple.\n",
    "\n",
    "If you observe the above example, Apple gives different meanings when it is used with different (close by) adjacent words, eating and using.\n",
    "\n",
    "• For a problem like a document classification (book classification in the library), a document is really huge and there are a humongous number of tokens\n",
    "generated. In these scenarios, your number of features can get out of control (wherein) thus hampering the accuracy and performance.\n",
    "\n",
    "A machine/algorithm can match two documents/texts and say whether they are same or not. But how do we make machines tell you about cricket or Virat Kohli when you search for MS Dhoni? How do you make a machine understand that “Apple” in “Apple is a tasty fruit” is a fruit that can be eaten and not a company?\n",
    "\n",
    "The answer to the above questions lies in creating a representation for words that capture their meanings, semantic relationships, and the different types of contexts they are used in.\n",
    "\n",
    "> The above challenges are addressed by Word Embeddings.\n",
    "\n",
    "Word embedding is the feature learning technique where words from the vocabulary are mapped to vectors of real numbers capturing the contextual hierarchy.\n",
    "\n",
    "If you observe the below table, every word is represented with 4 numbers called vectors. Using the word embeddings technique, we are going to derive those vectors for each and every word so that we can use it in future analysis. In the below example, the dimension is 4. But we usually use a dimension greater than 100."
   ]
  },
  {
   "cell_type": "markdown",
   "metadata": {},
   "source": [
    "![word_embeddings_sample_vector(C:\\Program Files\\Python36\\suven\\Adv ML\\datasets\\images\\word_embeddings_sample_vector.png 'word_embeddings_sample_vector')"
   ]
  },
  {
   "cell_type": "markdown",
   "metadata": {},
   "source": [
    "Problem\n",
    "--\n",
    "You want to implement word embeddings.\n",
    "\n",
    "Solution\n",
    "--\n",
    "Word embeddings are prediction based, and they use shallow neural networks to train the model that will lead to learning the weight and using them as a vector representation.\n",
    "\n",
    "word2vec\n",
    "--\n",
    "word2vec is the deep learning Google framework to train word embeddings. It will use all the words of the whole corpus and predict\n",
    "the nearby words. It will create a vector for all the words present in the\n",
    "corpus in a way so that the context is captured. It also outperforms any\n",
    "other methodologies in the space of word similarity and word analogies.\n",
    "\n",
    "There are mainly 2 types of word2vec Model.\n",
    "\n",
    "• Skip-Gram\n",
    "\n",
    "• Continuous Bag of Words (CBOW)"
   ]
  },
  {
   "cell_type": "markdown",
   "metadata": {},
   "source": [
    "![word2vec_block_diagram](images/word2vec_block_diagram.png 'word2vec_block_diagram')"
   ]
  },
  {
   "cell_type": "markdown",
   "metadata": {},
   "source": [
    "The above figure shows the architecture of the CBOW and skip-gram\n",
    "algorithms used to build word embeddings. Let us see how these models\n",
    "work in detail.\n",
    "\n",
    "Skip-Gram\n",
    "--\n",
    "The skip-gram model is used to predict the probabilities of a word given the context of word or words.\n",
    "\n",
    "Let us take a small sentence and understand how it actually works.\n",
    "Each sentence will generate a target word and context, which are the words\n",
    "nearby. The number of words to be considered around the target variable\n",
    "is called the window size. The table below shows all the possible target\n",
    "and context variables for window size 2. Window size needs to be selected\n",
    "based on data and the resources at your disposal. The larger the window\n",
    "size, the higher the computing power."
   ]
  },
  {
   "cell_type": "markdown",
   "metadata": {},
   "source": [
    "![skipgram_output](images/skipgram_output.png 'skipgram_output')"
   ]
  },
  {
   "cell_type": "markdown",
   "metadata": {},
   "source": [
    "Since it takes a lot of text and computing power, let us go ahead and\n",
    "take sample data and build a skip-gram model.\n",
    "\n",
    "As mentioned in Part 3(of this Course), import the text corpus and break it into sentences. Perform some cleaning and preprocessing like the removal of\n",
    "punctuation and digits, and split the sentences into words or tokens, etc."
   ]
  },
  {
   "cell_type": "code",
   "execution_count": 16,
   "metadata": {},
   "outputs": [
    {
     "name": "stdout",
     "output_type": "stream",
     "text": [
      "Requirement already satisfied: gensim in c:\\program files\\python36\\lib\\site-packages (3.8.1)\n",
      "Requirement already satisfied: smart-open>=1.8.1 in c:\\program files\\python36\\lib\\site-packages (from gensim) (1.10.0)\n",
      "Requirement already satisfied: six>=1.5.0 in c:\\program files\\python36\\lib\\site-packages (from gensim) (1.13.0)\n",
      "Requirement already satisfied: scipy>=0.18.1 in c:\\program files\\python36\\lib\\site-packages (from gensim) (1.4.1)\n",
      "Requirement already satisfied: numpy>=1.11.3 in c:\\program files\\python36\\lib\\site-packages (from gensim) (1.18.0)\n",
      "Requirement already satisfied: boto3 in c:\\program files\\python36\\lib\\site-packages (from smart-open>=1.8.1->gensim) (1.12.26)\n",
      "Requirement already satisfied: google-cloud-storage in c:\\program files\\python36\\lib\\site-packages (from smart-open>=1.8.1->gensim) (1.26.0)\n",
      "Requirement already satisfied: requests in c:\\program files\\python36\\lib\\site-packages (from smart-open>=1.8.1->gensim) (2.22.0)\n",
      "Requirement already satisfied: botocore<1.16.0,>=1.15.26 in c:\\program files\\python36\\lib\\site-packages (from boto3->smart-open>=1.8.1->gensim) (1.15.26)\n",
      "Requirement already satisfied: jmespath<1.0.0,>=0.7.1 in c:\\program files\\python36\\lib\\site-packages (from boto3->smart-open>=1.8.1->gensim) (0.9.5)\n",
      "Requirement already satisfied: s3transfer<0.4.0,>=0.3.0 in c:\\program files\\python36\\lib\\site-packages (from boto3->smart-open>=1.8.1->gensim) (0.3.3)\n",
      "Requirement already satisfied: google-resumable-media<0.6dev,>=0.5.0 in c:\\program files\\python36\\lib\\site-packages (from google-cloud-storage->smart-open>=1.8.1->gensim) (0.5.0)\n",
      "Requirement already satisfied: google-auth<2.0dev,>=1.11.0 in c:\\program files\\python36\\lib\\site-packages (from google-cloud-storage->smart-open>=1.8.1->gensim) (1.11.3)\n",
      "Requirement already satisfied: google-cloud-core<2.0dev,>=1.2.0 in c:\\program files\\python36\\lib\\site-packages (from google-cloud-storage->smart-open>=1.8.1->gensim) (1.3.0)\n",
      "Requirement already satisfied: urllib3!=1.25.0,!=1.25.1,<1.26,>=1.21.1 in c:\\program files\\python36\\lib\\site-packages (from requests->smart-open>=1.8.1->gensim) (1.25.7)\n",
      "Requirement already satisfied: idna<2.9,>=2.5 in c:\\program files\\python36\\lib\\site-packages (from requests->smart-open>=1.8.1->gensim) (2.8)\n",
      "Requirement already satisfied: certifi>=2017.4.17 in c:\\program files\\python36\\lib\\site-packages (from requests->smart-open>=1.8.1->gensim) (2019.11.28)\n",
      "Requirement already satisfied: chardet<3.1.0,>=3.0.2 in c:\\program files\\python36\\lib\\site-packages (from requests->smart-open>=1.8.1->gensim) (3.0.4)\n",
      "Requirement already satisfied: docutils<0.16,>=0.10 in c:\\program files\\python36\\lib\\site-packages (from botocore<1.16.0,>=1.15.26->boto3->smart-open>=1.8.1->gensim) (0.15.2)\n",
      "Requirement already satisfied: python-dateutil<3.0.0,>=2.1 in c:\\program files\\python36\\lib\\site-packages (from botocore<1.16.0,>=1.15.26->boto3->smart-open>=1.8.1->gensim) (2.8.1)\n",
      "Requirement already satisfied: cachetools<5.0,>=2.0.0 in c:\\program files\\python36\\lib\\site-packages (from google-auth<2.0dev,>=1.11.0->google-cloud-storage->smart-open>=1.8.1->gensim) (4.0.0)\n",
      "Requirement already satisfied: rsa<4.1,>=3.1.4 in c:\\program files\\python36\\lib\\site-packages (from google-auth<2.0dev,>=1.11.0->google-cloud-storage->smart-open>=1.8.1->gensim) (4.0)\n",
      "Requirement already satisfied: pyasn1-modules>=0.2.1 in c:\\program files\\python36\\lib\\site-packages (from google-auth<2.0dev,>=1.11.0->google-cloud-storage->smart-open>=1.8.1->gensim) (0.2.8)\n",
      "Requirement already satisfied: setuptools>=40.3.0 in c:\\program files\\python36\\lib\\site-packages (from google-auth<2.0dev,>=1.11.0->google-cloud-storage->smart-open>=1.8.1->gensim) (42.0.2)\n",
      "Requirement already satisfied: google-api-core<2.0.0dev,>=1.16.0 in c:\\program files\\python36\\lib\\site-packages (from google-cloud-core<2.0dev,>=1.2.0->google-cloud-storage->smart-open>=1.8.1->gensim) (1.16.0)\n",
      "Requirement already satisfied: pyasn1>=0.1.3 in c:\\program files\\python36\\lib\\site-packages (from rsa<4.1,>=3.1.4->google-auth<2.0dev,>=1.11.0->google-cloud-storage->smart-open>=1.8.1->gensim) (0.4.8)\n",
      "Requirement already satisfied: pytz in c:\\program files\\python36\\lib\\site-packages (from google-api-core<2.0.0dev,>=1.16.0->google-cloud-core<2.0dev,>=1.2.0->google-cloud-storage->smart-open>=1.8.1->gensim) (2019.3)\n",
      "Requirement already satisfied: protobuf>=3.4.0 in c:\\program files\\python36\\lib\\site-packages (from google-api-core<2.0.0dev,>=1.16.0->google-cloud-core<2.0dev,>=1.2.0->google-cloud-storage->smart-open>=1.8.1->gensim) (3.11.3)\n",
      "Requirement already satisfied: googleapis-common-protos<2.0dev,>=1.6.0 in c:\\program files\\python36\\lib\\site-packages (from google-api-core<2.0.0dev,>=1.16.0->google-cloud-core<2.0dev,>=1.2.0->google-cloud-storage->smart-open>=1.8.1->gensim) (1.51.0)\n"
     ]
    },
    {
     "name": "stderr",
     "output_type": "stream",
     "text": [
      "WARNING: You are using pip version 19.3.1; however, version 20.0.2 is available.\n",
      "You should consider upgrading via the 'python -m pip install --upgrade pip' command.\n"
     ]
    }
   ],
   "source": [
    "#Example sentences\n",
    "sentences = [['I', 'love', 'nlp'],\n",
    "['I', 'will', 'learn', 'nlp', 'in', '2','months'],\n",
    "['nlp', 'is', 'future'],\n",
    "[ 'nlp', 'saves', 'time', 'and', 'solves',\n",
    "'lot', 'of', 'industry', 'problems'],\n",
    "['nlp', 'uses', 'machine', 'learning']]\n",
    "\n",
    "#import library\n",
    "!pip install gensim\n",
    "import gensim\n",
    "from gensim.models import Word2Vec\n",
    "from sklearn.decomposition import PCA\n",
    "from matplotlib import pyplot\n"
   ]
  },
  {
   "cell_type": "code",
   "execution_count": 17,
   "metadata": {},
   "outputs": [
    {
     "name": "stdout",
     "output_type": "stream",
     "text": [
      "[-0.00757657 -0.00229284 -0.00399221 -0.00847701  0.00029316  0.00253036\n",
      "  0.00423158  0.0007747  -0.00770945  0.00253525 -0.00395164  0.00351035\n",
      " -0.00151057  0.00448578 -0.00013345  0.00178804  0.0018794   0.00267959\n",
      "  0.00132219 -0.00216749 -0.00312064 -0.00687658  0.0044296  -0.00356396\n",
      " -0.00993006  0.00855968  0.00514262 -0.0062792   0.00803149  0.00244613\n",
      "  0.00367083  0.00498781 -0.00724831  0.00176499  0.00927321 -0.00341121\n",
      " -0.00786066 -0.00650965 -0.00957028  0.00773163  0.00813717  0.00642674\n",
      "  0.00385205  0.00525082 -0.00453896 -0.00976858 -0.00666623  0.00336158\n",
      "  0.0067333   0.00065965]\n"
     ]
    },
    {
     "name": "stderr",
     "output_type": "stream",
     "text": [
      "c:\\program files\\python36\\lib\\site-packages\\ipykernel_launcher.py:5: DeprecationWarning: Call to deprecated `__getitem__` (Method will be removed in 4.0.0, use self.wv.__getitem__() instead).\n",
      "  \"\"\"\n"
     ]
    }
   ],
   "source": [
    "# training the model\n",
    "skipgram = Word2Vec(sentences, size =50, window = 3, min_count=1,sg = 1)\n",
    "\n",
    "# access vector for one word\n",
    "print(skipgram['nlp'])\n",
    "\n",
    "# Since our vector size parameter was 50, the model \n",
    "# gives a vector of size 50 for each word."
   ]
  },
  {
   "cell_type": "markdown",
   "metadata": {},
   "source": [
    "Recommended reading :\n",
    "--\n",
    "https://medium.freecodecamp.org/how-to-get-started-with-word2vec-and-then-how-to-make-it-work-d0a2fca9dad3\n",
    "\n",
    "\n",
    " https://medium.freecodecamp.org/how-to-get-started-with-word2vec-and-then-how-to-make-it-work-d0a2fca9dad3 \n",
    " \n",
    " https://nlpforhackers.io/word-embeddings/ \n",
    " \n",
    " https://machinelearningmastery.com/develop-word-embeddings-python-gensim/"
   ]
  },
  {
   "cell_type": "code",
   "execution_count": 18,
   "metadata": {},
   "outputs": [
    {
     "name": "stderr",
     "output_type": "stream",
     "text": [
      "c:\\program files\\python36\\lib\\site-packages\\ipykernel_launcher.py:3: DeprecationWarning: Call to deprecated `__getitem__` (Method will be removed in 4.0.0, use self.wv.__getitem__() instead).\n",
      "  This is separate from the ipykernel package so we can avoid doing imports until\n"
     ]
    },
    {
     "ename": "KeyError",
     "evalue": "\"word 'deep' not in vocabulary\"",
     "output_type": "error",
     "traceback": [
      "\u001b[1;31m---------------------------------------------------------------------------\u001b[0m",
      "\u001b[1;31mKeyError\u001b[0m                                  Traceback (most recent call last)",
      "\u001b[1;32m<ipython-input-18-b4fd17e1a2f4>\u001b[0m in \u001b[0;36m<module>\u001b[1;34m\u001b[0m\n\u001b[0;32m      1\u001b[0m \u001b[1;31m# access vector for another one word\u001b[0m\u001b[1;33m\u001b[0m\u001b[1;33m\u001b[0m\u001b[0m\n\u001b[0;32m      2\u001b[0m \u001b[1;33m\u001b[0m\u001b[0m\n\u001b[1;32m----> 3\u001b[1;33m \u001b[0mprint\u001b[0m\u001b[1;33m(\u001b[0m\u001b[0mskipgram\u001b[0m\u001b[1;33m[\u001b[0m\u001b[1;34m'deep'\u001b[0m\u001b[1;33m]\u001b[0m\u001b[1;33m)\u001b[0m\u001b[1;33m\u001b[0m\u001b[0m\n\u001b[0m",
      "\u001b[1;32mc:\\program files\\python36\\lib\\site-packages\\gensim\\utils.py\u001b[0m in \u001b[0;36mnew_func1\u001b[1;34m(*args, **kwargs)\u001b[0m\n\u001b[0;32m   1445\u001b[0m                     \u001b[0mstacklevel\u001b[0m\u001b[1;33m=\u001b[0m\u001b[1;36m2\u001b[0m\u001b[1;33m\u001b[0m\u001b[0m\n\u001b[0;32m   1446\u001b[0m                 )\n\u001b[1;32m-> 1447\u001b[1;33m                 \u001b[1;32mreturn\u001b[0m \u001b[0mfunc\u001b[0m\u001b[1;33m(\u001b[0m\u001b[1;33m*\u001b[0m\u001b[0margs\u001b[0m\u001b[1;33m,\u001b[0m \u001b[1;33m**\u001b[0m\u001b[0mkwargs\u001b[0m\u001b[1;33m)\u001b[0m\u001b[1;33m\u001b[0m\u001b[0m\n\u001b[0m\u001b[0;32m   1448\u001b[0m \u001b[1;33m\u001b[0m\u001b[0m\n\u001b[0;32m   1449\u001b[0m             \u001b[1;32mreturn\u001b[0m \u001b[0mnew_func1\u001b[0m\u001b[1;33m\u001b[0m\u001b[0m\n",
      "\u001b[1;32mc:\\program files\\python36\\lib\\site-packages\\gensim\\models\\word2vec.py\u001b[0m in \u001b[0;36m__getitem__\u001b[1;34m(self, words)\u001b[0m\n\u001b[0;32m   1119\u001b[0m \u001b[1;33m\u001b[0m\u001b[0m\n\u001b[0;32m   1120\u001b[0m         \"\"\"\n\u001b[1;32m-> 1121\u001b[1;33m         \u001b[1;32mreturn\u001b[0m \u001b[0mself\u001b[0m\u001b[1;33m.\u001b[0m\u001b[0mwv\u001b[0m\u001b[1;33m.\u001b[0m\u001b[0m__getitem__\u001b[0m\u001b[1;33m(\u001b[0m\u001b[0mwords\u001b[0m\u001b[1;33m)\u001b[0m\u001b[1;33m\u001b[0m\u001b[0m\n\u001b[0m\u001b[0;32m   1122\u001b[0m \u001b[1;33m\u001b[0m\u001b[0m\n\u001b[0;32m   1123\u001b[0m     \u001b[1;33m@\u001b[0m\u001b[0mdeprecated\u001b[0m\u001b[1;33m(\u001b[0m\u001b[1;34m\"Method will be removed in 4.0.0, use self.wv.__contains__() instead\"\u001b[0m\u001b[1;33m)\u001b[0m\u001b[1;33m\u001b[0m\u001b[0m\n",
      "\u001b[1;32mc:\\program files\\python36\\lib\\site-packages\\gensim\\models\\keyedvectors.py\u001b[0m in \u001b[0;36m__getitem__\u001b[1;34m(self, entities)\u001b[0m\n\u001b[0;32m    351\u001b[0m         \u001b[1;32mif\u001b[0m \u001b[0misinstance\u001b[0m\u001b[1;33m(\u001b[0m\u001b[0mentities\u001b[0m\u001b[1;33m,\u001b[0m \u001b[0mstring_types\u001b[0m\u001b[1;33m)\u001b[0m\u001b[1;33m:\u001b[0m\u001b[1;33m\u001b[0m\u001b[0m\n\u001b[0;32m    352\u001b[0m             \u001b[1;31m# allow calls like trained_model['office'], as a shorthand for trained_model[['office']]\u001b[0m\u001b[1;33m\u001b[0m\u001b[1;33m\u001b[0m\u001b[0m\n\u001b[1;32m--> 353\u001b[1;33m             \u001b[1;32mreturn\u001b[0m \u001b[0mself\u001b[0m\u001b[1;33m.\u001b[0m\u001b[0mget_vector\u001b[0m\u001b[1;33m(\u001b[0m\u001b[0mentities\u001b[0m\u001b[1;33m)\u001b[0m\u001b[1;33m\u001b[0m\u001b[0m\n\u001b[0m\u001b[0;32m    354\u001b[0m \u001b[1;33m\u001b[0m\u001b[0m\n\u001b[0;32m    355\u001b[0m         \u001b[1;32mreturn\u001b[0m \u001b[0mvstack\u001b[0m\u001b[1;33m(\u001b[0m\u001b[1;33m[\u001b[0m\u001b[0mself\u001b[0m\u001b[1;33m.\u001b[0m\u001b[0mget_vector\u001b[0m\u001b[1;33m(\u001b[0m\u001b[0mentity\u001b[0m\u001b[1;33m)\u001b[0m \u001b[1;32mfor\u001b[0m \u001b[0mentity\u001b[0m \u001b[1;32min\u001b[0m \u001b[0mentities\u001b[0m\u001b[1;33m]\u001b[0m\u001b[1;33m)\u001b[0m\u001b[1;33m\u001b[0m\u001b[0m\n",
      "\u001b[1;32mc:\\program files\\python36\\lib\\site-packages\\gensim\\models\\keyedvectors.py\u001b[0m in \u001b[0;36mget_vector\u001b[1;34m(self, word)\u001b[0m\n\u001b[0;32m    469\u001b[0m \u001b[1;33m\u001b[0m\u001b[0m\n\u001b[0;32m    470\u001b[0m     \u001b[1;32mdef\u001b[0m \u001b[0mget_vector\u001b[0m\u001b[1;33m(\u001b[0m\u001b[0mself\u001b[0m\u001b[1;33m,\u001b[0m \u001b[0mword\u001b[0m\u001b[1;33m)\u001b[0m\u001b[1;33m:\u001b[0m\u001b[1;33m\u001b[0m\u001b[0m\n\u001b[1;32m--> 471\u001b[1;33m         \u001b[1;32mreturn\u001b[0m \u001b[0mself\u001b[0m\u001b[1;33m.\u001b[0m\u001b[0mword_vec\u001b[0m\u001b[1;33m(\u001b[0m\u001b[0mword\u001b[0m\u001b[1;33m)\u001b[0m\u001b[1;33m\u001b[0m\u001b[0m\n\u001b[0m\u001b[0;32m    472\u001b[0m \u001b[1;33m\u001b[0m\u001b[0m\n\u001b[0;32m    473\u001b[0m     \u001b[1;32mdef\u001b[0m \u001b[0mwords_closer_than\u001b[0m\u001b[1;33m(\u001b[0m\u001b[0mself\u001b[0m\u001b[1;33m,\u001b[0m \u001b[0mw1\u001b[0m\u001b[1;33m,\u001b[0m \u001b[0mw2\u001b[0m\u001b[1;33m)\u001b[0m\u001b[1;33m:\u001b[0m\u001b[1;33m\u001b[0m\u001b[0m\n",
      "\u001b[1;32mc:\\program files\\python36\\lib\\site-packages\\gensim\\models\\keyedvectors.py\u001b[0m in \u001b[0;36mword_vec\u001b[1;34m(self, word, use_norm)\u001b[0m\n\u001b[0;32m    466\u001b[0m             \u001b[1;32mreturn\u001b[0m \u001b[0mresult\u001b[0m\u001b[1;33m\u001b[0m\u001b[0m\n\u001b[0;32m    467\u001b[0m         \u001b[1;32melse\u001b[0m\u001b[1;33m:\u001b[0m\u001b[1;33m\u001b[0m\u001b[0m\n\u001b[1;32m--> 468\u001b[1;33m             \u001b[1;32mraise\u001b[0m \u001b[0mKeyError\u001b[0m\u001b[1;33m(\u001b[0m\u001b[1;34m\"word '%s' not in vocabulary\"\u001b[0m \u001b[1;33m%\u001b[0m \u001b[0mword\u001b[0m\u001b[1;33m)\u001b[0m\u001b[1;33m\u001b[0m\u001b[0m\n\u001b[0m\u001b[0;32m    469\u001b[0m \u001b[1;33m\u001b[0m\u001b[0m\n\u001b[0;32m    470\u001b[0m     \u001b[1;32mdef\u001b[0m \u001b[0mget_vector\u001b[0m\u001b[1;33m(\u001b[0m\u001b[0mself\u001b[0m\u001b[1;33m,\u001b[0m \u001b[0mword\u001b[0m\u001b[1;33m)\u001b[0m\u001b[1;33m:\u001b[0m\u001b[1;33m\u001b[0m\u001b[0m\n",
      "\u001b[1;31mKeyError\u001b[0m: \"word 'deep' not in vocabulary\""
     ]
    }
   ],
   "source": [
    "# access vector for another one word\n",
    "\n",
    "print(skipgram['deep'])"
   ]
  },
  {
   "cell_type": "raw",
   "metadata": {},
   "source": [
    "Note : We get an error saying the word doesn’t exist because this word was\n",
    "not there in our input training data. This is the reason we need to train the\n",
    "algorithm on as much data possible so that we do not miss out on words."
   ]
  },
  {
   "cell_type": "markdown",
   "metadata": {},
   "source": [
    "Continuous Bag of Words (CBOW)\n",
    "--\n",
    "Now let’s see how to build CBOW model. (Its very similar to SkipGram model)"
   ]
  },
  {
   "cell_type": "code",
   "execution_count": 19,
   "metadata": {},
   "outputs": [],
   "source": [
    "#import library\n",
    "from gensim.models import Word2Vec\n",
    "from sklearn.decomposition import PCA\n",
    "from matplotlib import pyplot\n",
    "\n",
    "#Example sentences\n",
    "sentences = [['I', 'love', 'nlp'],\n",
    "['I', 'will', 'learn', 'nlp', 'in', '2','months'],\n",
    "['nlp', 'is', 'future'],\n",
    "[ 'nlp', 'saves', 'time', 'and', 'solves',\n",
    "'lot', 'of', 'industry', 'problems'],\n",
    "['nlp', 'uses', 'machine', 'learning']]"
   ]
  },
  {
   "cell_type": "code",
   "execution_count": 20,
   "metadata": {},
   "outputs": [
    {
     "name": "stdout",
     "output_type": "stream",
     "text": [
      "[-0.00757657 -0.00229284 -0.00399221 -0.00847701  0.00029316  0.00253036\n",
      "  0.00423158  0.0007747  -0.00770945  0.00253525 -0.00395164  0.00351035\n",
      " -0.00151057  0.00448578 -0.00013345  0.00178804  0.0018794   0.00267959\n",
      "  0.00132219 -0.00216749 -0.00312064 -0.00687658  0.0044296  -0.00356396\n",
      " -0.00993006  0.00855968  0.00514262 -0.0062792   0.00803149  0.00244613\n",
      "  0.00367083  0.00498781 -0.00724831  0.00176499  0.00927321 -0.00341121\n",
      " -0.00786066 -0.00650965 -0.00957028  0.00773163  0.00813717  0.00642674\n",
      "  0.00385205  0.00525082 -0.00453896 -0.00976858 -0.00666623  0.00336158\n",
      "  0.0067333   0.00065965]\n"
     ]
    },
    {
     "name": "stderr",
     "output_type": "stream",
     "text": [
      "c:\\program files\\python36\\lib\\site-packages\\ipykernel_launcher.py:5: DeprecationWarning: Call to deprecated `__getitem__` (Method will be removed in 4.0.0, use self.wv.__getitem__() instead).\n",
      "  \"\"\"\n"
     ]
    }
   ],
   "source": [
    "# training the model\n",
    "cbow = Word2Vec(sentences, size =50, window = 3, min_count=1,sg = 1)\n",
    "\n",
    "# access vector for one word\n",
    "print(cbow['nlp'])"
   ]
  },
  {
   "cell_type": "markdown",
   "metadata": {},
   "source": [
    "Important Observation \n",
    "--\n",
    "To train these models, it requires a huge amount of computing\n",
    "power. So, let us go ahead and use Google’s pre-trained model, which has\n",
    "been trained with over 100 billion words.\n",
    "\n",
    "Download the model from the below path and keep it in your local\n",
    "storage:\n",
    "https://drive.google.com/file/d/0B7XkCwpI5KDYNlNUTTlSS21pQmM/edit\n",
    "\n",
    "Note : The Google Db is soo large that we would get ValueError, like this : \n",
    "ValueError: array is too big; `arr.size * arr.dtype.itemsize` is larger than the maximum possible size.\n",
    "\n",
    "> Research : find a solution to this problem."
   ]
  },
  {
   "cell_type": "code",
   "execution_count": 2,
   "metadata": {},
   "outputs": [
    {
     "name": "stdout",
     "output_type": "stream",
     "text": [
      "0.40797037\n"
     ]
    }
   ],
   "source": [
    "import warnings\n",
    "warnings.filterwarnings(\"ignore\", category=FutureWarning)\n",
    "\n",
    "# import gensim package\n",
    "import gensim\n",
    "\n",
    "# load the saved model\n",
    "model = gensim.models.KeyedVectors.load_word2vec_format('C:\\Program Files\\Python36\\suven\\Adv ML\\datasets\\datasets/GoogleNews-vectors-negative300.bin', binary=True)\n",
    "\n",
    "#Checking how similarity works.\n",
    "print (model.similarity('this', 'is'))"
   ]
  },
  {
   "cell_type": "code",
   "execution_count": 3,
   "metadata": {},
   "outputs": [
    {
     "name": "stdout",
     "output_type": "stream",
     "text": [
      "0.057204384\n"
     ]
    }
   ],
   "source": [
    "#Lets check one more.\n",
    "print (model.similarity('post', 'book'))"
   ]
  },
  {
   "cell_type": "markdown",
   "metadata": {},
   "source": [
    "“This” and “is” have a good amount of similarity, but the similarity\n",
    "between the words “post” and “book” is poor. For any given set of words,\n",
    "it uses the vectors of both the words and calculates the similarity between\n",
    "them."
   ]
  },
  {
   "cell_type": "code",
   "execution_count": 5,
   "metadata": {},
   "outputs": [
    {
     "data": {
      "text/plain": [
       "'cereal'"
      ]
     },
     "execution_count": 5,
     "metadata": {},
     "output_type": "execute_result"
    }
   ],
   "source": [
    "# Finding the odd one out.\n",
    "model.doesnt_match('breakfast cereal dinner lunch'.split())"
   ]
  },
  {
   "cell_type": "raw",
   "metadata": {},
   "source": [
    "Of 'breakfast’, ‘cereal’, ‘dinner’ and ‘lunch', only cereal is the word that is\n",
    "not anywhere related to the remaining 3 words."
   ]
  },
  {
   "cell_type": "code",
   "execution_count": 6,
   "metadata": {},
   "outputs": [
    {
     "ename": "NameError",
     "evalue": "name 'word_vectors' is not defined",
     "output_type": "error",
     "traceback": [
      "\u001b[1;31m---------------------------------------------------------------------------\u001b[0m",
      "\u001b[1;31mNameError\u001b[0m                                 Traceback (most recent call last)",
      "\u001b[1;32m<ipython-input-6-ba51bf67ec92>\u001b[0m in \u001b[0;36m<module>\u001b[1;34m\u001b[0m\n\u001b[0;32m      1\u001b[0m \u001b[1;31m# It is also finding the relations between words.\u001b[0m\u001b[1;33m\u001b[0m\u001b[1;33m\u001b[0m\u001b[0m\n\u001b[1;32m----> 2\u001b[1;33m \u001b[0mword_vectors\u001b[0m\u001b[1;33m.\u001b[0m\u001b[0mmost_similar\u001b[0m\u001b[1;33m(\u001b[0m\u001b[0mpositive\u001b[0m\u001b[1;33m=\u001b[0m\u001b[1;33m[\u001b[0m\u001b[1;34m'woman'\u001b[0m\u001b[1;33m,\u001b[0m \u001b[1;34m'king'\u001b[0m\u001b[1;33m]\u001b[0m\u001b[1;33m,\u001b[0m\u001b[0mnegative\u001b[0m\u001b[1;33m=\u001b[0m\u001b[1;33m[\u001b[0m\u001b[1;34m'man'\u001b[0m\u001b[1;33m]\u001b[0m\u001b[1;33m)\u001b[0m\u001b[1;33m\u001b[0m\u001b[0m\n\u001b[0m",
      "\u001b[1;31mNameError\u001b[0m: name 'word_vectors' is not defined"
     ]
    }
   ],
   "source": [
    "# It is also finding the relations between words.\n",
    "word_vectors.most_similar(positive=['woman', 'king'],negative=['man'])"
   ]
  },
  {
   "cell_type": "markdown",
   "metadata": {},
   "source": [
    "![word2Vec_google_sample_output_image.png](images/word2Vec_google_sample_output_image.png 'word2Vec_google_sample_output_image')"
   ]
  },
  {
   "cell_type": "markdown",
   "metadata": {},
   "source": [
    "Implementing fastText\n",
    "--\n",
    "fastText is another deep learning framework developed by Facebook to\n",
    "capture context and meaning.\n",
    "\n",
    "Problem\n",
    "--\n",
    "How to implement fastText in Python.\n",
    "\n",
    "Solution\n",
    "--\n",
    "fastText is the improvised version of word2vec. word2vec basically\n",
    "considers words to build the representation. But fastText takes each\n",
    "character while computing the representation of the word."
   ]
  },
  {
   "cell_type": "code",
   "execution_count": 8,
   "metadata": {},
   "outputs": [
    {
     "name": "stderr",
     "output_type": "stream",
     "text": [
      "c:\\program files\\python36\\lib\\site-packages\\ipykernel_launcher.py:18: DeprecationWarning: Call to deprecated `__getitem__` (Method will be removed in 4.0.0, use self.wv.__getitem__() instead).\n",
      "c:\\program files\\python36\\lib\\site-packages\\ipykernel_launcher.py:29: DeprecationWarning: Call to deprecated `most_similar` (Method will be removed in 4.0.0, use self.wv.most_similar() instead).\n"
     ]
    },
    {
     "name": "stdout",
     "output_type": "stream",
     "text": [
      "[-0.01860199 -0.00608848 -0.0037989   0.00615105  0.00781452 -0.01186091\n",
      " -0.01395059 -0.02907668  0.00893755 -0.03093685]\n",
      "[('saves', 0.2177456021308899), ('love', 0.21202175319194794), ('future', 0.19009274244308472)]\n"
     ]
    }
   ],
   "source": [
    "# Let us see how to build a fastText word embedding.\n",
    "# Import FastText\n",
    "from gensim.models import FastText\n",
    "from sklearn.decomposition import PCA\n",
    "from matplotlib import pyplot\n",
    "\n",
    "#Example sentences\n",
    "sentences = [['I', 'love', 'nlp'],\n",
    "['I', 'will', 'learn', 'nlp', 'in', '2','months'],\n",
    "['nlp', 'is', 'future'],\n",
    "[ 'nlp', 'saves', 'time', 'and', 'solves',\n",
    "'lot', 'of', 'industry', 'problems'],\n",
    "['nlp', 'uses', 'machine', 'learning']]\n",
    "\n",
    "fast = FastText(sentences,size=10, window=1, min_count=1, workers=5, min_n=1, max_n=2)\n",
    "\n",
    "# vector for word nlp\n",
    "print(fast['nlp'])\n",
    "\n",
    "\n",
    "# size=10 -> means size of vector to represent each token or word\n",
    "# window=1 -> The maximum distance between the target word and its neighboring word.\n",
    "# min_count=1 -> Minimium frequency count of words. \n",
    "#                The model would ignore words that do not satisfy the min_count.\n",
    "#                Extremely infrequent words are usually unimportant.\n",
    "# workers -> How many threads to use behind the scenes?\n",
    "# min_n=1, max_n=2  -> When finding similarity or analogies like this :\n",
    "# \"Father\" - \"Boy\" + \"Girl\" == \"Mother\"\n",
    "print(fast.most_similar(['girl', 'father'], ['boy'], topn=3))\n",
    "# [('mother', 0.7996115684509277), ('grandfather', 0.7629683613777161), ('wife', 0.7478234767913818)]\n",
    "# we want the model to show min 1 and max 2 analogies\n",
    "\n",
    "\n",
    "\n",
    "\n",
    "# you may get memory error due to less RAM free space\n",
    "# solution : https://github.com/RaRe-Technologies/gensim/issues/1824"
   ]
  },
  {
   "cell_type": "raw",
   "metadata": {},
   "source": [
    "We hope that by now you are familiar and comfortable with processing\n",
    "the natural language. Now that data is cleaned and features are created,\n",
    "let’s jump into building some applications around it that solves the\n",
    "business problem."
   ]
  }
 ],
 "metadata": {
  "kernelspec": {
   "display_name": "Python 3",
   "language": "python",
   "name": "python3"
  },
  "language_info": {
   "codemirror_mode": {
    "name": "ipython",
    "version": 3
   },
   "file_extension": ".py",
   "mimetype": "text/x-python",
   "name": "python",
   "nbconvert_exporter": "python",
   "pygments_lexer": "ipython3",
   "version": "3.6.5"
  }
 },
 "nbformat": 4,
 "nbformat_minor": 2
}
