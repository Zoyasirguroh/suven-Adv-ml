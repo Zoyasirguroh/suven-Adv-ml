{
 "cells": [
  {
   "cell_type": "markdown",
   "metadata": {},
   "source": [
    "Recipe 6.3.  Summarizing Text Data\n",
    "--\n",
    "If you just look around, there are lots of articles and books available. Let’s\n",
    "assume you want to learn a concept in NLP and if you Google it, you will\n",
    "find an article. You like the content of the article, but it’s too long to read\n",
    "it one more time. You want to basically summarize the article and save it\n",
    "somewhere so that you can read it later.\n",
    "\n",
    "Well, NLP has a solution for that. Text summarization will help us do\n",
    "that. You don’t have to read the full article or book every time."
   ]
  },
  {
   "cell_type": "markdown",
   "metadata": {},
   "source": [
    "Problem\n",
    "--\n",
    "Text summarization of article/document using different algorithms in Python.\n",
    "\n",
    "Solution\n",
    "--\n",
    "Text summarization is the process of making large documents into smaller\n",
    "ones without losing the context, which eventually saves readers time. This\n",
    "can be done using different techniques like the following:\n",
    "\n",
    "• TextRank: A graph-based ranking algorithm\n",
    "\n",
    "• Feature-based text summarization\n",
    "\n",
    "• LexRank: TF-IDF with a graph-based algorithm\n",
    "\n",
    "• Topic based\n",
    "\n",
    "• Using sentence embeddings\n",
    "\n",
    "• Encoder-Decoder Model: Deep learning techniques"
   ]
  },
  {
   "cell_type": "markdown",
   "metadata": {},
   "source": [
    "How It Works\n",
    "----\n",
    "We will explore the first 2 approaches in this recipe and see how it works.\n",
    "\n",
    "Method 3-1 : TextRank\n",
    "---\n",
    "TextRank is the graph-based ranking algorithm for NLP. It is basically\n",
    "inspired by PageRank, which is used in the Google search engine but\n",
    "particularly designed for text. It will extract the topics, create nodes out of\n",
    "them, and capture the relation between nodes to summarize the text.\n",
    "\n",
    "Let’s see how to do it using the Python package Gensim. \n",
    "“Summarize” is the function used.\n",
    "\n",
    "Before that, let’s do all the imports. \n",
    "Let’s say your article is Wikipedia for the topic of Natural language processing."
   ]
  },
  {
   "cell_type": "markdown",
   "metadata": {},
   "source": [
    "19/4/2020 : Notes :   LDA :\n",
    "\n",
    "p(word) -> topic , threshold = 0.5\n",
    "\n",
    "p(NLP) -> Text classification = 0.51 > 0.5  \n",
    "\n",
    "word embeddings -> Wikipedia \n",
    "\n",
    "p(sentence) -> topic\n",
    "\n",
    "p(According to the Govt Notifications)  -> Govt. circular = 0.9\n",
    "\n",
    "\n",
    "doc1 \n",
    "According to the Govt Notifications -> 90% Govt Circular \n",
    "..\t\t\t\t\t\t\t\t\t-> 34% Pvt Ltd companies\n",
    "..\t\t\t\t\t\t\t\t\t-> 32.5% IT Act\n",
    "..\n",
    "\n",
    "10 phrases"
   ]
  },
  {
   "cell_type": "code",
   "execution_count": 2,
   "metadata": {},
   "outputs": [
    {
     "name": "stdout",
     "output_type": "stream",
     "text": [
      "8657\n",
      "('Natural language processing - Wikipedia', 'Natural language processing (NLP) is a subfield of linguistics, computer science, information engineering, and artificial intelligence concerned with the interactions between computers and human (natural) languages, in particular how to program computers to process and analyze large amounts of natural language data.\\n Challenges in natural language processing frequently involve speech recognition, natural language understanding, and natural language generation.\\n The history of natural language processing (NLP) generally started in the 1950s, although work can be found from earlier periods.\\nIn 1950, Alan Turing published an article titled \"Computing Machinery and Intelligence\" which proposed what is now called the Turing test as a criterion of intelligence[clarification needed].\\n The Georgetown experiment in 1954 involved fully automatic translation of more than sixty Russian sentences into English. The authors claimed that within three or five years, machine translation would be a solved problem.[2]  However, real progress was much slower, and after the ALPAC report in 1966, which found that ten-year-long research had failed to fulfill the expectations, funding for machine translation was dramatically reduced.  Little further research in machine translation was conducted until the late 1980s when the first statistical machine translation systems were developed.\\n Some notably successful natural language processing systems developed in the 1960s were SHRDLU, a natural language system working in restricted \"blocks worlds\" with restricted vocabularies, and ELIZA, a simulation of a Rogerian psychotherapist, written by Joseph Weizenbaum between 1964 and 1966.  Using almost no information about human thought or emotion, ELIZA sometimes provided a startlingly human-like interaction. When the \"patient\" exceeded the very small knowledge base, ELIZA might provide a generic response, for example, responding to \"My head hurts\" with \"Why do you say your head hurts?\".\\n During the 1970s, many programmers began to write \"conceptual ontologies\", which structured real-world information into computer-understandable data.  Examples are MARGIE (Schank, 1975), SAM (Cullingford, 1978), PAM (Wilensky, 1978), TaleSpin (Meehan, 1976), QUALM (Lehnert, 1977), Politics (Carbonell, 1979), and Plot Units (Lehnert 1981).  During this time, many chatterbots were written including PARRY, Racter, and Jabberwacky.\\n Up to the 1980s, most natural language processing systems were based on complex sets of hand-written rules.  Starting in the late 1980s, however, there was a revolution in natural language processing with the introduction of machine learning algorithms for language processing.  This was due to both the steady increase in computational power (see Moore\\'s law) and the gradual lessening of the dominance of Chomskyan theories of linguistics (e.g. transformational grammar), whose theoretical underpinnings discouraged the sort of corpus linguistics that underlies the machine-learning approach to language processing.[3] Some of the earliest-used machine learning algorithms, such as decision trees, produced systems of hard if-then rules similar to existing hand-written rules.  However, part-of-speech tagging introduced the use of hidden Markov models to natural language processing, and increasingly, research has focused on statistical models, which make soft, probabilistic decisions based on attaching real-valued weights to the features making up the input data. The cache language models upon which many speech recognition systems now rely are examples of such statistical models.  Such models are generally more robust when given unfamiliar input, especially input that contains errors (as is very common for real-world data), and produce more reliable results when integrated into a larger system comprising multiple subtasks.\\n Many of the notable early successes occurred in the field of machine translation, due especially to work at IBM Research, where successively more complicated statistical models were developed.  These systems were able to take advantage of existing multilingual textual corpora that had been produced by the Parliament of Canada and the European Union as a result of laws calling for the translation of all governmental proceedings into all official languages of the corresponding systems of government.  However, most other systems depended on corpora specifically developed for the tasks implemented by these systems, which was (and often continues to be) a major limitation in the success of these systems. As a result, a great deal of research has gone into methods of more effectively learning from limited amounts of data.\\n Recent research has increasingly focused on unsupervised and semi-supervised learning algorithms.  Such algorithms can learn from data that has not been hand-annotated with the desired answers or using a combination of annotated and non-annotated data.  Generally, this task is much more difficult than supervised learning, and typically produces less accurate results for a given amount of input data.  However, there is an enormous amount of non-annotated data available (including, among other things, the entire content of the World Wide Web), which can often make up for the inferior results if the algorithm used has a low enough time complexity to be practical.\\n In the 2010s, representation learning and deep neural network-style machine learning methods became widespread in natural language processing, due in part to a flurry of results showing that such techniques[4][5] can achieve state-of-the-art results in many natural language tasks, for example in language modeling,[6] parsing,[7][8] and many others. Popular techniques include the use of word embeddings to capture semantic properties of words, and an increase in end-to-end learning of a higher-level task (e.g., question answering) instead of relying on a pipeline of separate intermediate tasks (e.g., part-of-speech tagging and dependency parsing). In some areas, this shift has entailed substantial changes in how NLP systems are designed, such that deep neural network-based approaches may be viewed as a new paradigm distinct from statistical natural language processing. For instance, the term neural machine translation (NMT) emphasizes the fact that deep learning-based approaches to machine translation directly learn sequence-to-sequence transformations, obviating the need for intermediate steps such as word alignment and language modeling that was used in statistical machine translation (SMT).\\n In the early days, many language-processing systems were designed by hand-coding a set of rules:[9][10] such as by writing grammars or devising heuristic rules for stemming. \\n Since the so-called \"statistical revolution\"[11][12] in the late 1980s and mid-1990s, much natural language processing research has relied heavily on machine learning. The machine-learning paradigm calls instead for using statistical inference to automatically learn such rules through the analysis of large corpora (the plural form of corpus, is a set of documents, possibly with human or computer annotations) of typical real-world examples.\\n Many different classes of machine-learning algorithms have been applied to natural-language-processing tasks. These algorithms take as input a large set of \"features\" that are generated from the input data. Some of the earliest-used algorithms, such as decision trees, produced systems of hard if-then rules similar to the systems of handwritten rules that were then common. Increasingly, however, research has focused on statistical models, which make soft, probabilistic decisions based on attaching real-valued weights to each input feature. Such models have the advantage that they can express the relative certainty of many different possible answers rather than only one, producing more reliable results when such a model is included as a component of a larger system.\\n Systems based on machine-learning algorithms have many advantages over hand-produced rules:\\n The following is a list of some of the most commonly researched tasks in natural language processing. Some of these tasks have direct real-world applications, while others more commonly serve as subtasks that are used to aid in solving larger tasks.\\n Though natural language processing tasks are closely intertwined, they are frequently subdivided into categories for convenience. A coarse division is given below.\\n The first published work by an artificial intelligence was published in 2018, 1 the Road, marketed as a novel, contains sixty million words.\\n')\n"
     ]
    }
   ],
   "source": [
    "# Import BeautifulSoup and urllib libraries to fetch data from Wikipedia.\n",
    "from bs4 import BeautifulSoup\n",
    "from urllib.request import urlopen\n",
    "\n",
    "# Function to get data from Wikipedia\n",
    "def get_only_text(url):\n",
    " page = urlopen(url)\n",
    " soup = BeautifulSoup(page)\n",
    " text = ' '.join(map(lambda p: p.text, soup.find_all('p')))\n",
    " return soup.title.text, text\n",
    "\n",
    "# Mention the Wikipedia url\n",
    "url=\"https://en.wikipedia.org/wiki/Natural_language_processing\"\n",
    "\n",
    "# Call the function created above\n",
    "\n",
    "text = get_only_text(url)\n",
    "\n",
    "# Count the number of letters\n",
    "print(len(''.join(text)))\n",
    "\n",
    "print(text)"
   ]
  },
  {
   "cell_type": "code",
   "execution_count": 7,
   "metadata": {},
   "outputs": [
    {
     "data": {
      "text/plain": [
       "'However, part-of-speech tagging introduced the use of hidden Markov models to natural language processing, and increasingly, research has focused on statistical models, which make soft, probabilistic decisions based on attaching real-valued weights to the features making up the input data.\\nSuch models are generally more robust when given unfamiliar input, especially input that contains errors (as is very common for real-world data), and produce more reliable results when integrated into a larger system comprising multiple subtasks.\\\\n Many of the notable early successes occurred in the field of machine translation, due especially to work at IBM Research, where successively more complicated statistical models were developed.'"
      ]
     },
     "execution_count": 7,
     "metadata": {},
     "output_type": "execute_result"
    }
   ],
   "source": [
    "# Import summarize from gensim\n",
    "from gensim.summarization.summarizer import summarize\n",
    "from gensim.summarization import keywords\n",
    "\n",
    "# Convert text to string format\n",
    "\n",
    "text = str(text)\n",
    "\n",
    "#Summarize the text with ratio 0.1 (10% of the total words.)\n",
    "\n",
    "summarize(text,ratio=0.1)\n"
   ]
  },
  {
   "cell_type": "raw",
   "metadata": {},
   "source": [
    "That’s it. The generated summary is as simple as that. If you read this\n",
    "summary and whole article, it's close enough. But still, there is a lot of\n",
    "room for improvement."
   ]
  },
  {
   "cell_type": "code",
   "execution_count": 8,
   "metadata": {},
   "outputs": [
    {
     "name": "stdout",
     "output_type": "stream",
     "text": [
      "learning\n",
      "learn\n",
      "real\n",
      "languages\n",
      "systems\n",
      "results\n",
      "result\n",
      "worlds\n",
      "world\n",
      "data\n",
      "research\n",
      "researched\n",
      "tasks\n",
      "task\n",
      "statistical\n",
      "base\n",
      "based\n",
      "natural language processing\n",
      "rules\n",
      "computers\n",
      "computing\n",
      "computational\n",
      "process\n",
      "translation\n",
      "machine\n",
      "word\n",
      "words\n",
      "answers\n",
      "answering\n",
      "hand\n",
      "large\n",
      "intelligence\n",
      "human\n",
      "produced\n",
      "produce\n",
      "produces\n",
      "producing\n",
      "input\n",
      "generation\n",
      "generally\n",
      "generic\n",
      "generated\n",
      "including\n",
      "include\n",
      "included\n"
     ]
    }
   ],
   "source": [
    "#get list of keywords\n",
    "print(keywords(text,ratio=0.1))"
   ]
  },
  {
   "cell_type": "markdown",
   "metadata": {},
   "source": [
    "Method 3-2 :  Feature-based text summarization\n",
    "--\n",
    "This feature-based text summarization methods will extract a feature from\n",
    "the sentence and check the importance to rank it. Position, length, term\n",
    "frequency, named entity, and many other features are used to calculate the\n",
    "score.\n",
    "\n",
    "Luhn’s Algorithm is one of the feature-based algorithms, and we will\n",
    "see how to implement it using the sumy library."
   ]
  },
  {
   "cell_type": "code",
   "execution_count": 11,
   "metadata": {},
   "outputs": [
    {
     "name": "stdout",
     "output_type": "stream",
     "text": [
      "[2] However, real progress was much slower, and after the ALPAC report in 1966, which found that ten-year-long research had failed to fulfill the expectations, funding for machine translation was dramatically reduced.\n",
      "Generally, this task is much more difficult than supervised learning , and typically produces less accurate results for a given amount of input data.\n",
      "However, there is an enormous amount of non-annotated data available (including, among other things, the entire content of the World Wide Web ), which can often make up for the inferior results if the algorithm used has a low enough time complexity to be practical.\n",
      "In some areas, this shift has entailed substantial changes in how NLP systems are designed, such that deep neural network-based approaches may be viewed as a new paradigm distinct from statistical natural language processing.\n",
      "The machine-learning paradigm calls instead for using statistical inference to automatically learn such rules through the analysis of large corpora (the plural form of corpus , is a set of documents, possibly with human or computer annotations) of typical real-world examples.\n",
      "Increasingly, however, research has focused on statistical models , which make soft, probabilistic decisions based on attaching real-valued weights to each input feature.\n",
      "Natural language understanding Convert chunks of text into more formal representations such as first-order logic structures that are easier for computer programs to manipulate.\n",
      "Also, given that words in the same language are spoken by people with different accents, the speech recognition software must be able to recognize the wide variety of input as being identical to each other in terms of its textual equivalent.\n",
      "[ self-published source ] ^ Chomskyan linguistics encourages the investigation of \" corner cases \" that stress the limits of its theoretical models (comparable to pathological phenomena in mathematics), typically created using thought experiments , rather than the systematic investigation of typical phenomena that occur in real-world data, as is the case in corpus linguistics .\n",
      "^ PASCAL Recognizing Textual Entailment Challenge (RTE-7) https://tac.nist.gov//2011/RTE/ ^ Yi, Chucai; Tian, Yingli (2012), \"Assistive Text Reading from Complex Background for Blind Persons\", Camera-Based Document Analysis and Recognition , Springer Berlin Heidelberg, pp.\n"
     ]
    }
   ],
   "source": [
    "# Install sumy\n",
    "# !pip install sumy\n",
    "# Import the packages\n",
    "from sumy.parsers.html import HtmlParser\n",
    "from sumy.parsers.plaintext import PlaintextParser\n",
    "from sumy.nlp.tokenizers import Tokenizer\n",
    "from sumy.summarizers.lsa import LsaSummarizer\n",
    "from sumy.nlp.stemmers import Stemmer\n",
    "from sumy.utils import get_stop_words\n",
    "from sumy.summarizers.luhn import LuhnSummarizer\n",
    "\n",
    "# Extracting and summarizing\n",
    "LANGUAGE = \"english\"\n",
    "SENTENCES_COUNT = 10\n",
    "\n",
    "url=\"https://en.wikipedia.org/wiki/Natural_language_processing\"\n",
    "parser = HtmlParser.from_url(url, Tokenizer(LANGUAGE))\n",
    "summarizer = LsaSummarizer()\n",
    "summarizer = LsaSummarizer(Stemmer(LANGUAGE))\n",
    "summarizer.stop_words = get_stop_words(LANGUAGE)\n",
    "\n",
    "for sentence in summarizer(parser.document, SENTENCES_COUNT):\n",
    " print(sentence)"
   ]
  },
  {
   "cell_type": "code",
   "execution_count": 18,
   "metadata": {},
   "outputs": [
    {
     "name": "stdout",
     "output_type": "stream",
     "text": [
      "<DOM with 18 paragraphs> \n",
      "\n",
      "\n",
      "<function summarize at 0x0000021263EC0BF8> \n",
      "\n",
      "\n",
      "frozenset({'wish', 'probably', 'zero', \"we'd\", 'their', 'except', 'far', 'sensible', 'forth', 'afterwards', 'himself', 'whereafter', 'own', \"isn't\", 'as', 'elsewhere', 'all', 'seems', 'during', 'obviously', 'yours', \"it'd\", 'ask', 'concerning', 'second', 'themselves', 'especially', 'thats', 'tries', 'get', 'might', 'also', 'am', 'anyone', 'may', \"that's\", 'thorough', 'either', 'somehow', 'reasonably', 'anyways', 'everybody', 'everything', 'corresponding', 'among', 'beforehand', 'gotten', 'nine', 'seven', 'thereafter', 'instead', 'why', 'really', 'wants', 'together', 'accordingly', 'quite', 'now', 'hither', \"haven't\", 'again', 'considering', 'can', 'another', 'welcome', 'wherein', 'ex', 'my', \"you'd\", 'seemed', 'novel', 'liked', 'against', 'who', 'y', 'thereupon', 'yes', 'consequently', 'only', 'ie', 'herein', 'mostly', 'given', 'over', 'serious', 'perhaps', 'exactly', 'regardless', 'always', 'yet', 'ones', 'above', 'when', 'were', 'be', 're', \"we're\", 'right', 'her', \"let's\", 'hence', 'least', 'three', 'become', 'she', 'got', 'two', 'onto', 'downwards', 'towards', 'say', 'and', 'me', 'believe', 'new', 'appreciate', \"who's\", 'awfully', 'usually', \"she's\", \"t's\", 'q', 'old', 'last', 'keep', 'sure', 'this', 'he', \"aren't\", 'want', 'consider', 'ours', 'same', \"mustn't\", 'of', 'seeming', 'whatever', 'around', 'although', 'hereupon', 'needs', 'uucp', \"i'll\", 'apart', 'toward', 'none', 'follows', 't', 'followed', \"they've\", 'an', 'un', \"there's\", \"it'll\", 'so', \"they'll\", 'better', 'there', 'soon', 'vs', 'specified', 'cannot', 'way', \"it's\", \"she'll\", \"shouldn't\", 'comes', 'twice', 'entirely', 'inner', 'currently', \"why's\", 'does', 'p', 'anywhere', 'c', 'gives', 'nobody', 'associated', 'th', 'hardly', 'come', 'becoming', 'done', 'presumably', 'example', 'ignored', 'are', 'ever', 'neither', 'selves', 'doing', 'help', 'thanx', 'says', 'viz', 'et', 'qv', 'much', 'seem', 'k', 'cant', 'plus', 'said', 'trying', 'f', 'into', 'eg', 'i', 'various', 'respectively', 'still', 'inasmuch', 'being', 'going', 'first', 'hereafter', \"we'll\", 'appear', 'clearly', 'moreover', 'particular', 'causes', 'however', 'beside', 'amongst', 'happens', 'aside', 'following', 'about', 'some', 'took', 'for', 'then', 'they', 'like', \"wasn't\", 'even', 'everyone', 'later', 'mean', 'relatively', \"he'd\", 'us', 'else', 'normally', 'but', 'upon', 'whence', 'wonder', 'overall', 'rather', 'more', 'sent', 'thoroughly', 'until', 'whither', \"they're\", 'regarding', 'too', \"you're\", 'before', 'while', 'thereby', 'indicated', 'whereby', 'use', 'r', 'away', 'ltd', 'definitely', 'several', 'below', 'allow', 'anyhow', 'few', 'had', 'rd', 'where', 'his', 'indicate', 'near', 'v', 'here', \"i'm\", 'l', 'seeing', 'in', 'herself', 'let', 'secondly', 'available', 'ought', 'down', 'former', 'used', 'somebody', 'you', 'will', 'hers', 'different', 'four', 'j', 'unless', \"you'll\", 'sorry', 'if', 'n', 'name', 'appropriate', 'once', 'looks', 'whereupon', 'anything', 'm', 'very', 'known', 'already', 'otherwise', 'getting', 'go', 'have', 'from', 'one', 'actually', 'whereas', 'etc', 'thence', 'was', 'every', 'others', \"can't\", 'someone', 'the', 'please', 'no', 'willing', 'e', 'outside', 'saying', 'contains', 'goes', 'hereby', 'nothing', 'theirs', 'yourself', 'we', 'know', 'nor', 'which', 'per', 'immediate', 'whether', 'truly', 'whole', 'regards', 'shall', \"won't\", 'placed', 'maybe', 'sometimes', 'whom', 'according', 'latter', 'ok', \"shan't\", 'therefore', 'sup', 'meanwhile', 'came', \"doesn't\", 'inward', 'almost', 'tends', 'less', 'think', 'tell', 'been', 'should', 'nowhere', 'or', 'ourselves', 'sub', 'that', 'cause', 'edu', 'off', 'little', 'containing', 'somewhere', \"ain't\", 'up', 'under', 'our', 'most', \"couldn't\", \"i've\", 'see', \"a's\", \"he's\", 'indeed', 'at', 'certainly', 'take', 'fifth', 'described', 'him', \"when's\", 'useful', 'to', 'myself', 'unfortunately', 'went', 'need', 'noone', 'try', 'its', 'seriously', 'hi', 'howbeit', 'having', 'nearly', 'becomes', 'anybody', 'namely', 'que', \"what's\", 'specifying', 'tried', 'merely', 'specify', 'provides', 'u', 'insofar', \"they'd\", 'uses', 'indicates', 'a', 'after', 'them', 'seen', 'something', 'thus', 'thank', 'course', 'h', 'has', 'through', 'yourselves', \"hasn't\", 'o', 'across', \"where's\", 'able', 'further', 'next', 'both', \"weren't\", 'behind', 'never', \"hadn't\", 'furthermore', 'on', 'enough', 'inc', \"we've\", 'by', \"here's\", 'third', 'asking', 'contain', 'often', 's', 'six', \"how's\", 'without', 'mainly', 'those', 'did', 'saw', 'not', 'value', 'within', 'greetings', 'unto', 'whose', 'taken', 'g', 'changes', \"he'll\", 'eight', 'x', 'best', 'five', 'since', 'do', 'what', 'throughout', 'wherever', \"didn't\", 'everywhere', 'any', 'look', 'gone', 'non', 'latterly', 'hopefully', 'w', 'just', 'particularly', \"she'd\", 'besides', 'could', 'whenever', 'necessary', 'theres', 'with', 'allows', 'via', \"don't\", 'z', 'therein', 'along', 'thru', 'out', 'nevertheless', 'thanks', 'using', 'your', 'many', 'possible', 'somewhat', 'gets', 'okay', \"wouldn't\", 'these', 'alone', 'likely', 'than', 'is', 'how', 'brief', 'each', 'd', \"c'mon\", 'co', 'b', 'knows', \"c's\", 'unlikely', 'certain', 'though', 'kept', 'became', 'anyway', 'nd', 'itself', 'sometime', 'whoever', 'must', 'such', 'oh', 'hello', 'despite', \"you've\", 'self', 'would', 'keeps', 'beyond', 'well', 'other', 'formerly', \"i'd\", 'because', 'com', 'lately', 'between', 'it', 'lest', 'looking'}) \n",
      "\n",
      "\n"
     ]
    }
   ],
   "source": [
    "print(parser.document,'\\n\\n')\n",
    "\n",
    "print(summarize,'\\n\\n')\n",
    "\n",
    "print(summarizer.stop_words,'\\n\\n')"
   ]
  },
  {
   "cell_type": "raw",
   "metadata": {},
   "source": [
    "Problem solved !! \n",
    "\n",
    "Now you don’t have to read the whole notes; just read the summary whenever we are running low on time.\n",
    "\n",
    "Better Solutions : \n",
    "----------------\n",
    "We can use many of the deep learning techniques to get better accuracy and better results like the Encoder-Decoder Model. We will see how to do that in the next chapter. (Refer : Text classification using CNN, RNN, LSTM)"
   ]
  }
 ],
 "metadata": {
  "kernelspec": {
   "display_name": "Python 3",
   "language": "python",
   "name": "python3"
  },
  "language_info": {
   "codemirror_mode": {
    "name": "ipython",
    "version": 3
   },
   "file_extension": ".py",
   "mimetype": "text/x-python",
   "name": "python",
   "nbconvert_exporter": "python",
   "pygments_lexer": "ipython3",
   "version": "3.6.5"
  }
 },
 "nbformat": 4,
 "nbformat_minor": 2
}
