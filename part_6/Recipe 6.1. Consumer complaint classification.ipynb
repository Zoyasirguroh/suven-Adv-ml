{
 "cells": [
  {
   "cell_type": "markdown",
   "metadata": {},
   "source": [
    "Implementing Industry Applications\n",
    "--\n",
    "\n",
    "Recipe 6.1. Consumer complaint classification\n",
    "--\n",
    "In this section, we are going to implement end-to-end solutions for \n",
    "\"Consumer complaint classification\" using NLP."
   ]
  },
  {
   "cell_type": "markdown",
   "metadata": {},
   "source": [
    "Implementing Multiclass Classification\n",
    "--\n",
    "Let’s understand how to do multiclass classification for text data in Python\n",
    "through solving Consumer complaint classifications for the finance\n",
    "industry.\n",
    "\n",
    "Problem\n",
    "--\n",
    "Each week the Consumer Financial Protection Bureau sends thousands of consumers’ complaints about financial products and services to companies for a response. Classify those consumer complaints into the product category it belongs to using the description of the complaint.\n",
    "\n",
    "Solution\n",
    "--\n",
    "The goal of the project is to classify the complaint into a specific product\n",
    "category. Since it has multiple categories, it becomes a multiclass\n",
    "classification that can be solved through many of the machine learning\n",
    "algorithms.\n",
    "\n",
    "Once the algorithm is in place, whenever there is a new complaint,\n",
    "we can easily categorize it and can then be redirected to the concerned\n",
    "person. This will save a lot of time because we are minimizing the human\n",
    "intervention to decide whom this complaint should go to."
   ]
  },
  {
   "cell_type": "raw",
   "metadata": {},
   "source": [
    "Let’s explore the data and build classification model using many\n",
    "machine learning algorithms and see which one gives better results."
   ]
  },
  {
   "cell_type": "raw",
   "metadata": {},
   "source": [
    "Getting the data from Kaggle\n",
    "\n",
    "Go to the below link and download the data.\n",
    "\n",
    "https://www.kaggle.com/subhassing/exploring-consumer-complaint-data"
   ]
  },
  {
   "cell_type": "code",
   "execution_count": 1,
   "metadata": {},
   "outputs": [],
   "source": [
    "# Importing all the libraries:\n",
    "import numpy as np     # linear algebra\n",
    "import pandas as pd    # data processing, CSV file I/O (e.g. pd.read_csv)\n",
    "import matplotlib.pyplot as plt\n",
    "import string\n",
    "from nltk.stem import SnowballStemmer\n",
    "from nltk.corpus import stopwords\n",
    "from sklearn.feature_extraction.text import TfidfVectorizer\n",
    "from sklearn.model_selection import train_test_split\n",
    "\n",
    "import os\n",
    "from textblob import TextBlob\n",
    "from nltk.stem import PorterStemmer\n",
    "from textblob import Word\n",
    "from sklearn.feature_extraction.text import CountVectorizer,TfidfVectorizer\n",
    "\n",
    "import sklearn.feature_extraction.text as text\n",
    "from sklearn import model_selection, preprocessing,linear_model, naive_bayes, metrics, svm\n",
    "from sklearn.naive_bayes import MultinomialNB\n",
    "from sklearn.linear_model import LogisticRegression\n",
    "from sklearn.ensemble import RandomForestClassifier\n",
    "from sklearn.svm import LinearSVC\n",
    "from sklearn.model_selection import cross_val_score\n",
    "from io import StringIO\n",
    "import seaborn as sns"
   ]
  },
  {
   "cell_type": "code",
   "execution_count": 2,
   "metadata": {},
   "outputs": [
    {
     "name": "stderr",
     "output_type": "stream",
     "text": [
      "c:\\program files\\python36\\lib\\site-packages\\IPython\\core\\interactiveshell.py:3051: DtypeWarning: Columns (5,11) have mixed types. Specify dtype option on import or set low_memory=False.\n",
      "  interactivity=interactivity, compiler=compiler, result=result)\n"
     ]
    }
   ],
   "source": [
    "# Importing the data\n",
    "# Import the data that was downloaded in the last step:\n",
    "Data = pd.read_csv(\"C:\\Program Files\\Python36\\suven\\Adv ML\\datasets\\datasets/Consumer_Complaints.csv\",encoding='latin-1')"
   ]
  },
  {
   "cell_type": "markdown",
   "metadata": {},
   "source": [
    "![dtypes_consumer_complaints](images/dtypes_consumer_complaints.png 'dtypes_consumer_complaints')"
   ]
  },
  {
   "cell_type": "code",
   "execution_count": 3,
   "metadata": {},
   "outputs": [
    {
     "data": {
      "text/html": [
       "<div>\n",
       "<style scoped>\n",
       "    .dataframe tbody tr th:only-of-type {\n",
       "        vertical-align: middle;\n",
       "    }\n",
       "\n",
       "    .dataframe tbody tr th {\n",
       "        vertical-align: top;\n",
       "    }\n",
       "\n",
       "    .dataframe thead th {\n",
       "        text-align: right;\n",
       "    }\n",
       "</style>\n",
       "<table border=\"1\" class=\"dataframe\">\n",
       "  <thead>\n",
       "    <tr style=\"text-align: right;\">\n",
       "      <th></th>\n",
       "      <th>product</th>\n",
       "      <th>consumer_complaint_narrative</th>\n",
       "    </tr>\n",
       "  </thead>\n",
       "  <tbody>\n",
       "    <tr>\n",
       "      <th>190126</th>\n",
       "      <td>Debt collection</td>\n",
       "      <td>XXXX has claimed I owe them {$27.00} for XXXX ...</td>\n",
       "    </tr>\n",
       "    <tr>\n",
       "      <th>190135</th>\n",
       "      <td>Consumer Loan</td>\n",
       "      <td>Due to inconsistencies in the amount owed that...</td>\n",
       "    </tr>\n",
       "    <tr>\n",
       "      <th>190155</th>\n",
       "      <td>Mortgage</td>\n",
       "      <td>In XX/XX/XXXX my wages that I earned at my job...</td>\n",
       "    </tr>\n",
       "    <tr>\n",
       "      <th>190207</th>\n",
       "      <td>Mortgage</td>\n",
       "      <td>I have an open and current mortgage with Chase...</td>\n",
       "    </tr>\n",
       "    <tr>\n",
       "      <th>190208</th>\n",
       "      <td>Mortgage</td>\n",
       "      <td>XXXX was submitted XX/XX/XXXX. At the time I s...</td>\n",
       "    </tr>\n",
       "  </tbody>\n",
       "</table>\n",
       "</div>"
      ],
      "text/plain": [
       "                product                       consumer_complaint_narrative\n",
       "190126  Debt collection  XXXX has claimed I owe them {$27.00} for XXXX ...\n",
       "190135    Consumer Loan  Due to inconsistencies in the amount owed that...\n",
       "190155         Mortgage  In XX/XX/XXXX my wages that I earned at my job...\n",
       "190207         Mortgage  I have an open and current mortgage with Chase...\n",
       "190208         Mortgage  XXXX was submitted XX/XX/XXXX. At the time I s..."
      ]
     },
     "execution_count": 3,
     "metadata": {},
     "output_type": "execute_result"
    }
   ],
   "source": [
    "# Selecting required columns and rows\n",
    "Data = Data[['product', 'consumer_complaint_narrative']]\n",
    "Data = Data[pd.notnull(Data['consumer_complaint_narrative'])]\n",
    "\n",
    "# See top 5 rows\n",
    "Data.head()"
   ]
  },
  {
   "cell_type": "code",
   "execution_count": 5,
   "metadata": {},
   "outputs": [
    {
     "data": {
      "text/html": [
       "<div>\n",
       "<style scoped>\n",
       "    .dataframe tbody tr th:only-of-type {\n",
       "        vertical-align: middle;\n",
       "    }\n",
       "\n",
       "    .dataframe tbody tr th {\n",
       "        vertical-align: top;\n",
       "    }\n",
       "\n",
       "    .dataframe thead th {\n",
       "        text-align: right;\n",
       "    }\n",
       "</style>\n",
       "<table border=\"1\" class=\"dataframe\">\n",
       "  <thead>\n",
       "    <tr style=\"text-align: right;\">\n",
       "      <th></th>\n",
       "      <th>product</th>\n",
       "      <th>consumer_complaint_narrative</th>\n",
       "      <th>category_id</th>\n",
       "    </tr>\n",
       "  </thead>\n",
       "  <tbody>\n",
       "    <tr>\n",
       "      <th>190126</th>\n",
       "      <td>Debt collection</td>\n",
       "      <td>XXXX has claimed I owe them {$27.00} for XXXX ...</td>\n",
       "      <td>0</td>\n",
       "    </tr>\n",
       "    <tr>\n",
       "      <th>190135</th>\n",
       "      <td>Consumer Loan</td>\n",
       "      <td>Due to inconsistencies in the amount owed that...</td>\n",
       "      <td>1</td>\n",
       "    </tr>\n",
       "    <tr>\n",
       "      <th>190155</th>\n",
       "      <td>Mortgage</td>\n",
       "      <td>In XX/XX/XXXX my wages that I earned at my job...</td>\n",
       "      <td>2</td>\n",
       "    </tr>\n",
       "    <tr>\n",
       "      <th>190207</th>\n",
       "      <td>Mortgage</td>\n",
       "      <td>I have an open and current mortgage with Chase...</td>\n",
       "      <td>2</td>\n",
       "    </tr>\n",
       "    <tr>\n",
       "      <th>190208</th>\n",
       "      <td>Mortgage</td>\n",
       "      <td>XXXX was submitted XX/XX/XXXX. At the time I s...</td>\n",
       "      <td>2</td>\n",
       "    </tr>\n",
       "  </tbody>\n",
       "</table>\n",
       "</div>"
      ],
      "text/plain": [
       "                product                       consumer_complaint_narrative  \\\n",
       "190126  Debt collection  XXXX has claimed I owe them {$27.00} for XXXX ...   \n",
       "190135    Consumer Loan  Due to inconsistencies in the amount owed that...   \n",
       "190155         Mortgage  In XX/XX/XXXX my wages that I earned at my job...   \n",
       "190207         Mortgage  I have an open and current mortgage with Chase...   \n",
       "190208         Mortgage  XXXX was submitted XX/XX/XXXX. At the time I s...   \n",
       "\n",
       "        category_id  \n",
       "190126            0  \n",
       "190135            1  \n",
       "190155            2  \n",
       "190207            2  \n",
       "190208            2  "
      ]
     },
     "execution_count": 5,
     "metadata": {},
     "output_type": "execute_result"
    }
   ],
   "source": [
    "# Factorizing the product-category column\n",
    "\n",
    "Data['category_id']=Data['product'].factorize()[0]\n",
    "Data.head()"
   ]
  },
  {
   "cell_type": "code",
   "execution_count": 6,
   "metadata": {},
   "outputs": [
    {
     "data": {
      "text/plain": [
       "product\n",
       "Bank account or service     5711\n",
       "Consumer Loan               3678\n",
       "Credit card                 7929\n",
       "Credit reporting           12526\n",
       "Debt collection            17552\n",
       "Money transfers              666\n",
       "Mortgage                   14919\n",
       "Other financial service      110\n",
       "Payday loan                  726\n",
       "Prepaid card                 861\n",
       "Student loan                2128\n",
       "Name: product, dtype: int64"
      ]
     },
     "execution_count": 6,
     "metadata": {},
     "output_type": "execute_result"
    }
   ],
   "source": [
    "# Check the distriution of complaints by category\n",
    "\n",
    "Data.groupby('product').product.count()\n",
    "# or\n",
    "# Data.groupby('product').consumer_complaint_narrative.count()"
   ]
  },
  {
   "cell_type": "code",
   "execution_count": 7,
   "metadata": {},
   "outputs": [
    {
     "data": {
      "image/png": "[encoded data removed]",
      "text/plain": [
       "<Figure size 576x432 with 1 Axes>"
      ]
     },
     "metadata": {
      "needs_background": "light"
     },
     "output_type": "display_data"
    }
   ],
   "source": [
    "# Lets plot it and see\n",
    "fig = plt.figure(figsize=(8,6))\n",
    "Data.groupby('product').consumer_complaint_narrative.count().plot.bar(ylim=0)\n",
    "plt.show()"
   ]
  },
  {
   "cell_type": "raw",
   "metadata": {},
   "source": [
    "Please Note : Debt collection and Mortgage have the highest number of complaints registered."
   ]
  },
  {
   "cell_type": "code",
   "execution_count": 8,
   "metadata": {},
   "outputs": [],
   "source": [
    "# Splitting the data\n",
    "# Split the data into train and validation:\n",
    "train_x, valid_x, train_y, valid_y = model_selection.train_test_split(Data['consumer_complaint_narrative'], Data['product'])"
   ]
  },
  {
   "cell_type": "code",
   "execution_count": 9,
   "metadata": {},
   "outputs": [
    {
     "name": "stdout",
     "output_type": "stream",
     "text": [
      "  (0, 4967)\t0.025273849658055375\n",
      "  (0, 4951)\t0.1348521753035859\n",
      "  (0, 4948)\t0.11654266143831209\n",
      "  (0, 4840)\t0.14302799075988606\n",
      "  (0, 4836)\t0.09189444497925928\n",
      "  (0, 4720)\t0.07808239819996227\n",
      "  (0, 4616)\t0.08586858748629866\n",
      "  (0, 4537)\t0.07672391868399073\n",
      "  (0, 4528)\t0.1430151176723648\n",
      "  (0, 4517)\t0.04919353537943894\n",
      "  (0, 4486)\t0.030683510132641825\n",
      "  (0, 4475)\t0.06130612648149372\n",
      "  (0, 4469)\t0.05283969175417146\n",
      "  (0, 4464)\t0.04961982237950218\n",
      "  (0, 4462)\t0.14667905316109556\n",
      "  (0, 4460)\t0.1147722013462626\n",
      "  (0, 4404)\t0.1005725881354556\n",
      "  (0, 4185)\t0.29365502550574174\n",
      "  (0, 4110)\t0.15331289776571777\n",
      "  (0, 4079)\t0.0825257907188519\n",
      "  (0, 3867)\t0.17700978769519582\n",
      "  (0, 3534)\t0.08914242243029645\n",
      "  (0, 3385)\t0.11413618223001747\n",
      "  (0, 3214)\t0.08858965240934806\n",
      "  (0, 3145)\t0.05649092265872303\n",
      "  :\t:\n",
      "  (9, 1860)\t0.07929689685764214\n",
      "  (9, 1568)\t0.07371889961149936\n",
      "  (9, 1564)\t0.16229161870601155\n",
      "  (9, 1539)\t0.07973508152961065\n",
      "  (9, 1350)\t0.1054513671024582\n",
      "  (9, 1331)\t0.06028603918597776\n",
      "  (9, 1241)\t0.10058759755745378\n",
      "  (9, 1228)\t0.09734941176775898\n",
      "  (9, 1187)\t0.061998086890085326\n",
      "  (9, 1060)\t0.23703307967706155\n",
      "  (9, 1019)\t0.456878422820509\n",
      "  (9, 858)\t0.08309988352880972\n",
      "  (9, 631)\t0.1477687908388511\n",
      "  (9, 618)\t0.08446283387139995\n",
      "  (9, 600)\t0.15452417799001414\n",
      "  (9, 583)\t0.03886763741538078\n",
      "  (9, 571)\t0.08390763398842047\n",
      "  (9, 501)\t0.09616243650331724\n",
      "  (9, 494)\t0.06428969757387079\n",
      "  (9, 486)\t0.0702994499592803\n",
      "  (9, 464)\t0.052528769332316115\n",
      "  (9, 447)\t0.13593826086118138\n",
      "  (9, 429)\t0.14060707328759248\n",
      "  (9, 283)\t0.1124651567646564\n",
      "  (9, 274)\t0.07330948668110293\n"
     ]
    }
   ],
   "source": [
    "# Feature engineering using TF-IDF\n",
    "# Create TF-IDF vectors as we discussed in Chapter (or Part) 4. \n",
    "\n",
    "# Here we consider maximum features to be 5000.\n",
    "## type your code here\n",
    "encoder = preprocessing.LabelEncoder()\n",
    "train_y = encoder.fit_transform(train_y)\n",
    "valid_y = encoder.transform(valid_y)\n",
    "\n",
    "#print(train_y[:5])  # for checking purpose\n",
    "#print(valid_y[:5])  # for checking purpose\n",
    "\n",
    "tfidf_vect = TfidfVectorizer(analyzer='word',token_pattern=r'\\w{1,}', max_features=5000)\n",
    "tfidf_vect.fit(Data['consumer_complaint_narrative'])\n",
    "\n",
    "xtrain_tfidf = tfidf_vect.transform(train_x)\n",
    "xvalid_tfidf = tfidf_vect.transform(valid_x)\n",
    "\n",
    "print(xtrain_tfidf[:10])"
   ]
  },
  {
   "cell_type": "raw",
   "metadata": {},
   "source": [
    "Model building and evaluation\n",
    "-----------------------------\n",
    "Suppose we are building a linear classifier on word-level TF-IDF vectors.\n",
    "\n",
    "We are using default hyper parameters for the classifier. Parameters can be\n",
    "changed like C, max_iter, or solver to obtain better results."
   ]
  },
  {
   "cell_type": "code",
   "execution_count": 10,
   "metadata": {},
   "outputs": [
    {
     "name": "stdout",
     "output_type": "stream",
     "text": [
      "Accuracy:  0.8452281163932464\n"
     ]
    },
    {
     "name": "stderr",
     "output_type": "stream",
     "text": [
      "c:\\program files\\python36\\lib\\site-packages\\sklearn\\linear_model\\_logistic.py:940: ConvergenceWarning: lbfgs failed to converge (status=1):\n",
      "STOP: TOTAL NO. of ITERATIONS REACHED LIMIT.\n",
      "\n",
      "Increase the number of iterations (max_iter) or scale the data as shown in:\n",
      "    https://scikit-learn.org/stable/modules/preprocessing.html\n",
      "Please also refer to the documentation for alternative solver options:\n",
      "    https://scikit-learn.org/stable/modules/linear_model.html#logistic-regression\n",
      "  extra_warning_msg=_LOGISTIC_SOLVER_CONVERGENCE_MSG)\n"
     ]
    }
   ],
   "source": [
    "model = linear_model.LogisticRegression().fit(xtrain_tfidf, train_y)\n",
    "# Model summary\n",
    "LogisticRegression(C=1.0, class_weight=None, dual=False, fit_intercept=True, intercept_scaling=1, max_iter=100, multi_class='ovr',\n",
    "n_jobs=1, penalty='l2', random_state=None, solver='liblinear', tol=0.0001, verbose=0, warm_start=False)\n",
    "\n",
    "# Checking accuracy\n",
    "accuracy = metrics.accuracy_score(model.predict(xvalid_tfidf),valid_y)\n",
    "print (\"Accuracy: \", accuracy)"
   ]
  },
  {
   "cell_type": "code",
   "execution_count": 29,
   "metadata": {},
   "outputs": [
    {
     "name": "stdout",
     "output_type": "stream",
     "text": [
      "                         precision    recall  f1-score   support\n",
      "\n",
      "        Debt collection       0.81      0.79      0.80      1447\n",
      "          Consumer Loan       0.77      0.55      0.65       900\n",
      "               Mortgage       0.79      0.82      0.81      1971\n",
      "            Credit card       0.85      0.85      0.85      3123\n",
      "       Credit reporting       0.82      0.90      0.85      4319\n",
      "           Student loan       0.78      0.46      0.58       169\n",
      "Bank account or service       0.92      0.95      0.93      3805\n",
      "            Payday loan       0.00      0.00      0.00        29\n",
      "        Money transfers       0.67      0.29      0.41       193\n",
      "Other financial service       0.78      0.57      0.66       210\n",
      "           Prepaid card       0.92      0.76      0.84       536\n",
      "\n",
      "              micro avg       0.84      0.84      0.84     16702\n",
      "              macro avg       0.74      0.63      0.67     16702\n",
      "           weighted avg       0.84      0.84      0.84     16702\n",
      "\n"
     ]
    },
    {
     "name": "stderr",
     "output_type": "stream",
     "text": [
      "c:\\program files\\python36\\lib\\site-packages\\sklearn\\metrics\\classification.py:1143: UndefinedMetricWarning: Precision and F-score are ill-defined and being set to 0.0 in labels with no predicted samples.\n",
      "  'precision', 'predicted', average, warn_for)\n"
     ]
    }
   ],
   "source": [
    "# Classification report\n",
    "print(metrics.classification_report(valid_y, model.predict(xvalid_tfidf),\n",
    "                                    target_names=Data['product'].unique()))"
   ]
  },
  {
   "cell_type": "code",
   "execution_count": 12,
   "metadata": {},
   "outputs": [
    {
     "data": {
      "image/png": "[encoded data removed]",
      "text/plain": [
       "<Figure size 576x432 with 2 Axes>"
      ]
     },
     "metadata": {
      "needs_background": "light"
     },
     "output_type": "display_data"
    }
   ],
   "source": [
    "#confusion matrix\n",
    "from sklearn.metrics import confusion_matrix\n",
    "conf_mat = confusion_matrix(valid_y, model.predict(xvalid_tfidf))\n",
    "\n",
    "# Vizualizing confusion matrix\n",
    "category_id_df = Data[['product', 'category_id']].drop_duplicates().sort_values('category_id')\n",
    "category_to_id = dict(category_id_df.values)\n",
    "\n",
    "id_to_category = dict(category_id_df[['category_id','product']].values)\n",
    "fig, ax = plt.subplots(figsize=(8,6))\n",
    "sns.heatmap(conf_mat, annot=True, fmt='d', cmap=\"BuPu\", \n",
    "            xticklabels=category_id_df[['product']].values, \n",
    "            yticklabels=category_id_df[['product']].values)\n",
    "plt.ylabel('Actual')\n",
    "plt.xlabel('Predicted')\n",
    "plt.show()"
   ]
  },
  {
   "cell_type": "markdown",
   "metadata": {},
   "source": [
    "Recommended reading \n",
    "https://www.absentdata.com/python-graphs/create-a-heat-map-with-seaborn/"
   ]
  },
  {
   "cell_type": "markdown",
   "metadata": {},
   "source": [
    "The accuracy of 84% is good for a baseline model. Precision and recall\n",
    "look pretty good across the categories except for “Payday loan.” If you look\n",
    "for Payload loan, most of the wrong predictions are Debt collection and\n",
    "Credit card, which might be because of the smaller number of samples in\n",
    "that category. It also sounds like it’s a subcategory of a credit card. \n",
    "\n",
    "We can add these samples to any other group to make the model more stable.\n",
    "\n",
    "Let’s see what prediction looks like for one example."
   ]
  },
  {
   "cell_type": "code",
   "execution_count": 13,
   "metadata": {},
   "outputs": [
    {
     "name": "stdout",
     "output_type": "stream",
     "text": [
      "['This company refuses to provide me verification and validation of debtper my right under the FDCPA. I do not believe this debt is mine.']\n",
      " - Predicted as: 'Credit reporting'\n"
     ]
    }
   ],
   "source": [
    "# Prediction example\n",
    "# texts = [\"This company refuses to provide me verification and validation of debt\"+ \"per my right under the FDCPA. I do not believe this debt is mine.\"]\n",
    "\n",
    "# type your code here\n",
    "\n",
    "# Prediction example\n",
    "texts = [\"This company refuses to provide me verification and validation of debt\"+ \"per my right under the FDCPA. I do not believe this debt is mine.\"]\n",
    "\n",
    "text_features = tfidf_vect.transform(texts)\n",
    "predictions = model.predict(text_features)\n",
    "print(texts)\n",
    "\n",
    "# id_to_category -> is defined above\n",
    "#print(\" - Predicted as: '{}'\".format(predictions[0]))\n",
    "print(\" - Predicted as: '{}'\".format(id_to_category[predictions[0]]))\n",
    "\n"
   ]
  },
  {
   "cell_type": "code",
   "execution_count": 14,
   "metadata": {},
   "outputs": [
    {
     "name": "stdout",
     "output_type": "stream",
     "text": [
      "['My credit card has been stolen and i want credit card cancelled']\n",
      " - Predicted as: 'Mortgage'\n"
     ]
    }
   ],
   "source": [
    "texts = [\"My credit card has been stolen and i want credit card cancelled\"]\n",
    "\n",
    "text_features = tfidf_vect.transform(texts)\n",
    "predictions = model.predict(text_features)\n",
    "print(texts)\n",
    "\n",
    "# id_to_category -> is defined above\n",
    "#print(\" - Predicted as: '{}'\".format(predictions[0]))\n",
    "print(\" - Predicted as: '{}'\".format(id_to_category[predictions[0]]))\n"
   ]
  },
  {
   "cell_type": "raw",
   "metadata": {},
   "source": [
    "To increase the accuracy, we can do the following things:\n",
    "    \n",
    "• Reiterate the process with different algorithms like Random Forest, SVM, GBM, \n",
    "Neural Networks, Naive Bayes.\n",
    "\n",
    "• Deep learning techniques like RNN and LSTM \n",
    "(will be discussed in next chapter i.e part 6) can also be used.\n",
    "\n",
    "• In each of these algorithms, there are so many parameters to be tuned to get better results. It can be easily done through Grid search*, which will basically try out all possible combinations and give the best out.\n",
    "\n",
    "*Grid Search -> recall using GridSearch in \"Machine learning-course\" > Scikit-learn"
   ]
  }
 ],
 "metadata": {
  "kernelspec": {
   "display_name": "Python 3",
   "language": "python",
   "name": "python3"
  },
  "language_info": {
   "codemirror_mode": {
    "name": "ipython",
    "version": 3
   },
   "file_extension": ".py",
   "mimetype": "text/x-python",
   "name": "python",
   "nbconvert_exporter": "python",
   "pygments_lexer": "ipython3",
   "version": "3.6.5"
  }
 },
 "nbformat": 4,
 "nbformat_minor": 2
}
