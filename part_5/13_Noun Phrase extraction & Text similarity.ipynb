{
 "cells": [
  {
   "cell_type": "markdown",
   "metadata": {},
   "source": [
    "Noun Phrase extraction & Text similarity\n",
    "--\n",
    "\n",
    "\n",
    "Extracting Noun Phrases\n",
    "--\n",
    "\n",
    "Problem\n",
    "--\n",
    "You want to extract a noun phrase.\n",
    "\n",
    "Solution\n",
    "--\n",
    "Noun Phrase extraction is important when you want to analyze the “who”\n",
    "in a sentence. Let’s see an example below using TextBlob."
   ]
  },
  {
   "cell_type": "code",
   "execution_count": 23,
   "metadata": {},
   "outputs": [
    {
     "name": "stdout",
     "output_type": "stream",
     "text": [
      "zoya\n",
      "rocky\n",
      "riding\n",
      "bike\n",
      "zuhrah\n"
     ]
    }
   ],
   "source": [
    "#Import libraries\n",
    "import nltk\n",
    "from textblob import TextBlob\n",
    "\n",
    "#Extract noun\n",
    "blob = TextBlob(\" Zoya and Rocky are Riding a Bike with Zuhrah\")\n",
    "\n",
    "for np in blob.noun_phrases:\n",
    " print(np)\n",
    "\n",
    "# anything  i keep in uppercase or its first char as uppercase it \n",
    "# mistakenly recongnise it as a noun"
   ]
  },
  {
   "cell_type": "markdown",
   "metadata": {},
   "source": [
    "Finding Similarity Between Texts\n",
    "--\n",
    "\n",
    "In this coding example, we are going to discuss how to find the similarity between two documents or text. There are many similarity metrics like Euclidian, cosine, Jaccard, etc. \n",
    "\n",
    "Applications of text similarity can be found in areas like spelling correction and data deduplication.\n",
    "\n",
    "Here are a few of the similarity measures:\n",
    "\n",
    "> Cosine similarity: Calculates the cosine of the angle between the two vectors.\n",
    "\n",
    "> Jaccard similarity: The score is calculated using the intersection or union of words.\n",
    "Jaccard Index = (the number in both sets) / (the number in either set) * 100.\n",
    "\n",
    "> Levenshtein distance: Minimal number of insertions, deletions, and replacements required for transforming string “a” into string “b.”\n",
    "\n",
    "> Hamming distance: Number of positions with the same symbol in both strings. But it can be defined only for strings with equal length."
   ]
  },
  {
   "cell_type": "markdown",
   "metadata": {},
   "source": [
    "Problem\n",
    "--\n",
    "You want to find the similarity between texts/documents.\n",
    "\n",
    "Solution\n",
    "--\n",
    "The simplest way to do this is by using cosine similarity from the sklearn\n",
    "library."
   ]
  },
  {
   "cell_type": "code",
   "execution_count": 3,
   "metadata": {},
   "outputs": [
    {
     "data": {
      "text/plain": [
       "(5, 10)"
      ]
     },
     "execution_count": 3,
     "metadata": {},
     "output_type": "execute_result"
    }
   ],
   "source": [
    "documents = (\n",
    "\"I like NLP\",\n",
    "\"I am exploring NLP\",\n",
    "\"I am a beginner in NLP\",\n",
    "\"I want to learn NLP\",\n",
    "\"I like advanced NLP\"\n",
    ")\n",
    "\n",
    "# code to find the similarity.\n",
    "# Import libraries\n",
    "from sklearn.feature_extraction.text import TfidfVectorizer\n",
    "from sklearn.metrics.pairwise import cosine_similarity\n",
    "\n",
    "#Compute tfidf\n",
    "tfidf_vectorizer = TfidfVectorizer()\n",
    "tfidf_matrix = tfidf_vectorizer.fit_transform(documents)\n",
    "tfidf_matrix.shape"
   ]
  },
  {
   "cell_type": "code",
   "execution_count": 4,
   "metadata": {},
   "outputs": [
    {
     "data": {
      "text/plain": [
       "array([[1.        , 0.17682765, 0.14284054, 0.13489366, 0.68374784]])"
      ]
     },
     "execution_count": 4,
     "metadata": {},
     "output_type": "execute_result"
    }
   ],
   "source": [
    "#compute similarity for first sentence with rest of the sentences\n",
    "cosine_similarity(tfidf_matrix[0:1],tfidf_matrix)"
   ]
  },
  {
   "cell_type": "raw",
   "metadata": {},
   "source": [
    "If we clearly observe, the first sentence and last sentence have higher\n",
    "similarity compared to the rest of the sentences"
   ]
  },
  {
   "cell_type": "markdown",
   "metadata": {},
   "source": [
    "Phonetic matching\n",
    "--\n",
    "The next version of similarity checking is phonetic matching, which roughly\n",
    "matches the two words or sentences and also creates an alphanumeric string as an encoded version of the text or word. \n",
    "\n",
    "It is very useful for searching large text corpora, correcting spelling errors, and matching relevant names.\n",
    "\n",
    "Soundex and Metaphone are two main phonetic algorithms used for this\n",
    "purpose. The simplest way to do this is by using the fuzzy library."
   ]
  },
  {
   "cell_type": "code",
   "execution_count": 2,
   "metadata": {},
   "outputs": [
    {
     "name": "stdout",
     "output_type": "stream",
     "text": [
      "Collecting Fuzzy\n",
      "  Using cached https://files.pythonhosted.org/packages/ad/b0/210f790e81e3c9f86a740f5384c758ad6c7bc1958332cf64263a9d3cf336/Fuzzy-1.2.2.tar.gz\n",
      "Building wheels for collected packages: Fuzzy\n",
      "  Building wheel for Fuzzy (setup.py): started\n",
      "  Building wheel for Fuzzy (setup.py): finished with status 'error'\n",
      "  Running setup.py clean for Fuzzy\n",
      "Failed to build Fuzzy\n",
      "Installing collected packages: Fuzzy\n",
      "    Running setup.py install for Fuzzy: started\n",
      "    Running setup.py install for Fuzzy: finished with status 'error'\n"
     ]
    },
    {
     "name": "stderr",
     "output_type": "stream",
     "text": [
      "  ERROR: Command errored out with exit status 1:\n",
      "   command: 'c:\\program files\\python36\\python.exe' -u -c 'import sys, setuptools, tokenize; sys.argv[0] = '\"'\"'C:\\\\Users\\\\Zuhrah\\\\AppData\\\\Local\\\\Temp\\\\pip-install-23ae7qqs\\\\Fuzzy\\\\setup.py'\"'\"'; __file__='\"'\"'C:\\\\Users\\\\Zuhrah\\\\AppData\\\\Local\\\\Temp\\\\pip-install-23ae7qqs\\\\Fuzzy\\\\setup.py'\"'\"';f=getattr(tokenize, '\"'\"'open'\"'\"', open)(__file__);code=f.read().replace('\"'\"'\\r\\n'\"'\"', '\"'\"'\\n'\"'\"');f.close();exec(compile(code, __file__, '\"'\"'exec'\"'\"'))' bdist_wheel -d 'C:\\Users\\Zuhrah\\AppData\\Local\\Temp\\pip-wheel-qitld2c1' --python-tag cp36\n",
      "       cwd: C:\\Users\\Zuhrah\\AppData\\Local\\Temp\\pip-install-23ae7qqs\\Fuzzy\\\n",
      "  Complete output (8 lines):\n",
      "  running bdist_wheel\n",
      "  running build\n",
      "  running build_ext\n",
      "  cythoning src/fuzzy.pyx to src\\fuzzy.c\n",
      "  c:\\program files\\python36\\lib\\site-packages\\Cython\\Compiler\\Main.py:369: FutureWarning: Cython directive 'language_level' not set, using 2 for now (Py2). This will change in a later release! File: C:\\Users\\Zuhrah\\AppData\\Local\\Temp\\pip-install-23ae7qqs\\Fuzzy\\src\\fuzzy.pyx\n",
      "    tree = Parsing.p_module(s, pxd, full_module_name)\n",
      "  building 'fuzzy' extension\n",
      "  error: Microsoft Visual C++ 14.0 is required. Get it with \"Build Tools for Visual Studio\": https://visualstudio.microsoft.com/downloads/\n",
      "  ----------------------------------------\n",
      "  ERROR: Failed building wheel for Fuzzy\n",
      "    ERROR: Command errored out with exit status 1:\n",
      "     command: 'c:\\program files\\python36\\python.exe' -u -c 'import sys, setuptools, tokenize; sys.argv[0] = '\"'\"'C:\\\\Users\\\\Zuhrah\\\\AppData\\\\Local\\\\Temp\\\\pip-install-23ae7qqs\\\\Fuzzy\\\\setup.py'\"'\"'; __file__='\"'\"'C:\\\\Users\\\\Zuhrah\\\\AppData\\\\Local\\\\Temp\\\\pip-install-23ae7qqs\\\\Fuzzy\\\\setup.py'\"'\"';f=getattr(tokenize, '\"'\"'open'\"'\"', open)(__file__);code=f.read().replace('\"'\"'\\r\\n'\"'\"', '\"'\"'\\n'\"'\"');f.close();exec(compile(code, __file__, '\"'\"'exec'\"'\"'))' install --record 'C:\\Users\\Zuhrah\\AppData\\Local\\Temp\\pip-record-yckb8wi3\\install-record.txt' --single-version-externally-managed --compile\n",
      "         cwd: C:\\Users\\Zuhrah\\AppData\\Local\\Temp\\pip-install-23ae7qqs\\Fuzzy\\\n",
      "    Complete output (8 lines):\n",
      "    running install\n",
      "    running build\n",
      "    running build_ext\n",
      "    cythoning src/fuzzy.pyx to src\\fuzzy.c\n",
      "    c:\\program files\\python36\\lib\\site-packages\\Cython\\Compiler\\Main.py:369: FutureWarning: Cython directive 'language_level' not set, using 2 for now (Py2). This will change in a later release! File: C:\\Users\\Zuhrah\\AppData\\Local\\Temp\\pip-install-23ae7qqs\\Fuzzy\\src\\fuzzy.pyx\n",
      "      tree = Parsing.p_module(s, pxd, full_module_name)\n",
      "    building 'fuzzy' extension\n",
      "    error: Microsoft Visual C++ 14.0 is required. Get it with \"Build Tools for Visual Studio\": https://visualstudio.microsoft.com/downloads/\n",
      "    ----------------------------------------\n",
      "ERROR: Command errored out with exit status 1: 'c:\\program files\\python36\\python.exe' -u -c 'import sys, setuptools, tokenize; sys.argv[0] = '\"'\"'C:\\\\Users\\\\Zuhrah\\\\AppData\\\\Local\\\\Temp\\\\pip-install-23ae7qqs\\\\Fuzzy\\\\setup.py'\"'\"'; __file__='\"'\"'C:\\\\Users\\\\Zuhrah\\\\AppData\\\\Local\\\\Temp\\\\pip-install-23ae7qqs\\\\Fuzzy\\\\setup.py'\"'\"';f=getattr(tokenize, '\"'\"'open'\"'\"', open)(__file__);code=f.read().replace('\"'\"'\\r\\n'\"'\"', '\"'\"'\\n'\"'\"');f.close();exec(compile(code, __file__, '\"'\"'exec'\"'\"'))' install --record 'C:\\Users\\Zuhrah\\AppData\\Local\\Temp\\pip-record-yckb8wi3\\install-record.txt' --single-version-externally-managed --compile Check the logs for full command output.\n",
      "WARNING: You are using pip version 19.3.1; however, version 20.0.2 is available.\n",
      "You should consider upgrading via the 'python -m pip install --upgrade pip' command.\n"
     ]
    },
    {
     "ename": "ModuleNotFoundError",
     "evalue": "No module named 'Fuzzy'",
     "output_type": "error",
     "traceback": [
      "\u001b[1;31m---------------------------------------------------------------------------\u001b[0m",
      "\u001b[1;31mModuleNotFoundError\u001b[0m                       Traceback (most recent call last)",
      "\u001b[1;32m<ipython-input-2-50b5c48e7045>\u001b[0m in \u001b[0;36m<module>\u001b[1;34m\u001b[0m\n\u001b[0;32m      2\u001b[0m \u001b[0mget_ipython\u001b[0m\u001b[1;33m(\u001b[0m\u001b[1;33m)\u001b[0m\u001b[1;33m.\u001b[0m\u001b[0msystem\u001b[0m\u001b[1;33m(\u001b[0m\u001b[1;34m'pip install Fuzzy'\u001b[0m\u001b[1;33m)\u001b[0m\u001b[1;33m\u001b[0m\u001b[0m\n\u001b[0;32m      3\u001b[0m \u001b[1;33m\u001b[0m\u001b[0m\n\u001b[1;32m----> 4\u001b[1;33m \u001b[1;32mimport\u001b[0m \u001b[0mFuzzy\u001b[0m\u001b[1;33m\u001b[0m\u001b[0m\n\u001b[0m\u001b[0;32m      5\u001b[0m \u001b[1;33m\u001b[0m\u001b[0m\n\u001b[0;32m      6\u001b[0m \u001b[1;31m# Run the Soundex function\u001b[0m\u001b[1;33m\u001b[0m\u001b[1;33m\u001b[0m\u001b[0m\n",
      "\u001b[1;31mModuleNotFoundError\u001b[0m: No module named 'Fuzzy'"
     ]
    }
   ],
   "source": [
    "# Install and import the library\n",
    "!pip install Fuzzy\n",
    "\n",
    "import Fuzzy\n",
    "\n",
    "# Run the Soundex function\n",
    "soundex = Fuzzy.Soundex(4)\n",
    "# Soundex works by converting your input string to a ‘4’ \n",
    "# or more character output which can be compared to soundex value \n",
    "# calculated for the other string.\n",
    "\n",
    "# Generate the phonetic form\n",
    "soundex('natural')\n",
    "\n",
    "# recommeded reading :\n",
    "# https://medium.com/@yash_agarwal2/soundex-and-levenshtein-distance-in-python-8b4b56542e9e"
   ]
  },
  {
   "cell_type": "raw",
   "metadata": {},
   "source": [
    "Note : \n",
    "1> if you get error : \"Microsoft Visual C++ 14.0 is required. Get it from.....\"\n",
    "   Then follow the link and download Microsoft Visual Studio - free copy\n",
    "   \n",
    "2> Refer here on why Microsoft Visual C++ 14.0 is required and how to install on Windows machine.\n",
    "https://wiki.python.org/moin/WindowsCompilers"
   ]
  },
  {
   "cell_type": "raw",
   "metadata": {},
   "source": [
    "# I am getting an error on installation of fuzzy module on my PC. (see error above). Hence I had to try on some other PC; by which i got the following outputs. \n",
    "\n",
    "soundex('natuaral')  #'N364'\n",
    "\n",
    "soundex('language')  #output 'L52'\n",
    "\n",
    "soundex('processing') #output 'P625'"
   ]
  },
  {
   "cell_type": "raw",
   "metadata": {},
   "source": [
    "Soundex is treating “natural” and “natuaral” as the same, and the\n",
    "phonetic code for both of the strings is “N364.” And for “language” and\n",
    "“processing,” it is “L52” and “P625” respectively."
   ]
  },
  {
   "cell_type": "markdown",
   "metadata": {},
   "source": [
    "Important Resource links : (Make your own Notebook)\n",
    "---\n",
    "\n",
    "> https://pypi.org/project/Fuzzy/  \n",
    "\n",
    "(from above link : pip install Fuzzy and execute only the first example )\n",
    "\n",
    "> http://www.informit.com/articles/article.aspx?p=1848528\n",
    "\n",
    "( Read and execute 3 code examples : Soundex, NYSIIS and DMetaphone )\n",
    "\n",
    "> https://www.datacamp.com/community/tutorials/fuzzy-string-python\n",
    "\n",
    "( Read everything but start executing examples (from middle of the blog) where we use \"Levenshtein package\". i.e import Levenshtein as lev )\n",
    "\n",
    "\n",
    "*only for extra reading*  \n",
    "> https://medium.com/@yash_agarwal2/soundex-and-levenshtein-distance-in-python-8b4b56542e9e"
   ]
  },
  {
   "cell_type": "code",
   "execution_count": null,
   "metadata": {},
   "outputs": [],
   "source": []
  },
  {
   "cell_type": "code",
   "execution_count": null,
   "metadata": {},
   "outputs": [],
   "source": []
  },
  {
   "cell_type": "code",
   "execution_count": null,
   "metadata": {},
   "outputs": [],
   "source": []
  }
 ],
 "metadata": {
  "kernelspec": {
   "display_name": "Python 3",
   "language": "python",
   "name": "python3"
  },
  "language_info": {
   "codemirror_mode": {
    "name": "ipython",
    "version": 3
   },
   "file_extension": ".py",
   "mimetype": "text/x-python",
   "name": "python",
   "nbconvert_exporter": "python",
   "pygments_lexer": "ipython3",
   "version": "3.6.5"
  }
 },
 "nbformat": 4,
 "nbformat_minor": 2
}
