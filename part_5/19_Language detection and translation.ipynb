{
 "cells": [
  {
   "cell_type": "markdown",
   "metadata": {},
   "source": [
    "Language detection and translation\n",
    "--\n",
    "\n",
    "Translating Speech\n",
    "Language detection and translation.\n",
    "\n",
    "Problem\n",
    "--\n",
    "Whenever you try to analyze data from blogs that are hosted across the\n",
    "globe, especially websites from countries like China, where Chinese is\n",
    "used predominantly, analyzing such data or performing NLP tasks on such\n",
    "data would be difficult. That’s where language translation comes to the\n",
    "rescue. You want to translate one language to another.\n",
    "\n",
    "Solution\n",
    "--\n",
    "The easiest way to do this by using the goslate library."
   ]
  },
  {
   "cell_type": "code",
   "execution_count": 1,
   "metadata": {},
   "outputs": [
    {
     "name": "stdout",
     "output_type": "stream",
     "text": [
      "Hi world\n"
     ]
    }
   ],
   "source": [
    "# Install and import necessary libraries\n",
    "\n",
    "# !pip install goslate\n",
    "import goslate\n",
    "\n",
    "# define some text\n",
    "text = \"Bonjour le monde\"\n",
    "\n",
    "# Run goslate function\n",
    "gs = goslate.Goslate()\n",
    "translatedText = gs.translate(text,'en')\n",
    "print(translatedText)"
   ]
  },
  {
   "cell_type": "markdown",
   "metadata": {},
   "source": [
    "Recommended Reading\n",
    "--\n",
    "https://www.geeksforgeeks.org/speech-recognition-in-python-using-google-speech-api/"
   ]
  },
  {
   "attachments": {},
   "cell_type": "raw",
   "metadata": {},
   "source": [
    "Well, it feels accomplished, isn’t it? \n",
    "\n",
    "We have implemented so many advanced NLP applications and techniques. That is not all folks; we have a couple more interesting chapters/notebooks ahead, where we will look at the industrial applications around NLP, their solution approach, and end-to-end implementation."
   ]
  },
  {
   "cell_type": "markdown",
   "metadata": {},
   "source": [
    "> Lets start : \n",
    "> Part 6 : 4 Case Studies –  Implementing Industry Applications"
   ]
  }
 ],
 "metadata": {
  "kernelspec": {
   "display_name": "Python 3",
   "language": "python",
   "name": "python3"
  },
  "language_info": {
   "codemirror_mode": {
    "name": "ipython",
    "version": 3
   },
   "file_extension": ".py",
   "mimetype": "text/x-python",
   "name": "python",
   "nbconvert_exporter": "python",
   "pygments_lexer": "ipython3",
   "version": "3.6.8"
  }
 },
 "nbformat": 4,
 "nbformat_minor": 2
}
