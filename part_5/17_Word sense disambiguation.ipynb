{
 "cells": [
  {
   "cell_type": "markdown",
   "metadata": {},
   "source": [
    "Word sense disambiguation\n",
    "--\n",
    "\n",
    "There is ambiguity that arises due to a different meaning of words in a\n",
    "different context.\n",
    "\n",
    "For example,\n",
    "\n",
    "Text1 = 'I went to the bank to deposit my money'\n",
    "\n",
    "Text2 = 'The river bank was full of dead fishes'\n",
    "\n",
    "In the above texts, the word “bank” has different meanings based on\n",
    "the context of the sentence.\n",
    "\n",
    "Problem\n",
    "--\n",
    "Understanding disambiguating word sense.\n",
    "\n",
    "Solution\n",
    "--\n",
    "The Lesk algorithm is one of the best algorithms for word sense \n",
    "disambiguation. Let’s see how to solve using the package pywsd and nltk."
   ]
  },
  {
   "cell_type": "code",
   "execution_count": 1,
   "metadata": {},
   "outputs": [
    {
     "name": "stdout",
     "output_type": "stream",
     "text": [
      "Collecting pywsd\n",
      "  Downloading https://files.pythonhosted.org/packages/9d/bb/427a49c461b0970c124509f77d2cd75bdca0daa746155c45d065f0af93e3/pywsd-1.2.4.tar.gz (26.8MB)\n",
      "Requirement already satisfied: nltk in c:\\program files\\python36\\lib\\site-packages (from pywsd) (3.4.5)\n",
      "Requirement already satisfied: numpy in c:\\program files\\python36\\lib\\site-packages (from pywsd) (1.18.0)\n",
      "Requirement already satisfied: pandas in c:\\program files\\python36\\lib\\site-packages (from pywsd) (0.25.3)\n",
      "Collecting wn\n",
      "  Downloading https://files.pythonhosted.org/packages/bc/f6/72db36e8afc977ae1a1cbb22afc77fd9b514e9bc6927ae8f4aae36665961/wn-0.0.23.tar.gz (31.6MB)\n",
      "Requirement already satisfied: six in c:\\program files\\python36\\lib\\site-packages (from pywsd) (1.13.0)\n",
      "Requirement already satisfied: python-dateutil>=2.6.1 in c:\\program files\\python36\\lib\\site-packages (from pandas->pywsd) (2.8.1)\n",
      "Requirement already satisfied: pytz>=2017.2 in c:\\program files\\python36\\lib\\site-packages (from pandas->pywsd) (2019.3)\n",
      "Building wheels for collected packages: pywsd, wn\n",
      "  Building wheel for pywsd (setup.py): started\n",
      "  Building wheel for pywsd (setup.py): finished with status 'done'\n",
      "  Created wheel for pywsd: filename=pywsd-1.2.4-cp36-none-any.whl size=26940458 sha256=cf2075b95af9fec28336c0823289959d77231f8c226f87f87b222eb6ad9d29e6\n",
      "  Stored in directory: C:\\Users\\Zuhrah\\AppData\\Local\\pip\\Cache\\wheels\\71\\4d\\d2\\405b948047f7f3851f16ab9d893ce7c1a3010182900884536b\n",
      "  Building wheel for wn (setup.py): started\n",
      "  Building wheel for wn (setup.py): finished with status 'done'\n",
      "  Created wheel for wn: filename=wn-0.0.23-cp36-none-any.whl size=31792949 sha256=4ca863b014aad51341ac496efda5e52fbe35b002ab3693e3337b8cd62edd5b75\n",
      "  Stored in directory: C:\\Users\\Zuhrah\\AppData\\Local\\pip\\Cache\\wheels\\56\\e3\\c4\\886021dbf4d758dc3cb9ddaa47d7d6fc895240d83f010e6305\n",
      "Successfully built pywsd wn\n",
      "Installing collected packages: wn, pywsd\n",
      "Successfully installed pywsd-1.2.4 wn-0.0.23\n"
     ]
    },
    {
     "name": "stderr",
     "output_type": "stream",
     "text": [
      "WARNING: You are using pip version 19.3.1; however, version 20.0.2 is available.\n",
      "You should consider upgrading via the 'python -m pip install --upgrade pip' command.\n",
      "Warming up PyWSD (takes ~10 secs)... took 10.702670812606812 secs.\n"
     ]
    }
   ],
   "source": [
    "#Install pywsd\n",
    "!pip install pywsd\n",
    "\n",
    "#Import functions\n",
    "from nltk.corpus import wordnet as wn\n",
    "from nltk.stem import PorterStemmer\n",
    "from itertools import chain\n",
    "from pywsd.lesk import simple_lesk"
   ]
  },
  {
   "cell_type": "code",
   "execution_count": 2,
   "metadata": {},
   "outputs": [
    {
     "name": "stdout",
     "output_type": "stream",
     "text": [
      "Context-1: I went to the bank to deposit my money\n",
      "Sense: Synset('depository_financial_institution.n.01')\n",
      "Definition :  a financial institution that accepts deposits and channels the money into lending activities\n",
      "Context-2: The river bank was full of dead fishes\n",
      "Sense: Synset('bank.n.01')\n",
      "Definition :  sloping land (especially the slope beside a body of water)\n"
     ]
    }
   ],
   "source": [
    "# Disambiguating word sense\n",
    "\n",
    "# Sentences\n",
    "bank_sents = ['I went to the bank to deposit my money',\n",
    "'The river bank was full of dead fishes']\n",
    "\n",
    "# calling the lesk function and printing results for both the sentences\n",
    "print (\"Context-1:\", bank_sents[0])\n",
    "answer = simple_lesk(bank_sents[0],'bank')\n",
    "print (\"Sense:\", answer)\n",
    "print (\"Definition : \", answer.definition())\n",
    "print (\"Context-2:\", bank_sents[1])\n",
    "answer = simple_lesk(bank_sents[1],'bank','n')\n",
    "print (\"Sense:\", answer)\n",
    "print (\"Definition : \", answer.definition())"
   ]
  }
 ],
 "metadata": {
  "kernelspec": {
   "display_name": "Python 3",
   "language": "python",
   "name": "python3"
  },
  "language_info": {
   "codemirror_mode": {
    "name": "ipython",
    "version": 3
   },
   "file_extension": ".py",
   "mimetype": "text/x-python",
   "name": "python",
   "nbconvert_exporter": "python",
   "pygments_lexer": "ipython3",
   "version": "3.6.5"
  }
 },
 "nbformat": 4,
 "nbformat_minor": 2
}
