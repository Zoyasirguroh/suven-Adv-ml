{
 "cells": [
  {
   "cell_type": "markdown",
   "metadata": {},
   "source": [
    "Speech recognition and speech to text\n",
    "--"
   ]
  },
  {
   "cell_type": "markdown",
   "metadata": {},
   "source": [
    "Converting Speech to Text\n",
    "--"
   ]
  },
  {
   "cell_type": "markdown",
   "metadata": {},
   "source": [
    "Converting speech to text is a very useful NLP technique.\n",
    "\n",
    "Problem\n",
    "--\n",
    "You want to convert speech to text.\n",
    "\n",
    "Solution\n",
    "--\n",
    "The simplest way to do this by using Speech Recognition and PyAudio."
   ]
  },
  {
   "cell_type": "markdown",
   "metadata": {},
   "source": [
    "> Step 1: Understanding/defining business problem\n",
    "\n",
    "> Interaction with machines is trending toward the voice, which is the usual\n",
    "way of human communication. Popular examples are Siri, Alexa’s Google\n",
    "Voice, etc."
   ]
  },
  {
   "cell_type": "markdown",
   "metadata": {},
   "source": [
    "> Step 2 : Install and import necessary libraries"
   ]
  },
  {
   "cell_type": "code",
   "execution_count": 1,
   "metadata": {},
   "outputs": [
    {
     "name": "stdout",
     "output_type": "stream",
     "text": [
      "Collecting SpeechRecognition\n",
      "  Downloading https://files.pythonhosted.org/packages/26/e1/7f5678cd94ec1234269d23756dbdaa4c8cfaed973412f88ae8adf7893a50/SpeechRecognition-3.8.1-py2.py3-none-any.whl (32.8MB)\n",
      "Installing collected packages: SpeechRecognition\n",
      "Successfully installed SpeechRecognition-3.8.1\n",
      "Collecting PyAudio\n",
      "  Downloading https://files.pythonhosted.org/packages/72/ad/80dd3ca3a26a2ea74ca7706a8a275712e13b4f884644ae7dc38fb7342bae/PyAudio-0.2.11-cp36-cp36m-win32.whl (49kB)\n",
      "Installing collected packages: PyAudio\n",
      "Successfully installed PyAudio-0.2.11\n"
     ]
    }
   ],
   "source": [
    "!pip install SpeechRecognition\n",
    "!pip install PyAudio\n",
    "import speech_recognition as sr"
   ]
  },
  {
   "cell_type": "code",
   "execution_count": null,
   "metadata": {},
   "outputs": [],
   "source": [
    "r=sr.Recognizer()\n",
    "\n",
    "with sr.Microphone() as source:\n",
    " print(\"Please say something\")\n",
    " audio = r.listen(source)\n",
    " print(\"Time over, thanks\")\n",
    "\n",
    "try:\n",
    " print(\"I think you said: \"+r.recognize_google(audio));\n",
    "except:\n",
    " pass;"
   ]
  },
  {
   "cell_type": "markdown",
   "metadata": {},
   "source": [
    "> Hint : connect the mic to your laptop. Test it (check drivers). "
   ]
  },
  {
   "cell_type": "raw",
   "metadata": {},
   "source": [
    "Sample o/p :\n",
    "Please say something\n",
    "Time over, thanks\n",
    "I think you said: I am learning natural language processing"
   ]
  },
  {
   "cell_type": "raw",
   "metadata": {},
   "source": [
    "This code works with the default language “English.” If you speak in\n",
    "any other language, for example Hindi, the text is interpreted in the form of\n",
    "English, like as below:\n",
    "\n",
    "#output\n",
    "Please say something\n",
    "Time over, thanks\n",
    "I think you said: aapka naam kya hai"
   ]
  },
  {
   "cell_type": "raw",
   "metadata": {},
   "source": [
    "If you want the text in the spoken language, please run the below code\n",
    "snippet. Where we have made the minor change is in the recognize_\n",
    "google –language(‘hi-IN’, which means Hindi)."
   ]
  },
  {
   "cell_type": "code",
   "execution_count": null,
   "metadata": {},
   "outputs": [],
   "source": [
    "r=sr.Recognizer()\n",
    "\n",
    "with sr.Microphone() as source:\n",
    " print(\"Please say something\")\n",
    " audio = r.listen(source)\n",
    " print(\"Time over, thanks\")\n",
    "\n",
    "try:\n",
    " print(\"I think you said: \"+r.recognize_google(audio,language ='hi-IN'));\n",
    "except sr.UnknownValueError:\n",
    " print(\"Google Speech Recognition could not understand audio\")\n",
    "except sr.RequestError as e:\n",
    " print(\"Could not request results from Google Speech Recognition service; {0}\".format(e))\n",
    "except:\n",
    " pass;"
   ]
  },
  {
   "cell_type": "markdown",
   "metadata": {},
   "source": [
    "Converting Text to Speech\n",
    "--\n",
    "Converting text to speech is another useful NLP technique.\n",
    "\n",
    "Problem\n",
    "--\n",
    "You want to convert text to speech.\n",
    "\n",
    "Solution\n",
    "--\n",
    "The simplest way to do this by using the gTTs library."
   ]
  },
  {
   "cell_type": "code",
   "execution_count": 1,
   "metadata": {},
   "outputs": [],
   "source": [
    "# Install and import necessary libraries\n",
    "\n",
    "# !pip install gTTS\n",
    "from gtts import gTTS"
   ]
  },
  {
   "cell_type": "code",
   "execution_count": 7,
   "metadata": {},
   "outputs": [],
   "source": [
    "# Run below code, gTTS function\n",
    "# Now after you run the below code snippet, whatever you input in the text\n",
    "# parameter gets converted into audio.\n",
    "# choose the language as English('en')\n",
    "convert = gTTS(text='I like this NLP note-book', lang='en', slow=False)\n",
    "\n",
    "# Saving the converted audio in a mp3 file named\n",
    "convert.save(\"audio.mp3\")  # it gets saved in your current path. play it.\n",
    "\n",
    "\n",
    "# Playing the converted file \n",
    "# import os\n",
    "# os.system(\"mpg321 suven/advanced_ml/audio.mp3\") "
   ]
  }
 ],
 "metadata": {
  "kernelspec": {
   "display_name": "Python 3",
   "language": "python",
   "name": "python3"
  },
  "language_info": {
   "codemirror_mode": {
    "name": "ipython",
    "version": 3
   },
   "file_extension": ".py",
   "mimetype": "text/x-python",
   "name": "python",
   "nbconvert_exporter": "python",
   "pygments_lexer": "ipython3",
   "version": "3.6.5"
  }
 },
 "nbformat": 4,
 "nbformat_minor": 2
}
