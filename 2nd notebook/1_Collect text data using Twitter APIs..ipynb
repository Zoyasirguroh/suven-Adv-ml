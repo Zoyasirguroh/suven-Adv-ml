{
 "cells": [
  {
   "cell_type": "markdown",
   "metadata": {},
   "source": [
    "Collect text data using Twitter APIs.\n",
    "--------------------------------------------------\n",
    "\n",
    "There are a lot of free APIs through which we can collect data and use it to solve problems. We will learn the Twitter API in particular (as it can be used in many applications of NLP like product reviews, sentiment analysis,....)."
   ]
  },
  {
   "cell_type": "markdown",
   "metadata": {},
   "source": [
    "Problem\n",
    "------------\n",
    "You want to collect text data using Twitter APIs.\n",
    "\n",
    "Solution\n",
    "------------\n",
    "Twitter has a gigantic amount of data with a lot of value in it. Social media\n",
    "marketers are making their living from it. There is an enormous amount\n",
    "of tweets every day, and every tweet has some story to tell. When all of this\n",
    "data is collected and analyzed, it gives a tremendous amount of insights to\n",
    "a business about their company, product, service, etc.\n",
    "\n",
    "How It Works\n",
    "-------------------\n",
    "Log in to the Twitter developer portal\n",
    "\n",
    "Create your own app in the Twitter developer portal, and get the keys\n",
    "mentioned below. Once you have these credentials, you can start pulling\n",
    "data. Keys needed:\n",
    "\n",
    "> • consumer key: Key associated with the application (Twitter, Facebook, etc.).\n",
    "\n",
    "> • consumer secret: Password used to authenticate with the authentication server \n",
    "(Twitter, Facebook, etc.).\n",
    "\n",
    "> • access token: Key given to the client after successful authentication of  above keys.\n",
    "\n",
    "> • access token secret: Password for the access key."
   ]
  },
  {
   "cell_type": "markdown",
   "metadata": {},
   "source": [
    "Useful links :\n",
    "-----------------\n",
    "https://iag.me/socialmedia/how-to-create-a-twitter-app-in-8-easy-steps/\n",
    "\n",
    "https://developer.twitter.com/en/docs/tweets/sample-realtime/overview/GET_statuse_sample"
   ]
  },
  {
   "cell_type": "code",
   "execution_count": 1,
   "metadata": {},
   "outputs": [
    {
     "name": "stdout",
     "output_type": "stream",
     "text": [
      "Collecting tweepy\n",
      "  Downloading https://files.pythonhosted.org/packages/36/1b/2bd38043d22ade352fc3d3902cf30ce0e2f4bf285be3b304a2782a767aec/tweepy-3.8.0-py2.py3-none-any.whl\n",
      "Requirement already satisfied: requests>=2.11.1 in c:\\program files\\python36\\lib\\site-packages (from tweepy) (2.22.0)\n",
      "Requirement already satisfied: six>=1.10.0 in c:\\program files\\python36\\lib\\site-packages (from tweepy) (1.13.0)\n",
      "Collecting requests-oauthlib>=0.7.0\n",
      "  Downloading https://files.pythonhosted.org/packages/a3/12/b92740d845ab62ea4edf04d2f4164d82532b5a0b03836d4d4e71c6f3d379/requests_oauthlib-1.3.0-py2.py3-none-any.whl\n",
      "Collecting PySocks>=1.5.7\n",
      "  Downloading https://files.pythonhosted.org/packages/8d/59/b4572118e098ac8e46e399a1dd0f2d85403ce8bbaad9ec79373ed6badaf9/PySocks-1.7.1-py3-none-any.whl\n",
      "Requirement already satisfied: urllib3!=1.25.0,!=1.25.1,<1.26,>=1.21.1 in c:\\program files\\python36\\lib\\site-packages (from requests>=2.11.1->tweepy) (1.25.7)\n",
      "Requirement already satisfied: idna<2.9,>=2.5 in c:\\program files\\python36\\lib\\site-packages (from requests>=2.11.1->tweepy) (2.8)\n",
      "Requirement already satisfied: chardet<3.1.0,>=3.0.2 in c:\\program files\\python36\\lib\\site-packages (from requests>=2.11.1->tweepy) (3.0.4)\n",
      "Requirement already satisfied: certifi>=2017.4.17 in c:\\program files\\python36\\lib\\site-packages (from requests>=2.11.1->tweepy) (2019.11.28)\n",
      "Collecting oauthlib>=3.0.0\n",
      "  Downloading https://files.pythonhosted.org/packages/05/57/ce2e7a8fa7c0afb54a0581b14a65b56e62b5759dbc98e80627142b8a3704/oauthlib-3.1.0-py2.py3-none-any.whl (147kB)\n",
      "Installing collected packages: oauthlib, requests-oauthlib, PySocks, tweepy\n",
      "Successfully installed PySocks-1.7.1 oauthlib-3.1.0 requests-oauthlib-1.3.0 tweepy-3.8.0\n"
     ]
    },
    {
     "name": "stderr",
     "output_type": "stream",
     "text": [
      "WARNING: You are using pip version 19.3.1; however, version 20.0.2 is available.\n",
      "You should consider upgrading via the 'python -m pip install --upgrade pip' command.\n"
     ]
    }
   ],
   "source": [
    "!pip install tweepy"
   ]
  },
  {
   "cell_type": "code",
   "execution_count": 3,
   "metadata": {
    "scrolled": false
   },
   "outputs": [
    {
     "name": "stdout",
     "output_type": "stream",
     "text": [
      "Status(_api=<tweepy.api.API object at 0x000001CB3147CF98>, _json={'created_at': 'Sun Mar 01 03:50:26 +0000 2020', 'id': 1233962778576052226, 'id_str': '1233962778576052226', 'full_text': \"#KhushiyanUnlocked\\nDon't never ever use state Bank of India\", 'truncated': False, 'display_text_range': [0, 59], 'entities': {'hashtags': [{'text': 'KhushiyanUnlocked', 'indices': [0, 18]}], 'symbols': [], 'user_mentions': [], 'urls': []}, 'metadata': {'iso_language_code': 'en', 'result_type': 'recent'}, 'source': '<a href=\"http://twitter.com/download/android\" rel=\"nofollow\">Twitter for Android</a>', 'in_reply_to_status_id': None, 'in_reply_to_status_id_str': None, 'in_reply_to_user_id': None, 'in_reply_to_user_id_str': None, 'in_reply_to_screen_name': None, 'user': {'id': 156202825, 'id_str': '156202825', 'name': 'Digitalogic Infomedia Studios LLC', 'screen_name': 'digitalogicillc', 'location': 'Washington, USA', 'description': 'Official Twitter account of CEO of Digitalogic Infomedia Studios LLC also you can count it as best media & gaming company worldwide', 'url': None, 'entities': {'description': {'urls': []}}, 'protected': False, 'followers_count': 1436, 'friends_count': 3492, 'listed_count': 19, 'created_at': 'Wed Jun 16 08:25:19 +0000 2010', 'favourites_count': 3, 'utc_offset': None, 'time_zone': None, 'geo_enabled': True, 'verified': False, 'statuses_count': 15861, 'lang': None, 'contributors_enabled': False, 'is_translator': False, 'is_translation_enabled': False, 'profile_background_color': 'FFF04D', 'profile_background_image_url': 'http://abs.twimg.com/images/themes/theme19/bg.gif', 'profile_background_image_url_https': 'https://abs.twimg.com/images/themes/theme19/bg.gif', 'profile_background_tile': True, 'profile_image_url': 'http://pbs.twimg.com/profile_images/1223097035919781888/SnlkYMP2_normal.jpg', 'profile_image_url_https': 'https://pbs.twimg.com/profile_images/1223097035919781888/SnlkYMP2_normal.jpg', 'profile_banner_url': 'https://pbs.twimg.com/profile_banners/156202825/1367253450', 'profile_link_color': '4A913C', 'profile_sidebar_border_color': 'FFFFFF', 'profile_sidebar_fill_color': 'F6FFD1', 'profile_text_color': '333333', 'profile_use_background_image': True, 'has_extended_profile': True, 'default_profile': False, 'default_profile_image': False, 'following': False, 'follow_request_sent': False, 'notifications': False, 'translator_type': 'none'}, 'geo': None, 'coordinates': None, 'place': None, 'contributors': None, 'is_quote_status': False, 'retweet_count': 0, 'favorite_count': 0, 'favorited': False, 'retweeted': False, 'lang': 'en'}, created_at=datetime.datetime(2020, 3, 1, 3, 50, 26), id=1233962778576052226, id_str='1233962778576052226', full_text=\"#KhushiyanUnlocked\\nDon't never ever use state Bank of India\", truncated=False, display_text_range=[0, 59], entities={'hashtags': [{'text': 'KhushiyanUnlocked', 'indices': [0, 18]}], 'symbols': [], 'user_mentions': [], 'urls': []}, metadata={'iso_language_code': 'en', 'result_type': 'recent'}, source='Twitter for Android', source_url='http://twitter.com/download/android', in_reply_to_status_id=None, in_reply_to_status_id_str=None, in_reply_to_user_id=None, in_reply_to_user_id_str=None, in_reply_to_screen_name=None, author=User(_api=<tweepy.api.API object at 0x000001CB3147CF98>, _json={'id': 156202825, 'id_str': '156202825', 'name': 'Digitalogic Infomedia Studios LLC', 'screen_name': 'digitalogicillc', 'location': 'Washington, USA', 'description': 'Official Twitter account of CEO of Digitalogic Infomedia Studios LLC also you can count it as best media & gaming company worldwide', 'url': None, 'entities': {'description': {'urls': []}}, 'protected': False, 'followers_count': 1436, 'friends_count': 3492, 'listed_count': 19, 'created_at': 'Wed Jun 16 08:25:19 +0000 2010', 'favourites_count': 3, 'utc_offset': None, 'time_zone': None, 'geo_enabled': True, 'verified': False, 'statuses_count': 15861, 'lang': None, 'contributors_enabled': False, 'is_translator': False, 'is_translation_enabled': False, 'profile_background_color': 'FFF04D', 'profile_background_image_url': 'http://abs.twimg.com/images/themes/theme19/bg.gif', 'profile_background_image_url_https': 'https://abs.twimg.com/images/themes/theme19/bg.gif', 'profile_background_tile': True, 'profile_image_url': 'http://pbs.twimg.com/profile_images/1223097035919781888/SnlkYMP2_normal.jpg', 'profile_image_url_https': 'https://pbs.twimg.com/profile_images/1223097035919781888/SnlkYMP2_normal.jpg', 'profile_banner_url': 'https://pbs.twimg.com/profile_banners/156202825/1367253450', 'profile_link_color': '4A913C', 'profile_sidebar_border_color': 'FFFFFF', 'profile_sidebar_fill_color': 'F6FFD1', 'profile_text_color': '333333', 'profile_use_background_image': True, 'has_extended_profile': True, 'default_profile': False, 'default_profile_image': False, 'following': False, 'follow_request_sent': False, 'notifications': False, 'translator_type': 'none'}, id=156202825, id_str='156202825', name='Digitalogic Infomedia Studios LLC', screen_name='digitalogicillc', location='Washington, USA', description='Official Twitter account of CEO of Digitalogic Infomedia Studios LLC also you can count it as best media & gaming company worldwide', url=None, entities={'description': {'urls': []}}, protected=False, followers_count=1436, friends_count=3492, listed_count=19, created_at=datetime.datetime(2010, 6, 16, 8, 25, 19), favourites_count=3, utc_offset=None, time_zone=None, geo_enabled=True, verified=False, statuses_count=15861, lang=None, contributors_enabled=False, is_translator=False, is_translation_enabled=False, profile_background_color='FFF04D', profile_background_image_url='http://abs.twimg.com/images/themes/theme19/bg.gif', profile_background_image_url_https='https://abs.twimg.com/images/themes/theme19/bg.gif', profile_background_tile=True, profile_image_url='http://pbs.twimg.com/profile_images/1223097035919781888/SnlkYMP2_normal.jpg', profile_image_url_https='https://pbs.twimg.com/profile_images/1223097035919781888/SnlkYMP2_normal.jpg', profile_banner_url='https://pbs.twimg.com/profile_banners/156202825/1367253450', profile_link_color='4A913C', profile_sidebar_border_color='FFFFFF', profile_sidebar_fill_color='F6FFD1', profile_text_color='333333', profile_use_background_image=True, has_extended_profile=True, default_profile=False, default_profile_image=False, following=False, follow_request_sent=False, notifications=False, translator_type='none'), user=User(_api=<tweepy.api.API object at 0x000001CB3147CF98>, _json={'id': 156202825, 'id_str': '156202825', 'name': 'Digitalogic Infomedia Studios LLC', 'screen_name': 'digitalogicillc', 'location': 'Washington, USA', 'description': 'Official Twitter account of CEO of Digitalogic Infomedia Studios LLC also you can count it as best media & gaming company worldwide', 'url': None, 'entities': {'description': {'urls': []}}, 'protected': False, 'followers_count': 1436, 'friends_count': 3492, 'listed_count': 19, 'created_at': 'Wed Jun 16 08:25:19 +0000 2010', 'favourites_count': 3, 'utc_offset': None, 'time_zone': None, 'geo_enabled': True, 'verified': False, 'statuses_count': 15861, 'lang': None, 'contributors_enabled': False, 'is_translator': False, 'is_translation_enabled': False, 'profile_background_color': 'FFF04D', 'profile_background_image_url': 'http://abs.twimg.com/images/themes/theme19/bg.gif', 'profile_background_image_url_https': 'https://abs.twimg.com/images/themes/theme19/bg.gif', 'profile_background_tile': True, 'profile_image_url': 'http://pbs.twimg.com/profile_images/1223097035919781888/SnlkYMP2_normal.jpg', 'profile_image_url_https': 'https://pbs.twimg.com/profile_images/1223097035919781888/SnlkYMP2_normal.jpg', 'profile_banner_url': 'https://pbs.twimg.com/profile_banners/156202825/1367253450', 'profile_link_color': '4A913C', 'profile_sidebar_border_color': 'FFFFFF', 'profile_sidebar_fill_color': 'F6FFD1', 'profile_text_color': '333333', 'profile_use_background_image': True, 'has_extended_profile': True, 'default_profile': False, 'default_profile_image': False, 'following': False, 'follow_request_sent': False, 'notifications': False, 'translator_type': 'none'}, id=156202825, id_str='156202825', name='Digitalogic Infomedia Studios LLC', screen_name='digitalogicillc', location='Washington, USA', description='Official Twitter account of CEO of Digitalogic Infomedia Studios LLC also you can count it as best media & gaming company worldwide', url=None, entities={'description': {'urls': []}}, protected=False, followers_count=1436, friends_count=3492, listed_count=19, created_at=datetime.datetime(2010, 6, 16, 8, 25, 19), favourites_count=3, utc_offset=None, time_zone=None, geo_enabled=True, verified=False, statuses_count=15861, lang=None, contributors_enabled=False, is_translator=False, is_translation_enabled=False, profile_background_color='FFF04D', profile_background_image_url='http://abs.twimg.com/images/themes/theme19/bg.gif', profile_background_image_url_https='https://abs.twimg.com/images/themes/theme19/bg.gif', profile_background_tile=True, profile_image_url='http://pbs.twimg.com/profile_images/1223097035919781888/SnlkYMP2_normal.jpg', profile_image_url_https='https://pbs.twimg.com/profile_images/1223097035919781888/SnlkYMP2_normal.jpg', profile_banner_url='https://pbs.twimg.com/profile_banners/156202825/1367253450', profile_link_color='4A913C', profile_sidebar_border_color='FFFFFF', profile_sidebar_fill_color='F6FFD1', profile_text_color='333333', profile_use_background_image=True, has_extended_profile=True, default_profile=False, default_profile_image=False, following=False, follow_request_sent=False, notifications=False, translator_type='none'), geo=None, coordinates=None, place=None, contributors=None, is_quote_status=False, retweet_count=0, favorite_count=0, favorited=False, retweeted=False, lang='en')\n",
      "============================================================================================\n",
      "Status(_api=<tweepy.api.API object at 0x000001CB3147CF98>, _json={'created_at': 'Sun Mar 01 03:48:03 +0000 2020', 'id': 1233962177054138368, 'id_str': '1233962177054138368', 'full_text': 'City Life...!! #KhushiyanUnlocked #NZvsIND #INDvNZ, #AEWRevolution #BailandoPorUnSueño #UFCNorfolk #Aqours1st上映会 #SCprimary2020 #minggupagi #TangkapFahiraIdris #TheDreamShowInJKT #mgp2020 #zulucs #WATLIV #Keszler #IfTwitterEndedTomorrow #Εβρος \\nhttps://t.co/CF6Y4ivpi2 👈👈👈👈 https://t.co/OeoKJsvvEI', 'truncated': False, 'display_text_range': [0, 273], 'entities': {'hashtags': [{'text': 'KhushiyanUnlocked', 'indices': [15, 33]}, {'text': 'NZvsIND', 'indices': [34, 42]}, {'text': 'INDvNZ', 'indices': [43, 50]}, {'text': 'AEWRevolution', 'indices': [52, 66]}, {'text': 'BailandoPorUnSueño', 'indices': [67, 86]}, {'text': 'UFCNorfolk', 'indices': [87, 98]}, {'text': 'Aqours1st上映会', 'indices': [99, 112]}, {'text': 'SCprimary2020', 'indices': [113, 127]}, {'text': 'minggupagi', 'indices': [128, 139]}, {'text': 'TangkapFahiraIdris', 'indices': [140, 159]}, {'text': 'TheDreamShowInJKT', 'indices': [160, 178]}, {'text': 'mgp2020', 'indices': [179, 187]}, {'text': 'zulucs', 'indices': [188, 195]}, {'text': 'WATLIV', 'indices': [196, 203]}, {'text': 'Keszler', 'indices': [204, 212]}, {'text': 'IfTwitterEndedTomorrow', 'indices': [213, 236]}, {'text': 'Εβρος', 'indices': [237, 243]}], 'symbols': [], 'user_mentions': [], 'urls': [{'url': 'https://t.co/CF6Y4ivpi2', 'expanded_url': 'https://youtu.be/YalyrQ4NO8c', 'display_url': 'youtu.be/YalyrQ4NO8c', 'indices': [245, 268]}], 'media': [{'id': 1233962157777117184, 'id_str': '1233962157777117184', 'indices': [274, 297], 'media_url': 'http://pbs.twimg.com/media/ER_qC3CUYAA8xRr.jpg', 'media_url_https': 'https://pbs.twimg.com/media/ER_qC3CUYAA8xRr.jpg', 'url': 'https://t.co/OeoKJsvvEI', 'display_url': 'pic.twitter.com/OeoKJsvvEI', 'expanded_url': 'https://twitter.com/AgroBsk/status/1233962177054138368/photo/1', 'type': 'photo', 'sizes': {'large': {'w': 2035, 'h': 1141, 'resize': 'fit'}, 'thumb': {'w': 150, 'h': 150, 'resize': 'crop'}, 'medium': {'w': 1200, 'h': 673, 'resize': 'fit'}, 'small': {'w': 680, 'h': 381, 'resize': 'fit'}}}]}, 'extended_entities': {'media': [{'id': 1233962157777117184, 'id_str': '1233962157777117184', 'indices': [274, 297], 'media_url': 'http://pbs.twimg.com/media/ER_qC3CUYAA8xRr.jpg', 'media_url_https': 'https://pbs.twimg.com/media/ER_qC3CUYAA8xRr.jpg', 'url': 'https://t.co/OeoKJsvvEI', 'display_url': 'pic.twitter.com/OeoKJsvvEI', 'expanded_url': 'https://twitter.com/AgroBsk/status/1233962177054138368/photo/1', 'type': 'photo', 'sizes': {'large': {'w': 2035, 'h': 1141, 'resize': 'fit'}, 'thumb': {'w': 150, 'h': 150, 'resize': 'crop'}, 'medium': {'w': 1200, 'h': 673, 'resize': 'fit'}, 'small': {'w': 680, 'h': 381, 'resize': 'fit'}}}]}, 'metadata': {'iso_language_code': 'en', 'result_type': 'recent'}, 'source': '<a href=\"https://mobile.twitter.com\" rel=\"nofollow\">Twitter Web App</a>', 'in_reply_to_status_id': None, 'in_reply_to_status_id_str': None, 'in_reply_to_user_id': None, 'in_reply_to_user_id_str': None, 'in_reply_to_screen_name': None, 'user': {'id': 1217650989299204096, 'id_str': '1217650989299204096', 'name': 'SBK Productionzzz', 'screen_name': 'AgroBsk', 'location': '', 'description': 'Media, advertising, film production, production house, new releases, memes, comedy, thriller, romantic, tittok best, new talent', 'url': None, 'entities': {'description': {'urls': []}}, 'protected': False, 'followers_count': 0, 'friends_count': 0, 'listed_count': 0, 'created_at': 'Thu Jan 16 03:33:29 +0000 2020', 'favourites_count': 0, 'utc_offset': None, 'time_zone': None, 'geo_enabled': False, 'verified': False, 'statuses_count': 23, 'lang': None, 'contributors_enabled': False, 'is_translator': False, 'is_translation_enabled': False, 'profile_background_color': 'F5F8FA', 'profile_background_image_url': None, 'profile_background_image_url_https': None, 'profile_background_tile': False, 'profile_image_url': 'http://pbs.twimg.com/profile_images/1229083053802180608/ScMRLPQG_normal.jpg', 'profile_image_url_https': 'https://pbs.twimg.com/profile_images/1229083053802180608/ScMRLPQG_normal.jpg', 'profile_link_color': '1DA1F2', 'profile_sidebar_border_color': 'C0DEED', 'profile_sidebar_fill_color': 'DDEEF6', 'profile_text_color': '333333', 'profile_use_background_image': True, 'has_extended_profile': False, 'default_profile': True, 'default_profile_image': False, 'following': False, 'follow_request_sent': False, 'notifications': False, 'translator_type': 'none'}, 'geo': None, 'coordinates': None, 'place': None, 'contributors': None, 'is_quote_status': False, 'retweet_count': 0, 'favorite_count': 0, 'favorited': False, 'retweeted': False, 'possibly_sensitive': False, 'lang': 'en'}, created_at=datetime.datetime(2020, 3, 1, 3, 48, 3), id=1233962177054138368, id_str='1233962177054138368', full_text='City Life...!! #KhushiyanUnlocked #NZvsIND #INDvNZ, #AEWRevolution #BailandoPorUnSueño #UFCNorfolk #Aqours1st上映会 #SCprimary2020 #minggupagi #TangkapFahiraIdris #TheDreamShowInJKT #mgp2020 #zulucs #WATLIV #Keszler #IfTwitterEndedTomorrow #Εβρος \\nhttps://t.co/CF6Y4ivpi2 👈👈👈👈 https://t.co/OeoKJsvvEI', truncated=False, display_text_range=[0, 273], entities={'hashtags': [{'text': 'KhushiyanUnlocked', 'indices': [15, 33]}, {'text': 'NZvsIND', 'indices': [34, 42]}, {'text': 'INDvNZ', 'indices': [43, 50]}, {'text': 'AEWRevolution', 'indices': [52, 66]}, {'text': 'BailandoPorUnSueño', 'indices': [67, 86]}, {'text': 'UFCNorfolk', 'indices': [87, 98]}, {'text': 'Aqours1st上映会', 'indices': [99, 112]}, {'text': 'SCprimary2020', 'indices': [113, 127]}, {'text': 'minggupagi', 'indices': [128, 139]}, {'text': 'TangkapFahiraIdris', 'indices': [140, 159]}, {'text': 'TheDreamShowInJKT', 'indices': [160, 178]}, {'text': 'mgp2020', 'indices': [179, 187]}, {'text': 'zulucs', 'indices': [188, 195]}, {'text': 'WATLIV', 'indices': [196, 203]}, {'text': 'Keszler', 'indices': [204, 212]}, {'text': 'IfTwitterEndedTomorrow', 'indices': [213, 236]}, {'text': 'Εβρος', 'indices': [237, 243]}], 'symbols': [], 'user_mentions': [], 'urls': [{'url': 'https://t.co/CF6Y4ivpi2', 'expanded_url': 'https://youtu.be/YalyrQ4NO8c', 'display_url': 'youtu.be/YalyrQ4NO8c', 'indices': [245, 268]}], 'media': [{'id': 1233962157777117184, 'id_str': '1233962157777117184', 'indices': [274, 297], 'media_url': 'http://pbs.twimg.com/media/ER_qC3CUYAA8xRr.jpg', 'media_url_https': 'https://pbs.twimg.com/media/ER_qC3CUYAA8xRr.jpg', 'url': 'https://t.co/OeoKJsvvEI', 'display_url': 'pic.twitter.com/OeoKJsvvEI', 'expanded_url': 'https://twitter.com/AgroBsk/status/1233962177054138368/photo/1', 'type': 'photo', 'sizes': {'large': {'w': 2035, 'h': 1141, 'resize': 'fit'}, 'thumb': {'w': 150, 'h': 150, 'resize': 'crop'}, 'medium': {'w': 1200, 'h': 673, 'resize': 'fit'}, 'small': {'w': 680, 'h': 381, 'resize': 'fit'}}}]}, extended_entities={'media': [{'id': 1233962157777117184, 'id_str': '1233962157777117184', 'indices': [274, 297], 'media_url': 'http://pbs.twimg.com/media/ER_qC3CUYAA8xRr.jpg', 'media_url_https': 'https://pbs.twimg.com/media/ER_qC3CUYAA8xRr.jpg', 'url': 'https://t.co/OeoKJsvvEI', 'display_url': 'pic.twitter.com/OeoKJsvvEI', 'expanded_url': 'https://twitter.com/AgroBsk/status/1233962177054138368/photo/1', 'type': 'photo', 'sizes': {'large': {'w': 2035, 'h': 1141, 'resize': 'fit'}, 'thumb': {'w': 150, 'h': 150, 'resize': 'crop'}, 'medium': {'w': 1200, 'h': 673, 'resize': 'fit'}, 'small': {'w': 680, 'h': 381, 'resize': 'fit'}}}]}, metadata={'iso_language_code': 'en', 'result_type': 'recent'}, source='Twitter Web App', source_url='https://mobile.twitter.com', in_reply_to_status_id=None, in_reply_to_status_id_str=None, in_reply_to_user_id=None, in_reply_to_user_id_str=None, in_reply_to_screen_name=None, author=User(_api=<tweepy.api.API object at 0x000001CB3147CF98>, _json={'id': 1217650989299204096, 'id_str': '1217650989299204096', 'name': 'SBK Productionzzz', 'screen_name': 'AgroBsk', 'location': '', 'description': 'Media, advertising, film production, production house, new releases, memes, comedy, thriller, romantic, tittok best, new talent', 'url': None, 'entities': {'description': {'urls': []}}, 'protected': False, 'followers_count': 0, 'friends_count': 0, 'listed_count': 0, 'created_at': 'Thu Jan 16 03:33:29 +0000 2020', 'favourites_count': 0, 'utc_offset': None, 'time_zone': None, 'geo_enabled': False, 'verified': False, 'statuses_count': 23, 'lang': None, 'contributors_enabled': False, 'is_translator': False, 'is_translation_enabled': False, 'profile_background_color': 'F5F8FA', 'profile_background_image_url': None, 'profile_background_image_url_https': None, 'profile_background_tile': False, 'profile_image_url': 'http://pbs.twimg.com/profile_images/1229083053802180608/ScMRLPQG_normal.jpg', 'profile_image_url_https': 'https://pbs.twimg.com/profile_images/1229083053802180608/ScMRLPQG_normal.jpg', 'profile_link_color': '1DA1F2', 'profile_sidebar_border_color': 'C0DEED', 'profile_sidebar_fill_color': 'DDEEF6', 'profile_text_color': '333333', 'profile_use_background_image': True, 'has_extended_profile': False, 'default_profile': True, 'default_profile_image': False, 'following': False, 'follow_request_sent': False, 'notifications': False, 'translator_type': 'none'}, id=1217650989299204096, id_str='1217650989299204096', name='SBK Productionzzz', screen_name='AgroBsk', location='', description='Media, advertising, film production, production house, new releases, memes, comedy, thriller, romantic, tittok best, new talent', url=None, entities={'description': {'urls': []}}, protected=False, followers_count=0, friends_count=0, listed_count=0, created_at=datetime.datetime(2020, 1, 16, 3, 33, 29), favourites_count=0, utc_offset=None, time_zone=None, geo_enabled=False, verified=False, statuses_count=23, lang=None, contributors_enabled=False, is_translator=False, is_translation_enabled=False, profile_background_color='F5F8FA', profile_background_image_url=None, profile_background_image_url_https=None, profile_background_tile=False, profile_image_url='http://pbs.twimg.com/profile_images/1229083053802180608/ScMRLPQG_normal.jpg', profile_image_url_https='https://pbs.twimg.com/profile_images/1229083053802180608/ScMRLPQG_normal.jpg', profile_link_color='1DA1F2', profile_sidebar_border_color='C0DEED', profile_sidebar_fill_color='DDEEF6', profile_text_color='333333', profile_use_background_image=True, has_extended_profile=False, default_profile=True, default_profile_image=False, following=False, follow_request_sent=False, notifications=False, translator_type='none'), user=User(_api=<tweepy.api.API object at 0x000001CB3147CF98>, _json={'id': 1217650989299204096, 'id_str': '1217650989299204096', 'name': 'SBK Productionzzz', 'screen_name': 'AgroBsk', 'location': '', 'description': 'Media, advertising, film production, production house, new releases, memes, comedy, thriller, romantic, tittok best, new talent', 'url': None, 'entities': {'description': {'urls': []}}, 'protected': False, 'followers_count': 0, 'friends_count': 0, 'listed_count': 0, 'created_at': 'Thu Jan 16 03:33:29 +0000 2020', 'favourites_count': 0, 'utc_offset': None, 'time_zone': None, 'geo_enabled': False, 'verified': False, 'statuses_count': 23, 'lang': None, 'contributors_enabled': False, 'is_translator': False, 'is_translation_enabled': False, 'profile_background_color': 'F5F8FA', 'profile_background_image_url': None, 'profile_background_image_url_https': None, 'profile_background_tile': False, 'profile_image_url': 'http://pbs.twimg.com/profile_images/1229083053802180608/ScMRLPQG_normal.jpg', 'profile_image_url_https': 'https://pbs.twimg.com/profile_images/1229083053802180608/ScMRLPQG_normal.jpg', 'profile_link_color': '1DA1F2', 'profile_sidebar_border_color': 'C0DEED', 'profile_sidebar_fill_color': 'DDEEF6', 'profile_text_color': '333333', 'profile_use_background_image': True, 'has_extended_profile': False, 'default_profile': True, 'default_profile_image': False, 'following': False, 'follow_request_sent': False, 'notifications': False, 'translator_type': 'none'}, id=1217650989299204096, id_str='1217650989299204096', name='SBK Productionzzz', screen_name='AgroBsk', location='', description='Media, advertising, film production, production house, new releases, memes, comedy, thriller, romantic, tittok best, new talent', url=None, entities={'description': {'urls': []}}, protected=False, followers_count=0, friends_count=0, listed_count=0, created_at=datetime.datetime(2020, 1, 16, 3, 33, 29), favourites_count=0, utc_offset=None, time_zone=None, geo_enabled=False, verified=False, statuses_count=23, lang=None, contributors_enabled=False, is_translator=False, is_translation_enabled=False, profile_background_color='F5F8FA', profile_background_image_url=None, profile_background_image_url_https=None, profile_background_tile=False, profile_image_url='http://pbs.twimg.com/profile_images/1229083053802180608/ScMRLPQG_normal.jpg', profile_image_url_https='https://pbs.twimg.com/profile_images/1229083053802180608/ScMRLPQG_normal.jpg', profile_link_color='1DA1F2', profile_sidebar_border_color='C0DEED', profile_sidebar_fill_color='DDEEF6', profile_text_color='333333', profile_use_background_image=True, has_extended_profile=False, default_profile=True, default_profile_image=False, following=False, follow_request_sent=False, notifications=False, translator_type='none'), geo=None, coordinates=None, place=None, contributors=None, is_quote_status=False, retweet_count=0, favorite_count=0, favorited=False, retweeted=False, possibly_sensitive=False, lang='en')\n",
      "============================================================================================\n",
      "Status(_api=<tweepy.api.API object at 0x000001CB3147CF98>, _json={'created_at': 'Sun Mar 01 03:43:34 +0000 2020', 'id': 1233961047960088577, 'id_str': '1233961047960088577', 'full_text': '@TheOfficialSBI What #KhushiyanUnlocked ?? your Bank has stopped the pension of disabled soldiers as if you are above Suprem Court, remember my disability is because of profession not by choice', 'truncated': False, 'display_text_range': [16, 193], 'entities': {'hashtags': [{'text': 'KhushiyanUnlocked', 'indices': [21, 39]}], 'symbols': [], 'user_mentions': [{'screen_name': 'TheOfficialSBI', 'name': 'State Bank of India', 'id': 2251588934, 'id_str': '2251588934', 'indices': [0, 15]}], 'urls': []}, 'metadata': {'iso_language_code': 'en', 'result_type': 'recent'}, 'source': '<a href=\"http://twitter.com/download/android\" rel=\"nofollow\">Twitter for Android</a>', 'in_reply_to_status_id': 1233745710886948864, 'in_reply_to_status_id_str': '1233745710886948864', 'in_reply_to_user_id': 2251588934, 'in_reply_to_user_id_str': '2251588934', 'in_reply_to_screen_name': 'TheOfficialSBI', 'user': {'id': 2923416505, 'id_str': '2923416505', 'name': 'OMESH PAL RAMPAL', 'screen_name': 'chogawiaan', 'location': 'Chandigarh, India', 'description': 'Retired from Army, proud Indian', 'url': None, 'entities': {'description': {'urls': []}}, 'protected': False, 'followers_count': 140, 'friends_count': 52, 'listed_count': 2, 'created_at': 'Tue Dec 09 03:39:55 +0000 2014', 'favourites_count': 8872, 'utc_offset': None, 'time_zone': None, 'geo_enabled': False, 'verified': False, 'statuses_count': 13227, 'lang': None, 'contributors_enabled': False, 'is_translator': False, 'is_translation_enabled': False, 'profile_background_color': 'C0DEED', 'profile_background_image_url': 'http://abs.twimg.com/images/themes/theme1/bg.png', 'profile_background_image_url_https': 'https://abs.twimg.com/images/themes/theme1/bg.png', 'profile_background_tile': False, 'profile_image_url': 'http://pbs.twimg.com/profile_images/1209103342930018305/kAzpn0Dn_normal.jpg', 'profile_image_url_https': 'https://pbs.twimg.com/profile_images/1209103342930018305/kAzpn0Dn_normal.jpg', 'profile_link_color': '1DA1F2', 'profile_sidebar_border_color': 'C0DEED', 'profile_sidebar_fill_color': 'DDEEF6', 'profile_text_color': '333333', 'profile_use_background_image': True, 'has_extended_profile': True, 'default_profile': True, 'default_profile_image': False, 'following': False, 'follow_request_sent': False, 'notifications': False, 'translator_type': 'none'}, 'geo': None, 'coordinates': None, 'place': None, 'contributors': None, 'is_quote_status': False, 'retweet_count': 0, 'favorite_count': 0, 'favorited': False, 'retweeted': False, 'lang': 'en'}, created_at=datetime.datetime(2020, 3, 1, 3, 43, 34), id=1233961047960088577, id_str='1233961047960088577', full_text='@TheOfficialSBI What #KhushiyanUnlocked ?? your Bank has stopped the pension of disabled soldiers as if you are above Suprem Court, remember my disability is because of profession not by choice', truncated=False, display_text_range=[16, 193], entities={'hashtags': [{'text': 'KhushiyanUnlocked', 'indices': [21, 39]}], 'symbols': [], 'user_mentions': [{'screen_name': 'TheOfficialSBI', 'name': 'State Bank of India', 'id': 2251588934, 'id_str': '2251588934', 'indices': [0, 15]}], 'urls': []}, metadata={'iso_language_code': 'en', 'result_type': 'recent'}, source='Twitter for Android', source_url='http://twitter.com/download/android', in_reply_to_status_id=1233745710886948864, in_reply_to_status_id_str='1233745710886948864', in_reply_to_user_id=2251588934, in_reply_to_user_id_str='2251588934', in_reply_to_screen_name='TheOfficialSBI', author=User(_api=<tweepy.api.API object at 0x000001CB3147CF98>, _json={'id': 2923416505, 'id_str': '2923416505', 'name': 'OMESH PAL RAMPAL', 'screen_name': 'chogawiaan', 'location': 'Chandigarh, India', 'description': 'Retired from Army, proud Indian', 'url': None, 'entities': {'description': {'urls': []}}, 'protected': False, 'followers_count': 140, 'friends_count': 52, 'listed_count': 2, 'created_at': 'Tue Dec 09 03:39:55 +0000 2014', 'favourites_count': 8872, 'utc_offset': None, 'time_zone': None, 'geo_enabled': False, 'verified': False, 'statuses_count': 13227, 'lang': None, 'contributors_enabled': False, 'is_translator': False, 'is_translation_enabled': False, 'profile_background_color': 'C0DEED', 'profile_background_image_url': 'http://abs.twimg.com/images/themes/theme1/bg.png', 'profile_background_image_url_https': 'https://abs.twimg.com/images/themes/theme1/bg.png', 'profile_background_tile': False, 'profile_image_url': 'http://pbs.twimg.com/profile_images/1209103342930018305/kAzpn0Dn_normal.jpg', 'profile_image_url_https': 'https://pbs.twimg.com/profile_images/1209103342930018305/kAzpn0Dn_normal.jpg', 'profile_link_color': '1DA1F2', 'profile_sidebar_border_color': 'C0DEED', 'profile_sidebar_fill_color': 'DDEEF6', 'profile_text_color': '333333', 'profile_use_background_image': True, 'has_extended_profile': True, 'default_profile': True, 'default_profile_image': False, 'following': False, 'follow_request_sent': False, 'notifications': False, 'translator_type': 'none'}, id=2923416505, id_str='2923416505', name='OMESH PAL RAMPAL', screen_name='chogawiaan', location='Chandigarh, India', description='Retired from Army, proud Indian', url=None, entities={'description': {'urls': []}}, protected=False, followers_count=140, friends_count=52, listed_count=2, created_at=datetime.datetime(2014, 12, 9, 3, 39, 55), favourites_count=8872, utc_offset=None, time_zone=None, geo_enabled=False, verified=False, statuses_count=13227, lang=None, contributors_enabled=False, is_translator=False, is_translation_enabled=False, profile_background_color='C0DEED', profile_background_image_url='http://abs.twimg.com/images/themes/theme1/bg.png', profile_background_image_url_https='https://abs.twimg.com/images/themes/theme1/bg.png', profile_background_tile=False, profile_image_url='http://pbs.twimg.com/profile_images/1209103342930018305/kAzpn0Dn_normal.jpg', profile_image_url_https='https://pbs.twimg.com/profile_images/1209103342930018305/kAzpn0Dn_normal.jpg', profile_link_color='1DA1F2', profile_sidebar_border_color='C0DEED', profile_sidebar_fill_color='DDEEF6', profile_text_color='333333', profile_use_background_image=True, has_extended_profile=True, default_profile=True, default_profile_image=False, following=False, follow_request_sent=False, notifications=False, translator_type='none'), user=User(_api=<tweepy.api.API object at 0x000001CB3147CF98>, _json={'id': 2923416505, 'id_str': '2923416505', 'name': 'OMESH PAL RAMPAL', 'screen_name': 'chogawiaan', 'location': 'Chandigarh, India', 'description': 'Retired from Army, proud Indian', 'url': None, 'entities': {'description': {'urls': []}}, 'protected': False, 'followers_count': 140, 'friends_count': 52, 'listed_count': 2, 'created_at': 'Tue Dec 09 03:39:55 +0000 2014', 'favourites_count': 8872, 'utc_offset': None, 'time_zone': None, 'geo_enabled': False, 'verified': False, 'statuses_count': 13227, 'lang': None, 'contributors_enabled': False, 'is_translator': False, 'is_translation_enabled': False, 'profile_background_color': 'C0DEED', 'profile_background_image_url': 'http://abs.twimg.com/images/themes/theme1/bg.png', 'profile_background_image_url_https': 'https://abs.twimg.com/images/themes/theme1/bg.png', 'profile_background_tile': False, 'profile_image_url': 'http://pbs.twimg.com/profile_images/1209103342930018305/kAzpn0Dn_normal.jpg', 'profile_image_url_https': 'https://pbs.twimg.com/profile_images/1209103342930018305/kAzpn0Dn_normal.jpg', 'profile_link_color': '1DA1F2', 'profile_sidebar_border_color': 'C0DEED', 'profile_sidebar_fill_color': 'DDEEF6', 'profile_text_color': '333333', 'profile_use_background_image': True, 'has_extended_profile': True, 'default_profile': True, 'default_profile_image': False, 'following': False, 'follow_request_sent': False, 'notifications': False, 'translator_type': 'none'}, id=2923416505, id_str='2923416505', name='OMESH PAL RAMPAL', screen_name='chogawiaan', location='Chandigarh, India', description='Retired from Army, proud Indian', url=None, entities={'description': {'urls': []}}, protected=False, followers_count=140, friends_count=52, listed_count=2, created_at=datetime.datetime(2014, 12, 9, 3, 39, 55), favourites_count=8872, utc_offset=None, time_zone=None, geo_enabled=False, verified=False, statuses_count=13227, lang=None, contributors_enabled=False, is_translator=False, is_translation_enabled=False, profile_background_color='C0DEED', profile_background_image_url='http://abs.twimg.com/images/themes/theme1/bg.png', profile_background_image_url_https='https://abs.twimg.com/images/themes/theme1/bg.png', profile_background_tile=False, profile_image_url='http://pbs.twimg.com/profile_images/1209103342930018305/kAzpn0Dn_normal.jpg', profile_image_url_https='https://pbs.twimg.com/profile_images/1209103342930018305/kAzpn0Dn_normal.jpg', profile_link_color='1DA1F2', profile_sidebar_border_color='C0DEED', profile_sidebar_fill_color='DDEEF6', profile_text_color='333333', profile_use_background_image=True, has_extended_profile=True, default_profile=True, default_profile_image=False, following=False, follow_request_sent=False, notifications=False, translator_type='none'), geo=None, coordinates=None, place=None, contributors=None, is_quote_status=False, retweet_count=0, favorite_count=0, favorited=False, retweeted=False, lang='en')\n",
      "============================================================================================\n",
      "Status(_api=<tweepy.api.API object at 0x000001CB3147CF98>, _json={'created_at': 'Sun Mar 01 03:43:01 +0000 2020', 'id': 1233960908751196161, 'id_str': '1233960908751196161', 'full_text': 'Ideas on  How to Make Small Bedroom Look Bigger\\n\\nFor more ideas visit: https://t.co/vkdNGL9ywJ\\n\\n#HappyBirthdayJustinBieber #KhushiyanUnlocked #jadeja https://t.co/XZ9HadRY4Z', 'truncated': False, 'display_text_range': [0, 149], 'entities': {'hashtags': [{'text': 'HappyBirthdayJustinBieber', 'indices': [96, 122]}, {'text': 'KhushiyanUnlocked', 'indices': [123, 141]}, {'text': 'jadeja', 'indices': [142, 149]}], 'symbols': [], 'user_mentions': [], 'urls': [{'url': 'https://t.co/vkdNGL9ywJ', 'expanded_url': 'https://kitchennhouse.com/', 'display_url': 'kitchennhouse.com', 'indices': [71, 94]}], 'media': [{'id': 1233960740052058113, 'id_str': '1233960740052058113', 'indices': [150, 173], 'media_url': 'http://pbs.twimg.com/media/ER_owVmUwAETmyL.jpg', 'media_url_https': 'https://pbs.twimg.com/media/ER_owVmUwAETmyL.jpg', 'url': 'https://t.co/XZ9HadRY4Z', 'display_url': 'pic.twitter.com/XZ9HadRY4Z', 'expanded_url': 'https://twitter.com/kitchennhouse/status/1233960908751196161/photo/1', 'type': 'photo', 'sizes': {'medium': {'w': 1200, 'h': 675, 'resize': 'fit'}, 'thumb': {'w': 150, 'h': 150, 'resize': 'crop'}, 'small': {'w': 680, 'h': 383, 'resize': 'fit'}, 'large': {'w': 1280, 'h': 720, 'resize': 'fit'}}}]}, 'extended_entities': {'media': [{'id': 1233960740052058113, 'id_str': '1233960740052058113', 'indices': [150, 173], 'media_url': 'http://pbs.twimg.com/media/ER_owVmUwAETmyL.jpg', 'media_url_https': 'https://pbs.twimg.com/media/ER_owVmUwAETmyL.jpg', 'url': 'https://t.co/XZ9HadRY4Z', 'display_url': 'pic.twitter.com/XZ9HadRY4Z', 'expanded_url': 'https://twitter.com/kitchennhouse/status/1233960908751196161/photo/1', 'type': 'photo', 'sizes': {'medium': {'w': 1200, 'h': 675, 'resize': 'fit'}, 'thumb': {'w': 150, 'h': 150, 'resize': 'crop'}, 'small': {'w': 680, 'h': 383, 'resize': 'fit'}, 'large': {'w': 1280, 'h': 720, 'resize': 'fit'}}}]}, 'metadata': {'iso_language_code': 'en', 'result_type': 'recent'}, 'source': '<a href=\"https://mobile.twitter.com\" rel=\"nofollow\">Twitter Web App</a>', 'in_reply_to_status_id': None, 'in_reply_to_status_id_str': None, 'in_reply_to_user_id': None, 'in_reply_to_user_id_str': None, 'in_reply_to_screen_name': None, 'user': {'id': 1217319591266799617, 'id_str': '1217319591266799617', 'name': 'kitchennhouse', 'screen_name': 'kitchennhouse', 'location': '', 'description': 'This is the official twitter profile of https://t.co/S3Ym2BKKRl\\nAlso follow us on\\nFB: https://t.co/AF71ZTCBAK\\nInsta: kitchennhouse_insta', 'url': 'https://t.co/S3Ym2BKKRl', 'entities': {'url': {'urls': [{'url': 'https://t.co/S3Ym2BKKRl', 'expanded_url': 'https://kitchennhouse.com/', 'display_url': 'kitchennhouse.com', 'indices': [0, 23]}]}, 'description': {'urls': [{'url': 'https://t.co/S3Ym2BKKRl', 'expanded_url': 'https://kitchennhouse.com/', 'display_url': 'kitchennhouse.com', 'indices': [40, 63]}, {'url': 'https://t.co/AF71ZTCBAK', 'expanded_url': 'https://en-gb.facebook.com/kitchennhouse', 'display_url': 'en-gb.facebook.com/kitchennhouse', 'indices': [86, 109]}]}}, 'protected': False, 'followers_count': 0, 'friends_count': 2, 'listed_count': 0, 'created_at': 'Wed Jan 15 05:36:37 +0000 2020', 'favourites_count': 1, 'utc_offset': None, 'time_zone': None, 'geo_enabled': False, 'verified': False, 'statuses_count': 46, 'lang': None, 'contributors_enabled': False, 'is_translator': False, 'is_translation_enabled': False, 'profile_background_color': 'F5F8FA', 'profile_background_image_url': None, 'profile_background_image_url_https': None, 'profile_background_tile': False, 'profile_image_url': 'http://pbs.twimg.com/profile_images/1217319762251804672/AbcVrJY3_normal.png', 'profile_image_url_https': 'https://pbs.twimg.com/profile_images/1217319762251804672/AbcVrJY3_normal.png', 'profile_link_color': '1DA1F2', 'profile_sidebar_border_color': 'C0DEED', 'profile_sidebar_fill_color': 'DDEEF6', 'profile_text_color': '333333', 'profile_use_background_image': True, 'has_extended_profile': True, 'default_profile': True, 'default_profile_image': False, 'following': False, 'follow_request_sent': False, 'notifications': False, 'translator_type': 'none'}, 'geo': None, 'coordinates': None, 'place': None, 'contributors': None, 'is_quote_status': False, 'retweet_count': 0, 'favorite_count': 1, 'favorited': False, 'retweeted': False, 'possibly_sensitive': False, 'lang': 'en'}, created_at=datetime.datetime(2020, 3, 1, 3, 43, 1), id=1233960908751196161, id_str='1233960908751196161', full_text='Ideas on  How to Make Small Bedroom Look Bigger\\n\\nFor more ideas visit: https://t.co/vkdNGL9ywJ\\n\\n#HappyBirthdayJustinBieber #KhushiyanUnlocked #jadeja https://t.co/XZ9HadRY4Z', truncated=False, display_text_range=[0, 149], entities={'hashtags': [{'text': 'HappyBirthdayJustinBieber', 'indices': [96, 122]}, {'text': 'KhushiyanUnlocked', 'indices': [123, 141]}, {'text': 'jadeja', 'indices': [142, 149]}], 'symbols': [], 'user_mentions': [], 'urls': [{'url': 'https://t.co/vkdNGL9ywJ', 'expanded_url': 'https://kitchennhouse.com/', 'display_url': 'kitchennhouse.com', 'indices': [71, 94]}], 'media': [{'id': 1233960740052058113, 'id_str': '1233960740052058113', 'indices': [150, 173], 'media_url': 'http://pbs.twimg.com/media/ER_owVmUwAETmyL.jpg', 'media_url_https': 'https://pbs.twimg.com/media/ER_owVmUwAETmyL.jpg', 'url': 'https://t.co/XZ9HadRY4Z', 'display_url': 'pic.twitter.com/XZ9HadRY4Z', 'expanded_url': 'https://twitter.com/kitchennhouse/status/1233960908751196161/photo/1', 'type': 'photo', 'sizes': {'medium': {'w': 1200, 'h': 675, 'resize': 'fit'}, 'thumb': {'w': 150, 'h': 150, 'resize': 'crop'}, 'small': {'w': 680, 'h': 383, 'resize': 'fit'}, 'large': {'w': 1280, 'h': 720, 'resize': 'fit'}}}]}, extended_entities={'media': [{'id': 1233960740052058113, 'id_str': '1233960740052058113', 'indices': [150, 173], 'media_url': 'http://pbs.twimg.com/media/ER_owVmUwAETmyL.jpg', 'media_url_https': 'https://pbs.twimg.com/media/ER_owVmUwAETmyL.jpg', 'url': 'https://t.co/XZ9HadRY4Z', 'display_url': 'pic.twitter.com/XZ9HadRY4Z', 'expanded_url': 'https://twitter.com/kitchennhouse/status/1233960908751196161/photo/1', 'type': 'photo', 'sizes': {'medium': {'w': 1200, 'h': 675, 'resize': 'fit'}, 'thumb': {'w': 150, 'h': 150, 'resize': 'crop'}, 'small': {'w': 680, 'h': 383, 'resize': 'fit'}, 'large': {'w': 1280, 'h': 720, 'resize': 'fit'}}}]}, metadata={'iso_language_code': 'en', 'result_type': 'recent'}, source='Twitter Web App', source_url='https://mobile.twitter.com', in_reply_to_status_id=None, in_reply_to_status_id_str=None, in_reply_to_user_id=None, in_reply_to_user_id_str=None, in_reply_to_screen_name=None, author=User(_api=<tweepy.api.API object at 0x000001CB3147CF98>, _json={'id': 1217319591266799617, 'id_str': '1217319591266799617', 'name': 'kitchennhouse', 'screen_name': 'kitchennhouse', 'location': '', 'description': 'This is the official twitter profile of https://t.co/S3Ym2BKKRl\\nAlso follow us on\\nFB: https://t.co/AF71ZTCBAK\\nInsta: kitchennhouse_insta', 'url': 'https://t.co/S3Ym2BKKRl', 'entities': {'url': {'urls': [{'url': 'https://t.co/S3Ym2BKKRl', 'expanded_url': 'https://kitchennhouse.com/', 'display_url': 'kitchennhouse.com', 'indices': [0, 23]}]}, 'description': {'urls': [{'url': 'https://t.co/S3Ym2BKKRl', 'expanded_url': 'https://kitchennhouse.com/', 'display_url': 'kitchennhouse.com', 'indices': [40, 63]}, {'url': 'https://t.co/AF71ZTCBAK', 'expanded_url': 'https://en-gb.facebook.com/kitchennhouse', 'display_url': 'en-gb.facebook.com/kitchennhouse', 'indices': [86, 109]}]}}, 'protected': False, 'followers_count': 0, 'friends_count': 2, 'listed_count': 0, 'created_at': 'Wed Jan 15 05:36:37 +0000 2020', 'favourites_count': 1, 'utc_offset': None, 'time_zone': None, 'geo_enabled': False, 'verified': False, 'statuses_count': 46, 'lang': None, 'contributors_enabled': False, 'is_translator': False, 'is_translation_enabled': False, 'profile_background_color': 'F5F8FA', 'profile_background_image_url': None, 'profile_background_image_url_https': None, 'profile_background_tile': False, 'profile_image_url': 'http://pbs.twimg.com/profile_images/1217319762251804672/AbcVrJY3_normal.png', 'profile_image_url_https': 'https://pbs.twimg.com/profile_images/1217319762251804672/AbcVrJY3_normal.png', 'profile_link_color': '1DA1F2', 'profile_sidebar_border_color': 'C0DEED', 'profile_sidebar_fill_color': 'DDEEF6', 'profile_text_color': '333333', 'profile_use_background_image': True, 'has_extended_profile': True, 'default_profile': True, 'default_profile_image': False, 'following': False, 'follow_request_sent': False, 'notifications': False, 'translator_type': 'none'}, id=1217319591266799617, id_str='1217319591266799617', name='kitchennhouse', screen_name='kitchennhouse', location='', description='This is the official twitter profile of https://t.co/S3Ym2BKKRl\\nAlso follow us on\\nFB: https://t.co/AF71ZTCBAK\\nInsta: kitchennhouse_insta', url='https://t.co/S3Ym2BKKRl', entities={'url': {'urls': [{'url': 'https://t.co/S3Ym2BKKRl', 'expanded_url': 'https://kitchennhouse.com/', 'display_url': 'kitchennhouse.com', 'indices': [0, 23]}]}, 'description': {'urls': [{'url': 'https://t.co/S3Ym2BKKRl', 'expanded_url': 'https://kitchennhouse.com/', 'display_url': 'kitchennhouse.com', 'indices': [40, 63]}, {'url': 'https://t.co/AF71ZTCBAK', 'expanded_url': 'https://en-gb.facebook.com/kitchennhouse', 'display_url': 'en-gb.facebook.com/kitchennhouse', 'indices': [86, 109]}]}}, protected=False, followers_count=0, friends_count=2, listed_count=0, created_at=datetime.datetime(2020, 1, 15, 5, 36, 37), favourites_count=1, utc_offset=None, time_zone=None, geo_enabled=False, verified=False, statuses_count=46, lang=None, contributors_enabled=False, is_translator=False, is_translation_enabled=False, profile_background_color='F5F8FA', profile_background_image_url=None, profile_background_image_url_https=None, profile_background_tile=False, profile_image_url='http://pbs.twimg.com/profile_images/1217319762251804672/AbcVrJY3_normal.png', profile_image_url_https='https://pbs.twimg.com/profile_images/1217319762251804672/AbcVrJY3_normal.png', profile_link_color='1DA1F2', profile_sidebar_border_color='C0DEED', profile_sidebar_fill_color='DDEEF6', profile_text_color='333333', profile_use_background_image=True, has_extended_profile=True, default_profile=True, default_profile_image=False, following=False, follow_request_sent=False, notifications=False, translator_type='none'), user=User(_api=<tweepy.api.API object at 0x000001CB3147CF98>, _json={'id': 1217319591266799617, 'id_str': '1217319591266799617', 'name': 'kitchennhouse', 'screen_name': 'kitchennhouse', 'location': '', 'description': 'This is the official twitter profile of https://t.co/S3Ym2BKKRl\\nAlso follow us on\\nFB: https://t.co/AF71ZTCBAK\\nInsta: kitchennhouse_insta', 'url': 'https://t.co/S3Ym2BKKRl', 'entities': {'url': {'urls': [{'url': 'https://t.co/S3Ym2BKKRl', 'expanded_url': 'https://kitchennhouse.com/', 'display_url': 'kitchennhouse.com', 'indices': [0, 23]}]}, 'description': {'urls': [{'url': 'https://t.co/S3Ym2BKKRl', 'expanded_url': 'https://kitchennhouse.com/', 'display_url': 'kitchennhouse.com', 'indices': [40, 63]}, {'url': 'https://t.co/AF71ZTCBAK', 'expanded_url': 'https://en-gb.facebook.com/kitchennhouse', 'display_url': 'en-gb.facebook.com/kitchennhouse', 'indices': [86, 109]}]}}, 'protected': False, 'followers_count': 0, 'friends_count': 2, 'listed_count': 0, 'created_at': 'Wed Jan 15 05:36:37 +0000 2020', 'favourites_count': 1, 'utc_offset': None, 'time_zone': None, 'geo_enabled': False, 'verified': False, 'statuses_count': 46, 'lang': None, 'contributors_enabled': False, 'is_translator': False, 'is_translation_enabled': False, 'profile_background_color': 'F5F8FA', 'profile_background_image_url': None, 'profile_background_image_url_https': None, 'profile_background_tile': False, 'profile_image_url': 'http://pbs.twimg.com/profile_images/1217319762251804672/AbcVrJY3_normal.png', 'profile_image_url_https': 'https://pbs.twimg.com/profile_images/1217319762251804672/AbcVrJY3_normal.png', 'profile_link_color': '1DA1F2', 'profile_sidebar_border_color': 'C0DEED', 'profile_sidebar_fill_color': 'DDEEF6', 'profile_text_color': '333333', 'profile_use_background_image': True, 'has_extended_profile': True, 'default_profile': True, 'default_profile_image': False, 'following': False, 'follow_request_sent': False, 'notifications': False, 'translator_type': 'none'}, id=1217319591266799617, id_str='1217319591266799617', name='kitchennhouse', screen_name='kitchennhouse', location='', description='This is the official twitter profile of https://t.co/S3Ym2BKKRl\\nAlso follow us on\\nFB: https://t.co/AF71ZTCBAK\\nInsta: kitchennhouse_insta', url='https://t.co/S3Ym2BKKRl', entities={'url': {'urls': [{'url': 'https://t.co/S3Ym2BKKRl', 'expanded_url': 'https://kitchennhouse.com/', 'display_url': 'kitchennhouse.com', 'indices': [0, 23]}]}, 'description': {'urls': [{'url': 'https://t.co/S3Ym2BKKRl', 'expanded_url': 'https://kitchennhouse.com/', 'display_url': 'kitchennhouse.com', 'indices': [40, 63]}, {'url': 'https://t.co/AF71ZTCBAK', 'expanded_url': 'https://en-gb.facebook.com/kitchennhouse', 'display_url': 'en-gb.facebook.com/kitchennhouse', 'indices': [86, 109]}]}}, protected=False, followers_count=0, friends_count=2, listed_count=0, created_at=datetime.datetime(2020, 1, 15, 5, 36, 37), favourites_count=1, utc_offset=None, time_zone=None, geo_enabled=False, verified=False, statuses_count=46, lang=None, contributors_enabled=False, is_translator=False, is_translation_enabled=False, profile_background_color='F5F8FA', profile_background_image_url=None, profile_background_image_url_https=None, profile_background_tile=False, profile_image_url='http://pbs.twimg.com/profile_images/1217319762251804672/AbcVrJY3_normal.png', profile_image_url_https='https://pbs.twimg.com/profile_images/1217319762251804672/AbcVrJY3_normal.png', profile_link_color='1DA1F2', profile_sidebar_border_color='C0DEED', profile_sidebar_fill_color='DDEEF6', profile_text_color='333333', profile_use_background_image=True, has_extended_profile=True, default_profile=True, default_profile_image=False, following=False, follow_request_sent=False, notifications=False, translator_type='none'), geo=None, coordinates=None, place=None, contributors=None, is_quote_status=False, retweet_count=0, favorite_count=1, favorited=False, retweeted=False, possibly_sensitive=False, lang='en')\n",
      "============================================================================================\n",
      "Status(_api=<tweepy.api.API object at 0x000001CB3147CF98>, _json={'created_at': 'Sun Mar 01 03:39:35 +0000 2020', 'id': 1233960046339514368, 'id_str': '1233960046339514368', 'full_text': '#Secrets_Of_Vedas\\nGod is in form Yajurved Adhyay 5, Mantra 1\\n\\n\"Agne Tanu Asi Vishnve Tva Somasya Tanur\\' Asi \"\\n#GodMorningSunday \\n\\nTo #KhushiyanUnlocked must listen @SaintRampalJiM \\nBecause only True God can do so. https://t.co/4GdXz6xZhg', 'truncated': False, 'display_text_range': [0, 213], 'entities': {'hashtags': [{'text': 'Secrets_Of_Vedas', 'indices': [0, 17]}, {'text': 'GodMorningSunday', 'indices': [110, 127]}, {'text': 'KhushiyanUnlocked', 'indices': [133, 151]}], 'symbols': [], 'user_mentions': [{'screen_name': 'SaintRampalJiM', 'name': 'Saint Rampal Ji Maharaj', 'id': 91851084, 'id_str': '91851084', 'indices': [164, 179]}], 'urls': [], 'media': [{'id': 1233960031684415489, 'id_str': '1233960031684415489', 'indices': [214, 237], 'media_url': 'http://pbs.twimg.com/media/ER_oHGuUUAEdCIk.jpg', 'media_url_https': 'https://pbs.twimg.com/media/ER_oHGuUUAEdCIk.jpg', 'url': 'https://t.co/4GdXz6xZhg', 'display_url': 'pic.twitter.com/4GdXz6xZhg', 'expanded_url': 'https://twitter.com/SachinSharma_AT/status/1233960046339514368/photo/1', 'type': 'photo', 'sizes': {'thumb': {'w': 150, 'h': 150, 'resize': 'crop'}, 'small': {'w': 680, 'h': 383, 'resize': 'fit'}, 'medium': {'w': 1200, 'h': 675, 'resize': 'fit'}, 'large': {'w': 1280, 'h': 720, 'resize': 'fit'}}}]}, 'extended_entities': {'media': [{'id': 1233960031684415489, 'id_str': '1233960031684415489', 'indices': [214, 237], 'media_url': 'http://pbs.twimg.com/media/ER_oHGuUUAEdCIk.jpg', 'media_url_https': 'https://pbs.twimg.com/media/ER_oHGuUUAEdCIk.jpg', 'url': 'https://t.co/4GdXz6xZhg', 'display_url': 'pic.twitter.com/4GdXz6xZhg', 'expanded_url': 'https://twitter.com/SachinSharma_AT/status/1233960046339514368/photo/1', 'type': 'photo', 'sizes': {'thumb': {'w': 150, 'h': 150, 'resize': 'crop'}, 'small': {'w': 680, 'h': 383, 'resize': 'fit'}, 'medium': {'w': 1200, 'h': 675, 'resize': 'fit'}, 'large': {'w': 1280, 'h': 720, 'resize': 'fit'}}}]}, 'metadata': {'iso_language_code': 'en', 'result_type': 'recent'}, 'source': '<a href=\"http://twitter.com/download/android\" rel=\"nofollow\">Twitter for Android</a>', 'in_reply_to_status_id': None, 'in_reply_to_status_id_str': None, 'in_reply_to_user_id': None, 'in_reply_to_user_id_str': None, 'in_reply_to_screen_name': None, 'user': {'id': 933341819731144704, 'id_str': '933341819731144704', 'name': 'Sachin Sharma', 'screen_name': 'SachinSharma_AT', 'location': 'New Delhi, India', 'description': 'Low Student ⚖️/ Social Worker 🇮🇳/ Motivation Speaker⚓\\nMake your passion your profession and then the sky is the the limit for your success.\\nfollow 🔙💯', 'url': None, 'entities': {'description': {'urls': []}}, 'protected': False, 'followers_count': 6766, 'friends_count': 4563, 'listed_count': 1, 'created_at': 'Wed Nov 22 14:30:05 +0000 2017', 'favourites_count': 1602, 'utc_offset': None, 'time_zone': None, 'geo_enabled': False, 'verified': False, 'statuses_count': 5417, 'lang': None, 'contributors_enabled': False, 'is_translator': False, 'is_translation_enabled': False, 'profile_background_color': 'F5F8FA', 'profile_background_image_url': None, 'profile_background_image_url_https': None, 'profile_background_tile': False, 'profile_image_url': 'http://pbs.twimg.com/profile_images/1189014941199523841/v8seKilZ_normal.jpg', 'profile_image_url_https': 'https://pbs.twimg.com/profile_images/1189014941199523841/v8seKilZ_normal.jpg', 'profile_banner_url': 'https://pbs.twimg.com/profile_banners/933341819731144704/1541057812', 'profile_link_color': '1DA1F2', 'profile_sidebar_border_color': 'C0DEED', 'profile_sidebar_fill_color': 'DDEEF6', 'profile_text_color': '333333', 'profile_use_background_image': True, 'has_extended_profile': True, 'default_profile': True, 'default_profile_image': False, 'following': False, 'follow_request_sent': False, 'notifications': False, 'translator_type': 'none'}, 'geo': None, 'coordinates': None, 'place': None, 'contributors': None, 'is_quote_status': False, 'retweet_count': 5, 'favorite_count': 6, 'favorited': False, 'retweeted': False, 'possibly_sensitive': False, 'lang': 'en'}, created_at=datetime.datetime(2020, 3, 1, 3, 39, 35), id=1233960046339514368, id_str='1233960046339514368', full_text='#Secrets_Of_Vedas\\nGod is in form Yajurved Adhyay 5, Mantra 1\\n\\n\"Agne Tanu Asi Vishnve Tva Somasya Tanur\\' Asi \"\\n#GodMorningSunday \\n\\nTo #KhushiyanUnlocked must listen @SaintRampalJiM \\nBecause only True God can do so. https://t.co/4GdXz6xZhg', truncated=False, display_text_range=[0, 213], entities={'hashtags': [{'text': 'Secrets_Of_Vedas', 'indices': [0, 17]}, {'text': 'GodMorningSunday', 'indices': [110, 127]}, {'text': 'KhushiyanUnlocked', 'indices': [133, 151]}], 'symbols': [], 'user_mentions': [{'screen_name': 'SaintRampalJiM', 'name': 'Saint Rampal Ji Maharaj', 'id': 91851084, 'id_str': '91851084', 'indices': [164, 179]}], 'urls': [], 'media': [{'id': 1233960031684415489, 'id_str': '1233960031684415489', 'indices': [214, 237], 'media_url': 'http://pbs.twimg.com/media/ER_oHGuUUAEdCIk.jpg', 'media_url_https': 'https://pbs.twimg.com/media/ER_oHGuUUAEdCIk.jpg', 'url': 'https://t.co/4GdXz6xZhg', 'display_url': 'pic.twitter.com/4GdXz6xZhg', 'expanded_url': 'https://twitter.com/SachinSharma_AT/status/1233960046339514368/photo/1', 'type': 'photo', 'sizes': {'thumb': {'w': 150, 'h': 150, 'resize': 'crop'}, 'small': {'w': 680, 'h': 383, 'resize': 'fit'}, 'medium': {'w': 1200, 'h': 675, 'resize': 'fit'}, 'large': {'w': 1280, 'h': 720, 'resize': 'fit'}}}]}, extended_entities={'media': [{'id': 1233960031684415489, 'id_str': '1233960031684415489', 'indices': [214, 237], 'media_url': 'http://pbs.twimg.com/media/ER_oHGuUUAEdCIk.jpg', 'media_url_https': 'https://pbs.twimg.com/media/ER_oHGuUUAEdCIk.jpg', 'url': 'https://t.co/4GdXz6xZhg', 'display_url': 'pic.twitter.com/4GdXz6xZhg', 'expanded_url': 'https://twitter.com/SachinSharma_AT/status/1233960046339514368/photo/1', 'type': 'photo', 'sizes': {'thumb': {'w': 150, 'h': 150, 'resize': 'crop'}, 'small': {'w': 680, 'h': 383, 'resize': 'fit'}, 'medium': {'w': 1200, 'h': 675, 'resize': 'fit'}, 'large': {'w': 1280, 'h': 720, 'resize': 'fit'}}}]}, metadata={'iso_language_code': 'en', 'result_type': 'recent'}, source='Twitter for Android', source_url='http://twitter.com/download/android', in_reply_to_status_id=None, in_reply_to_status_id_str=None, in_reply_to_user_id=None, in_reply_to_user_id_str=None, in_reply_to_screen_name=None, author=User(_api=<tweepy.api.API object at 0x000001CB3147CF98>, _json={'id': 933341819731144704, 'id_str': '933341819731144704', 'name': 'Sachin Sharma', 'screen_name': 'SachinSharma_AT', 'location': 'New Delhi, India', 'description': 'Low Student ⚖️/ Social Worker 🇮🇳/ Motivation Speaker⚓\\nMake your passion your profession and then the sky is the the limit for your success.\\nfollow 🔙💯', 'url': None, 'entities': {'description': {'urls': []}}, 'protected': False, 'followers_count': 6766, 'friends_count': 4563, 'listed_count': 1, 'created_at': 'Wed Nov 22 14:30:05 +0000 2017', 'favourites_count': 1602, 'utc_offset': None, 'time_zone': None, 'geo_enabled': False, 'verified': False, 'statuses_count': 5417, 'lang': None, 'contributors_enabled': False, 'is_translator': False, 'is_translation_enabled': False, 'profile_background_color': 'F5F8FA', 'profile_background_image_url': None, 'profile_background_image_url_https': None, 'profile_background_tile': False, 'profile_image_url': 'http://pbs.twimg.com/profile_images/1189014941199523841/v8seKilZ_normal.jpg', 'profile_image_url_https': 'https://pbs.twimg.com/profile_images/1189014941199523841/v8seKilZ_normal.jpg', 'profile_banner_url': 'https://pbs.twimg.com/profile_banners/933341819731144704/1541057812', 'profile_link_color': '1DA1F2', 'profile_sidebar_border_color': 'C0DEED', 'profile_sidebar_fill_color': 'DDEEF6', 'profile_text_color': '333333', 'profile_use_background_image': True, 'has_extended_profile': True, 'default_profile': True, 'default_profile_image': False, 'following': False, 'follow_request_sent': False, 'notifications': False, 'translator_type': 'none'}, id=933341819731144704, id_str='933341819731144704', name='Sachin Sharma', screen_name='SachinSharma_AT', location='New Delhi, India', description='Low Student ⚖️/ Social Worker 🇮🇳/ Motivation Speaker⚓\\nMake your passion your profession and then the sky is the the limit for your success.\\nfollow 🔙💯', url=None, entities={'description': {'urls': []}}, protected=False, followers_count=6766, friends_count=4563, listed_count=1, created_at=datetime.datetime(2017, 11, 22, 14, 30, 5), favourites_count=1602, utc_offset=None, time_zone=None, geo_enabled=False, verified=False, statuses_count=5417, lang=None, contributors_enabled=False, is_translator=False, is_translation_enabled=False, profile_background_color='F5F8FA', profile_background_image_url=None, profile_background_image_url_https=None, profile_background_tile=False, profile_image_url='http://pbs.twimg.com/profile_images/1189014941199523841/v8seKilZ_normal.jpg', profile_image_url_https='https://pbs.twimg.com/profile_images/1189014941199523841/v8seKilZ_normal.jpg', profile_banner_url='https://pbs.twimg.com/profile_banners/933341819731144704/1541057812', profile_link_color='1DA1F2', profile_sidebar_border_color='C0DEED', profile_sidebar_fill_color='DDEEF6', profile_text_color='333333', profile_use_background_image=True, has_extended_profile=True, default_profile=True, default_profile_image=False, following=False, follow_request_sent=False, notifications=False, translator_type='none'), user=User(_api=<tweepy.api.API object at 0x000001CB3147CF98>, _json={'id': 933341819731144704, 'id_str': '933341819731144704', 'name': 'Sachin Sharma', 'screen_name': 'SachinSharma_AT', 'location': 'New Delhi, India', 'description': 'Low Student ⚖️/ Social Worker 🇮🇳/ Motivation Speaker⚓\\nMake your passion your profession and then the sky is the the limit for your success.\\nfollow 🔙💯', 'url': None, 'entities': {'description': {'urls': []}}, 'protected': False, 'followers_count': 6766, 'friends_count': 4563, 'listed_count': 1, 'created_at': 'Wed Nov 22 14:30:05 +0000 2017', 'favourites_count': 1602, 'utc_offset': None, 'time_zone': None, 'geo_enabled': False, 'verified': False, 'statuses_count': 5417, 'lang': None, 'contributors_enabled': False, 'is_translator': False, 'is_translation_enabled': False, 'profile_background_color': 'F5F8FA', 'profile_background_image_url': None, 'profile_background_image_url_https': None, 'profile_background_tile': False, 'profile_image_url': 'http://pbs.twimg.com/profile_images/1189014941199523841/v8seKilZ_normal.jpg', 'profile_image_url_https': 'https://pbs.twimg.com/profile_images/1189014941199523841/v8seKilZ_normal.jpg', 'profile_banner_url': 'https://pbs.twimg.com/profile_banners/933341819731144704/1541057812', 'profile_link_color': '1DA1F2', 'profile_sidebar_border_color': 'C0DEED', 'profile_sidebar_fill_color': 'DDEEF6', 'profile_text_color': '333333', 'profile_use_background_image': True, 'has_extended_profile': True, 'default_profile': True, 'default_profile_image': False, 'following': False, 'follow_request_sent': False, 'notifications': False, 'translator_type': 'none'}, id=933341819731144704, id_str='933341819731144704', name='Sachin Sharma', screen_name='SachinSharma_AT', location='New Delhi, India', description='Low Student ⚖️/ Social Worker 🇮🇳/ Motivation Speaker⚓\\nMake your passion your profession and then the sky is the the limit for your success.\\nfollow 🔙💯', url=None, entities={'description': {'urls': []}}, protected=False, followers_count=6766, friends_count=4563, listed_count=1, created_at=datetime.datetime(2017, 11, 22, 14, 30, 5), favourites_count=1602, utc_offset=None, time_zone=None, geo_enabled=False, verified=False, statuses_count=5417, lang=None, contributors_enabled=False, is_translator=False, is_translation_enabled=False, profile_background_color='F5F8FA', profile_background_image_url=None, profile_background_image_url_https=None, profile_background_tile=False, profile_image_url='http://pbs.twimg.com/profile_images/1189014941199523841/v8seKilZ_normal.jpg', profile_image_url_https='https://pbs.twimg.com/profile_images/1189014941199523841/v8seKilZ_normal.jpg', profile_banner_url='https://pbs.twimg.com/profile_banners/933341819731144704/1541057812', profile_link_color='1DA1F2', profile_sidebar_border_color='C0DEED', profile_sidebar_fill_color='DDEEF6', profile_text_color='333333', profile_use_background_image=True, has_extended_profile=True, default_profile=True, default_profile_image=False, following=False, follow_request_sent=False, notifications=False, translator_type='none'), geo=None, coordinates=None, place=None, contributors=None, is_quote_status=False, retweet_count=5, favorite_count=6, favorited=False, retweeted=False, possibly_sensitive=False, lang='en')\n",
      "============================================================================================\n"
     ]
    }
   ],
   "source": [
    "# Once all the credentials are in place, use the code below to fetch the data.\n",
    "\n",
    "# Install tweepy\n",
    "# !pip install tweepy\n",
    "\n",
    "# Import the libraries\n",
    "import numpy as np\n",
    "import tweepy\n",
    "import json\n",
    "import pandas as pd\n",
    "from tweepy import OAuthHandler #OAuth open authorization (Third party protocol)\n",
    "\n",
    "# credentials  --> put your credentials here\n",
    "consumer_key = \"qlptsWKLxAJhKXnQW1dC2YEK2\"\n",
    "consumer_secret = \"FcUiScQ8Nw5Ll4fa1OBVEyNpVGvj6mxn8S5PJB11dq0UTNvAP9\"\n",
    "access_token = \"2716562274-bcg3Zb8HVxeyjQwp6DgQqjxbZOmwKFv7ylLoL37\"\n",
    "access_token_secret = \"XCPOSL8GOKP9wFuFlPdMWc4zqduo4ngqLb8oV1aBtQXAY\"\n",
    "\n",
    "# calling API\n",
    "auth = tweepy.OAuthHandler(consumer_key, consumer_secret)\n",
    "auth.set_access_token(access_token, access_token_secret)\n",
    "api = tweepy.API(auth)\n",
    "\n",
    "# Provide the query you want to pull the data. For example,\n",
    "# pulling data for \"bollywood stars\"\n",
    "query = \"#KhushiyanUnlocked\"\n",
    "\n",
    "# Fetching tweets\n",
    "Tweets = api.search(query, count = 10, lang='en', exclude='retweets',tweet_mode='extended')\n",
    "\n",
    "for tweet in Tweets:\n",
    "    print(tweet)\n",
    "    print(\"============================================================================================\")\n",
    "\n",
    "# The query above will pull the top 10 tweets when the term \"boolywood stars\" \n",
    "# is searched. The API will pull English tweets since the language \n",
    "# given is ‘en’ and it will exclude retweets."
   ]
  },
  {
   "cell_type": "markdown",
   "metadata": {},
   "source": [
    "By default, api.search returns 15 tweets,\n",
    "but if we want more tweets we can get up to 100 tweets by adding count = 100\n",
    "\n",
    "count is just one of the arguments we can play around other like the language,location, etc"
   ]
  },
  {
   "cell_type": "markdown",
   "metadata": {},
   "source": [
    "\"\"\"  \n",
    "Getting the Tweets + Some Attributes\n",
    "------------------------------------\n",
    "In this section, we will get some tweets plus some of their related attributes and store them in a structured format.\n",
    "\n",
    "If we are interested in getting more than 100 tweets at a time, which we are in our case, we will not be able to do so by just using api.search. We will need to use tweepy.Cursor which will allow us to get as many tweets as we desire. I did not get too deep into trying to understand what Cursoring does, but the general idea in our case is that it will allow us to read 100 tweets, store them in a page inherently, then read the next 100 tweets.\n",
    "\n",
    "For our purpose, the end result is that it will just keep going on fetching tweets until we ask it to stop by breaking the loop.\n",
    "\"\"\""
   ]
  },
  {
   "cell_type": "code",
   "execution_count": 6,
   "metadata": {},
   "outputs": [],
   "source": [
    "# start by creating an empty DataFrame with the columns we'll need\n",
    "df = pd.DataFrame(columns = ['Tweets', 'User', 'User_statuses_count', \n",
    "                             'user_followers', 'User_location', 'User_verified',\n",
    "                             'fav_count', 'rt_count', 'tweet_date'])\n"
   ]
  },
  {
   "cell_type": "code",
   "execution_count": 15,
   "metadata": {},
   "outputs": [],
   "source": [
    "# Next, lets define a function as follows.\n",
    "def stream(data, file_name):\n",
    "    i = 0\n",
    "    for tweet in tweepy.Cursor(api.search, q=data, count=100, lang='en').items():\n",
    "        print(i, end='\\r')#returns the cursor to the start of line \n",
    "        df.loc[i, 'Tweets'] = tweet.text\n",
    "        df.loc[i, 'User'] = tweet.user.name\n",
    "        df.loc[i, 'User_statuses_count'] = tweet.user.statuses_count  # indicates the no. of times the user as tweeted \n",
    "        df.loc[i, 'user_followers'] = tweet.user.followers_count\n",
    "        df.loc[i, 'User_location'] = tweet.user.location\n",
    "        df.loc[i, 'User_verified'] = tweet.user.verified\n",
    "        df.loc[i, 'fav_count'] = tweet.favorite_count\n",
    "        df.loc[i, 'rt_count'] = tweet.retweet_count\n",
    "        df.loc[i, 'tweet_date'] = tweet.created_at\n",
    "#         df.to_excel('{}.xlsx'.format(file_name))\n",
    "        i+=1\n",
    "        if i == 1000:\n",
    "            break\n",
    "        else:\n",
    "            pass\n"
   ]
  },
  {
   "cell_type": "markdown",
   "metadata": {},
   "source": [
    "\"\"\"\n",
    "Let's look at this function from the inside out:\n",
    "------------------------------------------------\n",
    "First, we followed the same methodology of getting each tweet in a for loop, but this time from tweepy.Cursor.\n",
    "\n",
    "Inside tweepy.Cursor, we pass our api.search and the attributes we want: q = data: data will be whatever piece of text we pass into the stream function to ask our api.search to search for just like we did passing \"food\" in the previous example.\n",
    "\n",
    "count = 100: Here we are setting the number of tweets to return to 100, via api.search, which is the maximum possible number.\n",
    "\n",
    "lang = 'en': Here I am simply filtering results to return tweets in English only.\n",
    "\n",
    "Next, I am filling my DataFrame with the attributes I am interested in and during each iteration making use of the .loc method in Pandas and my i counter.\n",
    "\n",
    "The attributes I am passing into each column are self explanatory and you can look into the Twitter API documentation for what other attributes are available and play around with those.\n",
    "\n",
    "Finally I am saving the result into an excel file using \"df.to_excel\" and here I am using a placeholder {} instead of naming the file inside the function because I want to be able to name the file myself when I run the function.\n",
    "\n",
    "Now, I can just call my function as follows, looking for tweets about food again and naming my file \"my_tweets.\"\n",
    "\n",
    "Now, since we put our api.search into tweepy.Cursor, it will not just stop at the first 100 tweets. It will instead keep going on forever; that's why we are using i as a counter to stop the loop after 1000 iterations.\n",
    "\"\"\"\n"
   ]
  },
  {
   "cell_type": "code",
   "execution_count": 16,
   "metadata": {},
   "outputs": [
    {
     "name": "stdout",
     "output_type": "stream",
     "text": [
      "999\r"
     ]
    }
   ],
   "source": [
    "\n",
    "# calling the above function \n",
    "stream(data = ['Taapsee Pannu'], file_name = 'my_tweets')\n",
    "\n",
    "\n"
   ]
  },
  {
   "cell_type": "code",
   "execution_count": 12,
   "metadata": {},
   "outputs": [
    {
     "data": {
      "text/html": [
       "<div>\n",
       "<style scoped>\n",
       "    .dataframe tbody tr th:only-of-type {\n",
       "        vertical-align: middle;\n",
       "    }\n",
       "\n",
       "    .dataframe tbody tr th {\n",
       "        vertical-align: top;\n",
       "    }\n",
       "\n",
       "    .dataframe thead th {\n",
       "        text-align: right;\n",
       "    }\n",
       "</style>\n",
       "<table border=\"1\" class=\"dataframe\">\n",
       "  <thead>\n",
       "    <tr style=\"text-align: right;\">\n",
       "      <th></th>\n",
       "      <th>Tweets</th>\n",
       "      <th>User</th>\n",
       "      <th>User_statuses_count</th>\n",
       "      <th>user_followers</th>\n",
       "      <th>User_location</th>\n",
       "      <th>User_verified</th>\n",
       "      <th>fav_count</th>\n",
       "      <th>rt_count</th>\n",
       "      <th>tweet_date</th>\n",
       "    </tr>\n",
       "  </thead>\n",
       "  <tbody>\n",
       "    <tr>\n",
       "      <th>0</th>\n",
       "      <td>RT @VertigoWarrior: Note these names. I`m not ...</td>\n",
       "      <td>Sach7511</td>\n",
       "      <td>4560</td>\n",
       "      <td>57</td>\n",
       "      <td>India</td>\n",
       "      <td>False</td>\n",
       "      <td>0</td>\n",
       "      <td>555</td>\n",
       "      <td>2020-03-01 04:30:15</td>\n",
       "    </tr>\n",
       "    <tr>\n",
       "      <th>1</th>\n",
       "      <td>#Thappad’s biggest triumph is in showing the w...</td>\n",
       "      <td>Silverscreen.in</td>\n",
       "      <td>41049</td>\n",
       "      <td>35086</td>\n",
       "      <td>India, USA</td>\n",
       "      <td>True</td>\n",
       "      <td>0</td>\n",
       "      <td>0</td>\n",
       "      <td>2020-03-01 04:30:04</td>\n",
       "    </tr>\n",
       "    <tr>\n",
       "      <th>2</th>\n",
       "      <td>#TaapseePannu also spoke of her desire to be i...</td>\n",
       "      <td>GOODTIMES</td>\n",
       "      <td>31965</td>\n",
       "      <td>180396</td>\n",
       "      <td>India</td>\n",
       "      <td>True</td>\n",
       "      <td>0</td>\n",
       "      <td>0</td>\n",
       "      <td>2020-03-01 04:30:00</td>\n",
       "    </tr>\n",
       "    <tr>\n",
       "      <th>3</th>\n",
       "      <td>RT @HindustanTimes: Thappad box office day 2: ...</td>\n",
       "      <td>☯‿☯༎ຶᗩෆriT༎ຶ</td>\n",
       "      <td>3480</td>\n",
       "      <td>390</td>\n",
       "      <td>Follow Dance Studio &amp; Arts</td>\n",
       "      <td>False</td>\n",
       "      <td>0</td>\n",
       "      <td>1</td>\n",
       "      <td>2020-03-01 04:25:05</td>\n",
       "    </tr>\n",
       "    <tr>\n",
       "      <th>4</th>\n",
       "      <td>#Thappad box office day 2: @taapsee film sees ...</td>\n",
       "      <td>HT Entertainment</td>\n",
       "      <td>92339</td>\n",
       "      <td>176475</td>\n",
       "      <td>India</td>\n",
       "      <td>True</td>\n",
       "      <td>5</td>\n",
       "      <td>0</td>\n",
       "      <td>2020-03-01 04:21:04</td>\n",
       "    </tr>\n",
       "  </tbody>\n",
       "</table>\n",
       "</div>"
      ],
      "text/plain": [
       "                                              Tweets              User  \\\n",
       "0  RT @VertigoWarrior: Note these names. I`m not ...          Sach7511   \n",
       "1  #Thappad’s biggest triumph is in showing the w...   Silverscreen.in   \n",
       "2  #TaapseePannu also spoke of her desire to be i...         GOODTIMES   \n",
       "3  RT @HindustanTimes: Thappad box office day 2: ...      ☯‿☯༎ຶᗩෆriT༎ຶ   \n",
       "4  #Thappad box office day 2: @taapsee film sees ...  HT Entertainment   \n",
       "\n",
       "  User_statuses_count user_followers               User_location  \\\n",
       "0                4560             57                       India   \n",
       "1               41049          35086                  India, USA   \n",
       "2               31965         180396                       India   \n",
       "3                3480            390  Follow Dance Studio & Arts   \n",
       "4               92339         176475                       India   \n",
       "\n",
       "  User_verified fav_count rt_count           tweet_date  \n",
       "0         False         0      555  2020-03-01 04:30:15  \n",
       "1          True         0        0  2020-03-01 04:30:04  \n",
       "2          True         0        0  2020-03-01 04:30:00  \n",
       "3         False         0        1  2020-03-01 04:25:05  \n",
       "4          True         5        0  2020-03-01 04:21:04  "
      ]
     },
     "execution_count": 12,
     "metadata": {},
     "output_type": "execute_result"
    }
   ],
   "source": [
    "# view first 5 records\n",
    "df.head()"
   ]
  },
  {
   "cell_type": "markdown",
   "metadata": {},
   "source": [
    "\"\"\"\n",
    "Let's Analyze Some Tweets\n",
    "--------------------------\n",
    "\"\"\""
   ]
  },
  {
   "cell_type": "code",
   "execution_count": 26,
   "metadata": {},
   "outputs": [],
   "source": [
    "# importing TextBlob. It has build-in sentiment property\n",
    "from textblob import TextBlob\n",
    "\n",
    "\n",
    "# The sentiment property returns a named tuple of the form \n",
    "# Sentiment(polarity,subjectivity). The polarity score is a float \n",
    "# within the range [-1.0, 1.0]. \n",
    "# The subjectivity is a float within the range [0.0, 1.0] \n",
    "# where 0.0 is very objective and 1.0 is very subjective.\n"
   ]
  },
  {
   "cell_type": "markdown",
   "metadata": {},
   "source": [
    "\"\"\"\n",
    "I would like to add an extra column to this DataFrame that indicates the sentiment of a tweet.\n",
    "\n",
    "We will also need to add another column with the tweets stripped of useless symbols, then run the sentiment analyzer on those cleaned up tweets to be more effective.\n",
    "\"\"\""
   ]
  },
  {
   "cell_type": "code",
   "execution_count": 27,
   "metadata": {},
   "outputs": [],
   "source": [
    "# Let's start by writing our tweets cleaning function:\n",
    "import re\n",
    "def clean_tweet(tweet):\n",
    "    return ' '.join(re.sub('(@[A-Za-z0-9]+)|([^0-9A-Za-z \\t])|(\\w+:\\/\\/\\S+)', ' ', tweet).split())\n"
   ]
  },
  {
   "cell_type": "code",
   "execution_count": 28,
   "metadata": {},
   "outputs": [],
   "source": [
    "# Let's also write our sentiment analyzer function:\n",
    "def analyze_sentiment(tweet):\n",
    "    analysis = TextBlob(tweet)\n",
    "    if analysis.sentiment.polarity > 0:\n",
    "        return 'Positive'\n",
    "    elif analysis.sentiment.polarity ==0:\n",
    "        return 'Neutral'\n",
    "    else:\n",
    "        return 'Negative'\n"
   ]
  },
  {
   "cell_type": "code",
   "execution_count": 29,
   "metadata": {},
   "outputs": [],
   "source": [
    "# Now let's create our new columns:\n",
    "df['clean_tweet'] = df['Tweets'].apply(lambda x: clean_tweet(x))\n",
    "df['Sentiment'] = df['clean_tweet'].apply(lambda x: analyze_sentiment(x))\n"
   ]
  },
  {
   "cell_type": "code",
   "execution_count": 30,
   "metadata": {},
   "outputs": [
    {
     "name": "stdout",
     "output_type": "stream",
     "text": [
      "Original tweet:\n",
      "RT @bhaveshkjha: #TheKapilSharmaShow Sharma ji your today's TRP is going to be very low as u have invited Paapsi Pannu and  Sinha\n",
      "@KapilSha…\n",
      "\n",
      "Clean tweet:\n",
      "RT TheKapilSharmaShow Sharma ji your today s TRP is going to be very low as u have invited Paapsi Pannu and Sinha\n",
      "\n",
      "Sentiment:\n",
      "Neutral\n"
     ]
    }
   ],
   "source": [
    "# Let's look at some random rows to make sure our functions worked correctly.\n",
    "\n",
    "# Example (300th row):\n",
    "n=300\n",
    "print('Original tweet:\\n'+ df['Tweets'][n])\n",
    "print()\n",
    "print('Clean tweet:\\n'+df['clean_tweet'][n])\n",
    "print()\n",
    "print('Sentiment:\\n'+df['Sentiment'][n])\n"
   ]
  },
  {
   "cell_type": "markdown",
   "metadata": {},
   "source": [
    "\"\"\"\n",
    "------------------------------------------------\n",
    "Extra Good reading : (for those who want to become \"Data Scientist\" quickly)\n",
    "https://towardsdatascience.com/extracting-twitter-data-pre-processing-and-sentiment-analysis-using-python-3-0-7192bd8b47cf\n",
    "\"\"\""
   ]
  },
  {
   "cell_type": "code",
   "execution_count": 31,
   "metadata": {},
   "outputs": [
    {
     "data": {
      "text/plain": [
       "240"
      ]
     },
     "execution_count": 31,
     "metadata": {},
     "output_type": "execute_result"
    }
   ],
   "source": [
    "df[df.Sentiment=='Positive'].shape[0]"
   ]
  },
  {
   "cell_type": "code",
   "execution_count": 32,
   "metadata": {},
   "outputs": [
    {
     "data": {
      "text/plain": [
       "716"
      ]
     },
     "execution_count": 32,
     "metadata": {},
     "output_type": "execute_result"
    }
   ],
   "source": [
    "df[df.Sentiment=='Neutral'].shape[0]"
   ]
  },
  {
   "cell_type": "code",
   "execution_count": 33,
   "metadata": {},
   "outputs": [
    {
     "data": {
      "text/plain": [
       "44"
      ]
     },
     "execution_count": 33,
     "metadata": {},
     "output_type": "execute_result"
    }
   ],
   "source": [
    "df[df.Sentiment=='Negative'].shape[0]"
   ]
  },
  {
   "cell_type": "code",
   "execution_count": null,
   "metadata": {},
   "outputs": [],
   "source": []
  }
 ],
 "metadata": {
  "kernelspec": {
   "display_name": "Python 3",
   "language": "python",
   "name": "python3"
  },
  "language_info": {
   "codemirror_mode": {
    "name": "ipython",
    "version": 3
   },
   "file_extension": ".py",
   "mimetype": "text/x-python",
   "name": "python",
   "nbconvert_exporter": "python",
   "pygments_lexer": "ipython3",
   "version": "3.6.5"
  }
 },
 "nbformat": 4,
 "nbformat_minor": 2
}
