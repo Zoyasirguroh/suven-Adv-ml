{
 "cells": [
  {
   "cell_type": "markdown",
   "metadata": {},
   "source": [
    "Collecting Data from PDFs and Text Documents\n",
    "--------------------------------------------------------------------\n",
    "\n",
    "Collecting Data from PDFs\n",
    "-------------------------------------\n",
    "Most of the time your data will be stored as PDF files. We need to extract\n",
    "text from these files and store it for further analysis.\n",
    "\n",
    "Problem\n",
    "------------\n",
    "You want to read a PDF file.\n",
    "\n",
    "Solution\n",
    "------------\n",
    "The simplest way to do this is by using the PyPDF2 library.\n",
    "\n",
    "How It Works\n",
    "-------------------\n",
    "Let’s follow the steps in this section to extract data from PDF files.\n",
    "\n"
   ]
  },
  {
   "cell_type": "code",
   "execution_count": 1,
   "metadata": {},
   "outputs": [
    {
     "name": "stdout",
     "output_type": "stream",
     "text": [
      "Requirement already satisfied: PyPDF2 in c:\\program files\\python36\\lib\\site-packages (1.26.0)\n"
     ]
    },
    {
     "name": "stderr",
     "output_type": "stream",
     "text": [
      "WARNING: You are using pip version 19.3.1; however, version 20.0.2 is available.\n",
      "You should consider upgrading via the 'python -m pip install --upgrade pip' command.\n"
     ]
    }
   ],
   "source": [
    "# Install and import all the necessary libraries.\n",
    "!pip install PyPDF2\n",
    "import PyPDF2\n",
    "from PyPDF2 import PdfFileReader"
   ]
  },
  {
   "cell_type": "code",
   "execution_count": 2,
   "metadata": {},
   "outputs": [
    {
     "name": "stdout",
     "output_type": "stream",
     "text": [
      "1\n",
      "One minute read on Web Scrapping\n",
      " \n",
      "Page \n",
      "1\n",
      " \n",
      " \n",
      "1 minute read on Web scraping\n",
      " \n",
      " \n",
      "Web scraping is a term used to describe the use of a program or algorithm to extract and process large \n",
      "amounts of data from the web. \n",
      " \n",
      "Whether you are a data scientist, engineer, or anybody who analyzes large amounts of datasets, the \n",
      "ability to scrape data from the web is a useful skill to have. \n",
      " \n",
      "Let's say you find data from the web, and there is no direct way to download it, web scraping\n",
      " \n",
      "using \n",
      "Python is a skill you can use to extract the data into a useful form that can be imported.\n",
      " \n",
      "\n",
      "Training \n",
      "batch\n",
      "!!\n",
      " \n",
      "Schedule on \n",
      "https://training.suven.net\n",
      " \n",
      " \n",
      "and \n",
      " \n",
      "here\n",
      " \n",
      " \n",
      " \n",
      "\n"
     ]
    }
   ],
   "source": [
    "# Now we extract the text.\n",
    "\n",
    "# Creating a pdf file object\n",
    "pdf = open(\"sample.pdf\",\"rb\") \n",
    "# opening the file in read-binary mode\n",
    "\n",
    "#creating pdf reader object\n",
    "pdf_reader = PyPDF2.PdfFileReader(pdf)\n",
    "\n",
    "#checking number of pages in a pdf file\n",
    "print(pdf_reader.numPages)\n",
    "\n",
    "#creating a page object\n",
    "page = pdf_reader.getPage(0)\n",
    "\n",
    "#finally extracting text from the page\n",
    "print(page.extractText())\n",
    "\n",
    "#closing the pdf file\n",
    "pdf.close()"
   ]
  },
  {
   "cell_type": "markdown",
   "metadata": {},
   "source": [
    "Note : \n",
    "-------\n",
    "\n",
    "> 1> Please note that the function above doesn’t work for scanned PDFs or Images. PyPDF2 does not have a way to extract images, charts, or other media from PDF documents, but it can extract text and return it as a Python string.\n",
    "\n",
    "> 2> PyPDF2 cannot insert pages in the middle of a PdfFileWriter object; the addPage() method will only add pages to the end."
   ]
  },
  {
   "cell_type": "markdown",
   "metadata": {},
   "source": [
    "Collecting Data from Word Files\n",
    "----------------------------------------------\n",
    "\n",
    "Problem\n",
    "-------------\n",
    "You want to read Word files.\n",
    "\n",
    "Solution\n",
    "------------\n",
    "The simplest way to do this is by using the python-docx module.\n",
    "\n",
    "How It Works\n",
    "-------------------\n",
    "Python can create and modify Word documents, which have the .docx file extension, with the python-docx module. "
   ]
  },
  {
   "cell_type": "code",
   "execution_count": 3,
   "metadata": {},
   "outputs": [
    {
     "name": "stdout",
     "output_type": "stream",
     "text": [
      "Requirement already satisfied: python-docx in c:\\program files\\python36\\lib\\site-packages (0.8.10)\n",
      "Requirement already satisfied: lxml>=2.3.2 in c:\\program files\\python36\\lib\\site-packages (from python-docx) (4.4.2)\n"
     ]
    },
    {
     "name": "stderr",
     "output_type": "stream",
     "text": [
      "WARNING: You are using pip version 19.3.1; however, version 20.0.2 is available.\n",
      "You should consider upgrading via the 'python -m pip install --upgrade pip' command.\n"
     ]
    }
   ],
   "source": [
    "# You can install the module by running \n",
    "!pip install python-docx\n",
    "# this will install 2 packages : lxml and python-docx"
   ]
  },
  {
   "cell_type": "code",
   "execution_count": 4,
   "metadata": {},
   "outputs": [
    {
     "name": "stdout",
     "output_type": "stream",
     "text": [
      "#paras in C:\\Program Files\\Python36\\suven\\Adv ML\\datasets\\datasets\\demo.docx is 7\n"
     ]
    }
   ],
   "source": [
    "#--use file \"demo.docx\" for this code\n",
    "import docx\n",
    "\n",
    "## your code goes here\n",
    "fileName = 'C:\\Program Files\\Python36\\suven\\Adv ML\\datasets\\datasets\\demo.docx'\n",
    "\n",
    "doc = docx.Document(fileName)\n",
    "\n",
    "len_of_docx = len(doc.paragraphs)\n",
    "\n",
    "print(f\"#paras in {fileName} is {len_of_docx}\")\n",
    "\n",
    "# The Document object contains a list of Paragraph object\n",
    "\n",
    "\n",
    "# for the paragraphs in the document\n",
    "\n",
    "\n",
    "# The Document object contains a list of Paragraph objects \n",
    "# for the paragraphs in the document."
   ]
  },
  {
   "cell_type": "code",
   "execution_count": 5,
   "metadata": {},
   "outputs": [
    {
     "name": "stdout",
     "output_type": "stream",
     "text": [
      "first Line of C:\\Program Files\\Python36\\suven\\Adv ML\\datasets\\datasets\\demo.docx is Document Title\n",
      "Next Line of C:\\Program Files\\Python36\\suven\\Adv ML\\datasets\\datasets\\demo.docx is A plain paragraph with some bold and some italic. This is the second line !!\n"
     ]
    }
   ],
   "source": [
    "# python-docx lib treats the entire word doc as DOM\n",
    "# where Document is the root and refers to entire doc\n",
    "# and every element there-after is a child to the root\n",
    "\n",
    "line_1 = doc.paragraphs[0].text      # picks all the text matter.\n",
    "print(f\"first Line of {fileName} is {line_1}\")\n",
    "\n",
    "\n",
    "# then the second line would be \n",
    "line_2 = doc.paragraphs[1].text\n",
    "print(f\"Next Line of {fileName} is {line_2}\")"
   ]
  },
  {
   "cell_type": "code",
   "execution_count": 6,
   "metadata": {},
   "outputs": [
    {
     "name": "stdout",
     "output_type": "stream",
     "text": [
      "number of runs in second line is 6\n",
      "A plain paragraph with some\n",
      " \n",
      "bold\n",
      " and some \n",
      "italic\n",
      ". This is the second line !!\n",
      "--------------------------------------\n",
      "reading all text contents in the file\n",
      " Document Title\n",
      " A plain paragraph with some bold and some italic. This is the second line !!\n",
      " Heading, level 1\n",
      " Intense quote\n",
      " first item in unordered list\n",
      " first item in ordered list\n",
      " \n",
      "\n"
     ]
    }
   ],
   "source": [
    "# Each of these Paragraph objects contains a list of one \n",
    "# or more Run objects. A Run object is a contiguous run \n",
    "# of text with the same style.\n",
    "num_of_textStyles_in_second_line = len(doc.paragraphs[1].runs)\n",
    "print(f\"number of runs in second line is {num_of_textStyles_in_second_line}\")\n",
    "\n",
    "\n",
    "#--printing all runs in 2nd para\n",
    "for i in range(0,num_of_textStyles_in_second_line):\n",
    "    print(doc.paragraphs[1].runs[i].text)\n",
    "\n",
    "print(\"--------------------------------------\")\n",
    "print(\"reading all text contents in the file\")\n",
    "\n",
    "# defining a fn to read the entire file as text\n",
    "def getText(filename):\n",
    "    doc = docx.Document(filename)\n",
    "    fullText = []\n",
    "    for para in doc.paragraphs:\n",
    "        fullText.append(' ' + para.text)\n",
    "    return '\\n'.join(fullText) # joining all string elements of the \n",
    "                               # array by \\n\n",
    "\n",
    "#--call the above function\n",
    "print(getText(fileName))"
   ]
  },
  {
   "cell_type": "markdown",
   "metadata": {},
   "source": [
    "Note : \n",
    "-------\n",
    "\n",
    "> Conceptually, Word documents have two layers, a text layer and a drawing layer. In the text layer, text objects are flowed from left to right and from top to bottom, starting a new page when the prior one is filled. In the drawing layer, drawing objects, called shapes, are placed at arbitrary positions. These are sometimes referred to as floating shapes.\n",
    "\n",
    "> A picture is a shape that can appear in either the text or drawing layer. When it appears in the text layer it is called an inline shape, or more  specifically, an inline picture.\n",
    "\n",
    "> Inline shapes are treated like a big text character (a character glyph).python-docx only supports inline pictures. we can only add. Not get or remove or process the images.\n",
    "\n",
    "> Hence for extracting images use docx2txt (all these codes were covered in the Python-Core+Advanced Course , Refer Chapter 9)"
   ]
  }
 ],
 "metadata": {
  "kernelspec": {
   "display_name": "Python 3",
   "language": "python",
   "name": "python3"
  },
  "language_info": {
   "codemirror_mode": {
    "name": "ipython",
    "version": 3
   },
   "file_extension": ".py",
   "mimetype": "text/x-python",
   "name": "python",
   "nbconvert_exporter": "python",
   "pygments_lexer": "ipython3",
   "version": "3.6.5"
  }
 },
 "nbformat": 4,
 "nbformat_minor": 2
}
